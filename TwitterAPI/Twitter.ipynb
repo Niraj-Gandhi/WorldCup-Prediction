{
 "cells": [
  {
   "cell_type": "code",
   "execution_count": 403,
   "metadata": {},
   "outputs": [],
   "source": [
    "import tweepy\n",
    "import nltk\n",
    "import re\n",
    "from nltk.corpus import stopwords"
   ]
  },
  {
   "cell_type": "code",
   "execution_count": 404,
   "metadata": {},
   "outputs": [],
   "source": [
    "consumer_key = \"wdCgGygFbK3mwuiPebsdbZG08\"\n",
    "consumer_secret = \"M6gTeeQURkRNrakI0QGPCmzVmgna5FsBexCvU0lE5zPPjIDVi7\"\n",
    "\n",
    "access_token_key = \"1003694170966503427-elgznJyfa1j633TQ9nphpTETp3h0ss\"\n",
    "access_token_secret = \"tvaJsPeE2VxKxbf0Uzm37Cv3jYuYoJd8LnoXTuyrlmIlt\""
   ]
  },
  {
   "cell_type": "code",
   "execution_count": 405,
   "metadata": {},
   "outputs": [],
   "source": [
    "auth = tweepy.OAuthHandler(consumer_key, consumer_secret)\n",
    "auth.set_access_token(access_token_key, access_token_secret)\n",
    "\n",
    "api = tweepy.API(auth)"
   ]
  },
  {
   "cell_type": "code",
   "execution_count": null,
   "metadata": {},
   "outputs": [],
   "source": []
  },
  {
   "cell_type": "code",
   "execution_count": 406,
   "metadata": {},
   "outputs": [],
   "source": [
    "badwords = set(stopwords.words(\"english\"))\n",
    "stopwords = [i for i in badwords]\n",
    "new = [\"#\", \":\", \"href\", \"https\", \"(\", \")\", \"...\", \".\", \"rt\", \"``\", \",\", \"''\", \"-\", \"?\", \"!\", \"'s\", \"'i\", \"'\",\n",
    "      \"|\", \"//\", \";\", \"&\", \"%\", \"[\", \"]\", \"{\", \"}\", \"`\", \"’\", \"n't\"]\n",
    "stopwords += new\n",
    "\n",
    "emoji_pattern = re.compile(\"[\"\n",
    "        u\"\\U0001F600-\\U0001F64F\"  # emoticons\n",
    "        u\"\\U0001F300-\\U0001F5FF\"  # symbols & pictographs\n",
    "        u\"\\U0001F680-\\U0001F6FF\"  # transport & map symbols\n",
    "        u\"\\U0001F1E0-\\U0001F1FF\"  # flags (iOS)\n",
    "                           \"]+\", flags=re.UNICODE)"
   ]
  },
  {
   "cell_type": "code",
   "execution_count": 407,
   "metadata": {},
   "outputs": [],
   "source": [
    "def clean(text):\n",
    "    tokens = nltk.word_tokenize(text.lower())\n",
    "    clean = []\n",
    "    ret = ''\n",
    "    for i in tokens:\n",
    "        if i not in stopwords:\n",
    "            clean.append(i)\n",
    "\n",
    "    for i in range(len(clean)):\n",
    "\n",
    "        try:\n",
    "            if \"@\" in clean[i]:\n",
    "                del clean[i]\n",
    "                del clean[i]\n",
    "            elif len(clean[i]) > 13:\n",
    "                del clean[i]\n",
    "        except:\n",
    "            pass\n",
    "        \n",
    "    for i in clean:\n",
    "        ret += str(i)\n",
    "        ret += ' '\n",
    "        \n",
    "    return emoji_pattern.sub(r'', ret)\n",
    "    \n",
    "\n",
    "\n",
    "def get_tweet(team, count):\n",
    "    answer = []\n",
    "    results = api.search(q=\"World Cup \"+str(team), lang=\"en\", count=count)\n",
    "    for result in results:\n",
    "        answer.append(clean(result.text))\n",
    "    \n",
    "    #return results[0]\n",
    "    return answer"
   ]
  },
  {
   "cell_type": "code",
   "execution_count": 408,
   "metadata": {
    "scrolled": false
   },
   "outputs": [
    {
     "data": {
      "text/plain": [
       "['start england goalkeeper world cup   jordan pickford ❤️ fav jack butland //t.co/… ',\n",
       " 'england wo walk pitch players suffer racial abuse world cup says gareth southgate ',\n",
       " '**competition** win official england shirt simply follow us amp retweet post chance win read more… ',\n",
       " '***world cup fever hits england*** fathers day approaches treat dad special man your… ',\n",
       " 'breaking gareth southgate confirmed danny rose expressed concerns racism russia england world cup… ',\n",
       " 'leroy sane included germany world cup squad martial lacazette included france world cup squad ic… ',\n",
       " \"friend playing england songs college amp asked playing amp like cause we'r… \",\n",
       " '26y 18d nigeria 25y 336d france 26y 10d 23-man squad younger average age england 26y 1… ',\n",
       " '18th day england first game world cup excited ⚽️ ',\n",
       " 'soccer england rotate world cup squad costa rica evertonfc efc ',\n",
       " 'greatest country best national anthem nine days world cup bring three lions shirt come england… ',\n",
       " 'tomorrow live 7.30pm final warm-up game costa rica elland road //t.co… ',\n",
       " 'start england goalkeeper world cup   jordan pickford ❤️ fav jack butland //t.co/… ',\n",
       " 'fifa world cup moments 110 goal/iconic – diego maradona argentina 1986 world cup argentina 2-1 england sim… ',\n",
       " 'proud england no.7 going world cup jlingz 🦁🦁🦁 ',\n",
       " \"'ve got customised beer world cup match san miguel spain play spanish becks for… \",\n",
       " 'england nation world cup players outside domestic league ',\n",
       " 'proud england no.7 going world cup jlingz 🦁🦁🦁 ',\n",
       " 'start england goalkeeper world cup   jordan pickford ❤️ fav jack butland //t.co/… ',\n",
       " 'unbelievable 2002 world cup france thierry henry djibril cisse david trezeguet top scorers i… ',\n",
       " 'unbelievable 2002 world cup france thierry henry djibril cisse david trezeguet top scorers i… ',\n",
       " 'new world cup shirts store come players number front name and… ',\n",
       " 'big vic ready world cup england kit ',\n",
       " 'england fans going last friendly world cup played leeds tommy robinson arr… ',\n",
       " 'breaking gareth southgate confirmed danny rose expressed concerns racism russia england world cup… ',\n",
       " ' family footballing royalty supporters joined together today celebrate life efc legend world c… ',\n",
       " 'england nation world cup players outside domestic league ',\n",
       " 'heard name ring around stadium fans england celebrated winning world cup fmm18 ',\n",
       " 'happy get england tickets tomorrow never excited world cup ever ',\n",
       " 'england manager gareth southgate says idealistic response players racially abused world c… ']"
      ]
     },
     "execution_count": 408,
     "metadata": {},
     "output_type": "execute_result"
    }
   ],
   "source": [
    "a = get_tweet(\"England\", 30)\n",
    "a"
   ]
  },
  {
   "cell_type": "code",
   "execution_count": null,
   "metadata": {},
   "outputs": [],
   "source": []
  },
  {
   "cell_type": "code",
   "execution_count": null,
   "metadata": {},
   "outputs": [],
   "source": []
  },
  {
   "cell_type": "code",
   "execution_count": null,
   "metadata": {},
   "outputs": [],
   "source": []
  },
  {
   "cell_type": "code",
   "execution_count": null,
   "metadata": {},
   "outputs": [],
   "source": []
  }
 ],
 "metadata": {
  "kernelspec": {
   "display_name": "Python 3",
   "language": "python",
   "name": "python3"
  },
  "language_info": {
   "codemirror_mode": {
    "name": "ipython",
    "version": 3
   },
   "file_extension": ".py",
   "mimetype": "text/x-python",
   "name": "python",
   "nbconvert_exporter": "python",
   "pygments_lexer": "ipython3",
   "version": "3.6.5"
  }
 },
 "nbformat": 4,
 "nbformat_minor": 2
}
