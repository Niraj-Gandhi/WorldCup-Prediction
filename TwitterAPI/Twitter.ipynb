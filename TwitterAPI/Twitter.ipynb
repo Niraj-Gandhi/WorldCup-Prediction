{
 "cells": [
  {
   "cell_type": "code",
   "execution_count": 1,
   "metadata": {},
   "outputs": [],
   "source": [
    "import tweepy\n",
    "import nltk\n",
    "import re\n",
    "from nltk.corpus import stopwords"
   ]
  },
  {
   "cell_type": "code",
   "execution_count": 2,
   "metadata": {},
   "outputs": [],
   "source": [
    "consumer_key = \"wdCgGygFbK3mwuiPebsdbZG08\"\n",
    "consumer_secret = \"M6gTeeQURkRNrakI0QGPCmzVmgna5FsBexCvU0lE5zPPjIDVi7\"\n",
    "\n",
    "access_token_key = \"1003694170966503427-elgznJyfa1j633TQ9nphpTETp3h0ss\"\n",
    "access_token_secret = \"tvaJsPeE2VxKxbf0Uzm37Cv3jYuYoJd8LnoXTuyrlmIlt\""
   ]
  },
  {
   "cell_type": "code",
   "execution_count": 3,
   "metadata": {},
   "outputs": [],
   "source": [
    "auth = tweepy.OAuthHandler(consumer_key, consumer_secret)\n",
    "auth.set_access_token(access_token_key, access_token_secret)\n",
    "\n",
    "api = tweepy.API(auth)"
   ]
  },
  {
   "cell_type": "code",
   "execution_count": null,
   "metadata": {},
   "outputs": [],
   "source": []
  },
  {
   "cell_type": "code",
   "execution_count": 4,
   "metadata": {},
   "outputs": [],
   "source": [
    "badwords = set(stopwords.words(\"english\"))\n",
    "stopwords = [i for i in badwords]\n",
    "new = [\"#\", \":\", \"href\", \"https\", \"(\", \")\", \"...\", \".\", \"rt\", \"``\", \",\", \"''\", \"-\", \"?\", \"!\", \"'s\", \"'i\", \"'\",\n",
    "      \"|\", \"//\", \";\", \"&\", \"%\", \"[\", \"]\", \"{\", \"}\", \"`\", \"’\", \"n't\"]\n",
    "stopwords += new\n",
    "\n",
    "emoji_pattern = re.compile(\"[\"\n",
    "        u\"\\U0001F600-\\U0001F64F\"  # emoticons\n",
    "        u\"\\U0001F300-\\U0001F5FF\"  # symbols & pictographs\n",
    "        u\"\\U0001F680-\\U0001F6FF\"  # transport & map symbols\n",
    "        u\"\\U0001F1E0-\\U0001F1FF\"  # flags (iOS)\n",
    "                           \"]+\", flags=re.UNICODE)"
   ]
  },
  {
   "cell_type": "code",
   "execution_count": 7,
   "metadata": {},
   "outputs": [],
   "source": [
    "def clean(text):\n",
    "    tokens = nltk.word_tokenize(text.lower())\n",
    "    clean = []\n",
    "    ret = ''\n",
    "    for i in tokens:\n",
    "        if i not in stopwords:\n",
    "            clean.append(i)\n",
    "\n",
    "    for i in range(len(clean)):\n",
    "\n",
    "        try:\n",
    "            if \"@\" in str(clean[i]):\n",
    "                del clean[i]\n",
    "                del clean[i]\n",
    "            elif len(clean[i]) > 13:\n",
    "                del clean[i]\n",
    "        except:\n",
    "            pass\n",
    "        \n",
    "    for i in clean:\n",
    "        ret += str(i)\n",
    "        ret += ' '\n",
    "        \n",
    "    return emoji_pattern.sub(r'', ret)\n",
    "    \n",
    "\n",
    "\n",
    "def get_tweet(team, count):\n",
    "    answer = []\n",
    "    results = api.search(q=\"World Cup \"+str(team), lang=\"en\", count=count)\n",
    "    for result in results:\n",
    "        answer.append(clean(result.text))\n",
    "    \n",
    "    #return results[0]\n",
    "    return answer"
   ]
  },
  {
   "cell_type": "code",
   "execution_count": 11,
   "metadata": {
    "scrolled": false
   },
   "outputs": [
    {
     "data": {
      "text/plain": [
       "['day 1970 england narrowly lost brazil world cup gordon banks produced one famous… ',\n",
       " 'greatest country best national anthem nine days world cup bring three lions shirt come england… ',\n",
       " 'reason number 231050 hope england get absolutely obliterated world cup roll august ffs ',\n",
       " 'world cup onthisday 2002 england beat argentina 1-0 japan michael owen tumbles tackle mauricio poche… ',\n",
       " 'england world cup song year tho ',\n",
       " \"ca wait world cup 'll pop watching every england game cheering boys jes… \",\n",
       " 'prince william visits england squad presents trent match shirt http… ',\n",
       " 'ca wait england win world cup say biggest story football muppets ',\n",
       " 'grateful danny rose opening depression please want men know ok ta… ',\n",
       " 'england vs belgium fifa 18 world cup russia 2018 via ',\n",
       " 'world cup fever well truly kicked england shirts next weeks 🦁🦁🦁 ',\n",
       " \"world cup 2018 england 'have 4 chance winning russia' football england worldcup \",\n",
       " 'teams rooting world cup england portugal nigeria france belgium ',\n",
       " 'grateful danny rose opening depression please want men know ok ta… ',\n",
       " 'proud lad  well deserved putting shirt fifa world cup  threelions ',\n",
       " 'england vs costa rica live updates world cup warm-up match elland road //t.co/jyz… ',\n",
       " 'world cup onthisday 2002 england beat argentina 1-0 japan michael owen tumbles tackle mauricio poche… ',\n",
       " 'mike buy england home shirts get world cup spirit ya lions- andy ',\n",
       " 'uwe seelers header v england 1970 wc best header every world cup ',\n",
       " 'greatest country best national anthem nine days world cup bring three lions shirt come england… ',\n",
       " 'takes courageous man open mental health struggles danny rose weakness s… ',\n",
       " 'grateful danny rose opening depression please want men know ok ta… ',\n",
       " 'england vs costa rica live updates world cup warm-up match elland road ',\n",
       " '“ pressures high demands football emotions 7 days week impact wel… ',\n",
       " 'today yeah pretty excited world cup think england alright win even one knockout game i… ',\n",
       " 'sad racism led ',\n",
       " 'proud england no.7 going world cup jlingz 🦁🦁🦁 ',\n",
       " 'england v. costa rica pre- world cup international friendly elland road stadium leeds england @ england… ',\n",
       " 'brazil germany n maybe spain seem like surest bet win world cup 17odds england win world… ',\n",
       " 'start england goalkeeper world cup   jordan pickford ❤️ fav jack butland //t.co/… ',\n",
       " 'officially hate england world cup ',\n",
       " 'know imagine would like world cup celebrations would bonkers wc18 ',\n",
       " 'england win fifa world cup give everyone $ 100 ',\n",
       " 'best luck tonight playing ellandroad leeds threelions warming world cup aga… ',\n",
       " 'mike buy england home shirts get world cup spirit ya lions- andy ',\n",
       " 'get england shirt world cup 🤔 worldcup2018 england ',\n",
       " 'england win fifa world cup give everyone $ 100 ',\n",
       " 'showing england-costa rica game tonight 8pm kick get world cup spirit without nerves ',\n",
       " 'people listed lingard ball boy ca honestly expect listed amon… ',\n",
       " 'come check epic new outdoor tv tonight final warm-up match world cup england vs costa… ',\n",
       " 'absolute disgrace 21st century england team going world cup needs “ plan deal racist ab… ',\n",
       " 'ready world cup tonight come england threelions ',\n",
       " 'ahhh best part world cup ever 4 years mildly racist grown men pretending police banned england… ',\n",
       " 'greatest goal never helped england win fifa world cup title three lions phantom wembley goal… ',\n",
       " 'local media reporting farewell party mexico world cup squad attended 30 prostitutes d… ',\n",
       " \"@ maysiebug request please time 'll get right england 82 world cup squad ta 80stm \\U000e0067\\U000e0062\\U000e0065\\U000e006e\\U000e0067\\U000e007f \",\n",
       " 'day 1970 england narrowly lost brazil world cup gordon banks produced one famous… ',\n",
       " 'grateful danny rose opening depression please want men know ok ta… ',\n",
       " 'live blog england take fedefutbolcrc tonight last warm-up match head world cup fo… ',\n",
       " 'world cup onthisday 2002 england beat argentina 1-0 japan michael owen tumbles tackle mauricio poche… ',\n",
       " '⚽ 1 week world cup kicks  64 world cup games shown live  newcastle biggest outdoor screen  ne… ',\n",
       " 'mike buy england home shirts get world cup spirit ya lions- andy ',\n",
       " 'last england friendly world cup book table today ',\n",
       " 'old england world cup songs way elland road⚽️ thursdays get much better england ',\n",
       " 'world cup countdown russia high tech pitches could give england heroes edge read //t.co/iubaj… ',\n",
       " 'england final worldcup2018 warm game costa rica tonight elland road costa rica topped… ',\n",
       " 'trent 2017/18 minutes teenagers top 6 youngest goalscorer premier league youn… ',\n",
       " 'mike buy england home shirts get world cup spirit ya lions- andy ',\n",
       " 'tonight stage set worldcup warm-up quiz ⏲️ 7:15pm ️ cafe football national  prizes… ',\n",
       " 'brazil germany n maybe spain seem like surest bet win world cup 17odds england win d… ',\n",
       " 'live blog take tonight last warm-up match head world cup follow… ',\n",
       " 'grateful danny rose opening depression please want men know ok ta… ',\n",
       " '*books wrestling show uk bunch literal whos time first england world cup ga… ',\n",
       " 'bolton get promoted england win world cup elephant   ',\n",
       " \"world cup 2018 gary lineker england win 'll probably wear mankini… \",\n",
       " ' new podcast  \\U000e0067\\U000e0062\\U000e0065\\U000e006e\\U000e0067\\U000e007f england 2-1 nigeria  raheem sterling scrutiny  world cup countdown  will… ',\n",
       " 'duke cambridge vows support england players event world cup racism evertonfc efc https… ',\n",
       " 'chris kirkland makes revelation everton star via ',\n",
       " 'grateful danny rose opening depression please want men know ok ta… ',\n",
       " '@ marcsduffy yeah memory world cup bit hazy remember england games much else… ',\n",
       " 'proud england no.7 going world cup jlingz 🦁🦁🦁 ',\n",
       " 'best luck tonight playing ellandroad leeds threelions warming world cup aga… ',\n",
       " 'england vs costa rica live updates world cup warm-up match elland road //t.co/siooolyptc ',\n",
       " 'day 1970 england narrowly lost brazil world cup gordon banks produced one famous… ',\n",
       " 'grateful danny rose opening depression please want men know ok ta… ',\n",
       " 'harry kane directly involved nine goals last seven games england ⚽️ ⚽️⚽️ ⚽️⚽️🅰️ ❌ ⚽️ ⚽️ ⚽️ warming u… ',\n",
       " 'genuinely astonishing stuff danny rose opens therapy medication depression diagnosis fr… ',\n",
       " 'start england goalkeeper world cup   jordan pickford ❤️ fav jack butland //t.co/… ',\n",
       " 'tonight live 7.30pm final world cup warm-up game costa rica elland road htt… ',\n",
       " 'jack butland start goal england final world cup warm-up game later trent expected to… ',\n",
       " 'day 1970 england narrowly lost brazil world cup gordon banks produced one famous… ',\n",
       " 'england reach thanks kind draw… lionel messi cristiano ronaldo neymar cravin… ',\n",
       " \"'ve stocked fridge beers world cup customised match 've got san miguel spain a… \",\n",
       " 'greatest country best national anthem nine days world cup bring three lions shirt come england… ',\n",
       " \"world cup 2018 gary lineker england win 'll probably wear mankini \",\n",
       " 'telling england gon na win world cup raheem sterling gon na score winning goal ⚽️\\U000e0067\\U000e0062\\U000e0065\\U000e006e\\U000e0067\\U000e007f ',\n",
       " 'kane pochettino wo like beckham 2002 penalty standout england world cup memory ➡️ ',\n",
       " 'live blog take tonight last warm-up match head world cup follow… ',\n",
       " '⚽ 1 week world cup kicks  64 world cup games shown live  newcastle biggest outdoor screen  ne… ',\n",
       " 'live blog take tonight last warm-up match head world cup follow… ',\n",
       " 'last friendly world cup come amp watch england take costa rica evening 7pm ⚽️… ',\n",
       " 'stow first team coach put voice new england world cup song check //t.co/… ',\n",
       " 'prince william hangs england soccer team ahead world cup //t.co/ia071ebl8q ',\n",
       " 'live blog take tonight last warm-up match head world cup.… ',\n",
       " '**competition** win official england shirt simply follow us amp retweet post chance win read more… ',\n",
       " 'alternative reality honesty integrity exists england would hosting fifa world cup 2018 ',\n",
       " 'good luck boys tonight final prep game world cup still available needed avi… ',\n",
       " 'mike buy england home shirts get world cup spirit ya lions- andy ',\n",
       " 'start england goalkeeper world cup   jordan pickford ❤️ fav jack butland //t.co/… ',\n",
       " 'takes courageous man open mental health struggles danny rose weakness s… ']"
      ]
     },
     "execution_count": 11,
     "metadata": {},
     "output_type": "execute_result"
    }
   ],
   "source": [
    "a = get_tweet(\"England\", 30)\n",
    "a"
   ]
  },
  {
   "cell_type": "code",
   "execution_count": null,
   "metadata": {},
   "outputs": [],
   "source": []
  },
  {
   "cell_type": "code",
   "execution_count": null,
   "metadata": {},
   "outputs": [],
   "source": []
  },
  {
   "cell_type": "code",
   "execution_count": null,
   "metadata": {},
   "outputs": [],
   "source": []
  },
  {
   "cell_type": "code",
   "execution_count": null,
   "metadata": {},
   "outputs": [],
   "source": []
  }
 ],
 "metadata": {
  "kernelspec": {
   "display_name": "Python 3",
   "language": "python",
   "name": "python3"
  },
  "language_info": {
   "codemirror_mode": {
    "name": "ipython",
    "version": 3
   },
   "file_extension": ".py",
   "mimetype": "text/x-python",
   "name": "python",
   "nbconvert_exporter": "python",
   "pygments_lexer": "ipython3",
   "version": "3.6.5"
  }
 },
 "nbformat": 4,
 "nbformat_minor": 2
}
