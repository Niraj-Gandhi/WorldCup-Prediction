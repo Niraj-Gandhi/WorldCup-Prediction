{
 "cells": [
  {
   "cell_type": "code",
   "execution_count": 7,
   "metadata": {},
   "outputs": [],
   "source": [
    "import tweepy\n",
    "import nltk\n",
    "import re\n",
    "from nltk.corpus import stopwords"
   ]
  },
  {
   "cell_type": "code",
   "execution_count": 8,
   "metadata": {},
   "outputs": [],
   "source": [
    "consumer_key = \"wdCgGygFbK3mwuiPebsdbZG08\"\n",
    "consumer_secret = \"M6gTeeQURkRNrakI0QGPCmzVmgna5FsBexCvU0lE5zPPjIDVi7\"\n",
    "\n",
    "access_token_key = \"1003694170966503427-elgznJyfa1j633TQ9nphpTETp3h0ss\"\n",
    "access_token_secret = \"tvaJsPeE2VxKxbf0Uzm37Cv3jYuYoJd8LnoXTuyrlmIlt\""
   ]
  },
  {
   "cell_type": "code",
   "execution_count": 9,
   "metadata": {},
   "outputs": [],
   "source": [
    "auth = tweepy.OAuthHandler(consumer_key, consumer_secret)\n",
    "auth.set_access_token(access_token_key, access_token_secret)\n",
    "\n",
    "api = tweepy.API(auth)"
   ]
  },
  {
   "cell_type": "code",
   "execution_count": null,
   "metadata": {},
   "outputs": [],
   "source": []
  },
  {
   "cell_type": "code",
   "execution_count": 10,
   "metadata": {},
   "outputs": [],
   "source": [
    "words2remove = list(set(stopwords.words(\"english\")))\n",
    "more_words2remove = [\"#\", \":\", \"href\", \"https\", \"(\", \")\", \"...\", \".\", \"rt\", \"``\", \",\", \"''\", \"-\", \"?\", \"!\", \"'s\", \"'i\", \"'\",\n",
    "      \"|\", \"//\", \";\", \"&\", \"%\", \"[\", \"]\", \"{\", \"}\", \"`\", \"’\", \"n't\"]\n",
    "words2remove += more_words2remove\n",
    "\n",
    "emoji_pattern = re.compile(\"[\"\n",
    "        u\"\\U0001F600-\\U0001F64F\"  # emoticons\n",
    "        u\"\\U0001F300-\\U0001F5FF\"  # symbols & pictographs\n",
    "        u\"\\U0001F680-\\U0001F6FF\"  # transport & map symbols\n",
    "        u\"\\U0001F1E0-\\U0001F1FF\"  # flags (iOS)\n",
    "                           \"]+\", flags=re.UNICODE)"
   ]
  },
  {
   "cell_type": "code",
   "execution_count": 11,
   "metadata": {},
   "outputs": [],
   "source": [
    "def clean(text):\n",
    "    tokens = nltk.word_tokenize(text.lower())\n",
    "    clean = []\n",
    "    ret = ''\n",
    "    for i in tokens:\n",
    "        if i not in words2remove:\n",
    "            clean.append(i)\n",
    "\n",
    "    for i in range(len(clean)):\n",
    "        try:\n",
    "            if \"@\" in str(clean[i]):\n",
    "                del clean[i]\n",
    "                del clean[i]\n",
    "            elif len(clean[i]) > 13:\n",
    "                del clean[i]\n",
    "        except:\n",
    "            pass\n",
    "        \n",
    "    for i in clean:\n",
    "        ret += str(i)\n",
    "        ret += ' '\n",
    "        \n",
    "    return emoji_pattern.sub(r'', ret)\n",
    "\n",
    "def get_tweet(team, count):\n",
    "    answer = []\n",
    "    results = api.search(q=\"World Cup \"+str(team), lang=\"en\", count=count)\n",
    "    for result in results:\n",
    "        answer.append(clean(result.text))\n",
    "    \n",
    "    #return results[0]\n",
    "    return answer"
   ]
  },
  {
   "cell_type": "code",
   "execution_count": null,
   "metadata": {},
   "outputs": [],
   "source": []
  },
  {
   "cell_type": "code",
   "execution_count": 13,
   "metadata": {},
   "outputs": [
    {
     "data": {
      "text/plain": [
       "[\"people say brazil 98'world cup advert best nike advert clearly remember //t.co/8vwup… \",\n",
       " 'brazil team win world cup soccer sale best team tees soccer tshirts countries amp nationalities shirts… ',\n",
       " 'travel gadgets traveling brazil world cup |travel tech gadgets worldcup worldcup2018 ',\n",
       " 'rivaldo believes lionel messi needs win world cup reach status diego maradona argentina  former… ',\n",
       " \"people say brazil 98'world cup advert best nike advert clearly remember //t.co/8vwup… \",\n",
       " 'best goals 2014 world cup brazil ',\n",
       " 'list brazil world cup stadiums ',\n",
       " 'rivaldo believes lionel messi needs win world cup reach status diego maradona argentina  former… ',\n",
       " \"people say brazil 98'world cup advert best nike advert clearly remember //t.co/8vwup… \",\n",
       " 'neymar back brazil changed team country story washington post sports \\u2066 //t.co/t… ',\n",
       " 'three best ways bet brazil 2018 world cup odds ➡️ brasil fifa worldcup… ',\n",
       " 'rivaldo believes lionel messi needs win world cup reach status diego maradona argentina  former… ',\n",
       " 'brazil official world cup squad photo  ',\n",
       " 'neymar jr. claim place one brazil all-time greats watch world becomes fifa world cup starting… ',\n",
       " 'best goals 2014 world cup brazil ',\n",
       " 'brazil released world cup advert  ',\n",
       " 'rivaldo believes lionel messi needs win world cup reach status diego maradona argentina  former… ',\n",
       " 'best goals 2014 world cup brazil ',\n",
       " 'brazil released world cup advert  ',\n",
       " 'rivaldo believes lionel messi needs win world cup reach status diego maradona argentina  former… ',\n",
       " 'goal rivaldo believes lionel messi needs win world cup reach status diego maradona arg… ',\n",
       " 'rivaldo believes lionel messi needs win world cup reach status diego maradona argentina  former… ',\n",
       " ' brazil midfielder fred subject proposed £47m move man utd sustained trauma ankle just… ',\n",
       " 'rivaldo believes lionel messi needs win world cup reach status diego maradona argentina  former… ',\n",
       " 'brazil official world cup squad photo  ',\n",
       " ' fifa world cup iconic moments  05 july 1982 ️ estadi de sarrià barcelona italy golden boy paolo rossi grabs a… ',\n",
       " 'rivaldo believes lionel messi needs win world cup reach status diego maradona argentina  former… ',\n",
       " 'neymar magic revive brazil world cup 2018 football live today via ',\n",
       " 'rivaldo believes lionel messi needs win world cup reach status diego maradona argentina  former… ',\n",
       " 'ronaldo goldenball award 1998 france world cup ronaldo brazil fifaworldcup //t.co/au14jy9duk ']"
      ]
     },
     "execution_count": 13,
     "metadata": {},
     "output_type": "execute_result"
    }
   ],
   "source": [
    "get_tweet(\"Brazil\", 30)"
   ]
  },
  {
   "cell_type": "code",
   "execution_count": null,
   "metadata": {},
   "outputs": [],
   "source": []
  },
  {
   "cell_type": "code",
   "execution_count": null,
   "metadata": {},
   "outputs": [],
   "source": []
  },
  {
   "cell_type": "code",
   "execution_count": null,
   "metadata": {},
   "outputs": [],
   "source": []
  },
  {
   "cell_type": "code",
   "execution_count": null,
   "metadata": {},
   "outputs": [],
   "source": []
  }
 ],
 "metadata": {
  "kernelspec": {
   "display_name": "Python 3",
   "language": "python",
   "name": "python3"
  },
  "language_info": {
   "codemirror_mode": {
    "name": "ipython",
    "version": 3
   },
   "file_extension": ".py",
   "mimetype": "text/x-python",
   "name": "python",
   "nbconvert_exporter": "python",
   "pygments_lexer": "ipython3",
   "version": "3.6.5"
  }
 },
 "nbformat": 4,
 "nbformat_minor": 2
}
