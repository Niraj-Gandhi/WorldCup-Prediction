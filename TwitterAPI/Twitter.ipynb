{
 "cells": [
  {
   "cell_type": "code",
   "execution_count": 101,
   "metadata": {},
   "outputs": [],
   "source": [
    "import tweepy\n",
    "import nltk"
   ]
  },
  {
   "cell_type": "code",
   "execution_count": 102,
   "metadata": {},
   "outputs": [],
   "source": [
    "consumer_key = \"wdCgGygFbK3mwuiPebsdbZG08\"\n",
    "consumer_secret = \"M6gTeeQURkRNrakI0QGPCmzVmgna5FsBexCvU0lE5zPPjIDVi7\"\n",
    "\n",
    "access_token_key = \"1003694170966503427-elgznJyfa1j633TQ9nphpTETp3h0ss\"\n",
    "access_token_secret = \"tvaJsPeE2VxKxbf0Uzm37Cv3jYuYoJd8LnoXTuyrlmIlt\""
   ]
  },
  {
   "cell_type": "code",
   "execution_count": 103,
   "metadata": {},
   "outputs": [],
   "source": [
    "auth = tweepy.OAuthHandler(consumer_key, consumer_secret)\n",
    "auth.set_access_token(access_token_key, access_token_secret)\n",
    "\n",
    "api = tweepy.API(auth)"
   ]
  },
  {
   "cell_type": "code",
   "execution_count": 104,
   "metadata": {},
   "outputs": [
    {
     "data": {
      "text/plain": [
       "30"
      ]
     },
     "execution_count": 104,
     "metadata": {},
     "output_type": "execute_result"
    }
   ],
   "source": [
    "len(results)"
   ]
  },
  {
   "cell_type": "code",
   "execution_count": 105,
   "metadata": {},
   "outputs": [],
   "source": [
    "def get_tweet(team, count):\n",
    "    answer = []\n",
    "    results = api.search(q=\"World Cup \"+str(team), lang=\"en\", count=count)\n",
    "    for result in results:\n",
    "        answer.append(result.text)\n",
    "    \n",
    "    #return results[0]\n",
    "    return answer"
   ]
  },
  {
   "cell_type": "code",
   "execution_count": 110,
   "metadata": {
    "scrolled": false
   },
   "outputs": [
    {
     "data": {
      "text/plain": [
       "['RT @ESPNFC: England are the only nation at the World Cup with no players from outside their domestic league. https://t.co/SHWUEbJ56L',\n",
       " \"RT @SkySportsNews: BREAKING: Gareth Southgate has confirmed Danny Rose has expressed concerns about racism in Russia to England's World Cup…\",\n",
       " \"Well, I've had a while to assess the wreckage now and it seems that we lost three posts from 200% last night - my p… https://t.co/AJBakztZ2o\",\n",
       " 'Danny Rose tells his family not to travel to the World Cup over racism worries https://t.co/35ALWzXEag',\n",
       " 'RT @ESPNUK: England ☑️\\nBrazil ☑️\\nSpain ☑️\\n\\nJose Mourinho predicts every group winner at the 2018 World Cup. https://t.co/46l4L4yfVB',\n",
       " 'World Cup star Ray Wilson laid to rest https://t.co/mwp6q8gTof',\n",
       " 'RT @343Futbol: 📝 | @ABullionsSport previews our chances at this summer’s World Cup. Can Southgate’s side cause a major upset and send the n…',\n",
       " 'England legends Bobby Charlton, Geoff Hurst and Gordon Banks lead mourners at funeral of 1966 World Cup winner Ray… https://t.co/B3lxfZIhzu',\n",
       " 'RT @itvfootball: World Cup iconic moments:\\n\\n📅 20 June, 2006\\n\\n🏟️ RheinEnergieStadion, Cologne\\n\\nJoe Cole scores an incredible goal, on the vo…',\n",
       " 'Gareth Southgate: England players will not walk off if racially abused at World Cup https://t.co/B8Rybzz5jM https://t.co/qj5xGgkLQ6',\n",
       " 'SUPER EAGLES FRIENDLIES\\nPoland 0 - 1 Nigeria\\nNigeria 0 - 2 Serbia\\nNigeria 1 - 1 Congo DR \\nEngland 2 - 1 Nigeria \\nNi… https://t.co/dFRvowX0LR',\n",
       " 'RT @LucasMotive: **Competition** WIN an Official England Shirt! Just simply FOLLOW us &amp; RETWEET this post for the chance to WIN! Read more…',\n",
       " \"RT @SkySportsNews: BREAKING: Gareth Southgate has confirmed Danny Rose has expressed concerns about racism in Russia to England's World Cup…\",\n",
       " 'RT @MiguelDelaney: \"I know I shouldn’t mention it, but I\\'ve another tattoo on my arm!\" Except, like so much with Raheem Sterling, it\\'s not…',\n",
       " 'RT @BBCSport: Are you daring to dream, England fans? \\n\\nKyle Walker thinks \"anything is possible\" this summer at the World Cup. #bbcworldcup…',\n",
       " '@lucyfrown To all England fans going to the last friendly before World Cup, its being played at Leeds, where Tommy… https://t.co/tInqiYJLCJ',\n",
       " '@MundialMag @JesseLingard @England @ManUtd Our humble thanks... online right here: https://t.co/p4B7HeFc2o',\n",
       " 'RT @IndyFootball: Harry Kane reveals the truth about his weight after Fifa website listed him as 96 kilos: https://t.co/qnKJlXxYzE https://…',\n",
       " 'England news: Raheem Sterling remains focused on World Cup after week of scrutiny',\n",
       " 'RT @ESPNFC: England are the only nation at the World Cup with no players from outside their domestic league. https://t.co/SHWUEbJ56L',\n",
       " \"RT @SoccerAM: Who should start as England's goalkeeper for the World Cup? 🏆\\n\\n🔁 RT for Jordan Pickford\\n❤️\\xa0FAV for Jack Butland https://t.co/…\",\n",
       " \"RT @SkySportsNews: BREAKING: Gareth Southgate has confirmed Danny Rose has expressed concerns about racism in Russia to England's World Cup…\",\n",
       " 'To all England fans going to the last friendly before World Cup, its being played at Leeds, where Tommy Robinson wa… https://t.co/157a6fQbKe',\n",
       " 'RT @BBCLeeds: Former England football players pay their respects to World Cup winner and former Huddersfield town player Ray Wilson at his…',\n",
       " 'World Cup: Roberto Martinez backs England to shine in\\xa0Russia https://t.co/eTS1qA2fX1',\n",
       " \"RT @SoccerAM: Who should start as England's goalkeeper for the World Cup? 🏆\\n\\n🔁 RT for Jordan Pickford\\n❤️\\xa0FAV for Jack Butland https://t.co/…\",\n",
       " 'RT @caughtoffside: Wow...England the only country at the World Cup not to have any players in the squad from outside their domestic league…',\n",
       " 'RT @JesseLingard: Proud to be England’s No.7 going into the World Cup #JLingz 🦁🦁🦁 https://t.co/xgzojuiw7V',\n",
       " 'RT @AdamLeatherbar1: @WCGoalz 2010 - Pep manager of a Spanish club team... Wins the league... Spain win the World cup. ✔️\\n\\n2014 - Pep manag…',\n",
       " 'Gareth Southgate: England players will not walk off if racially abused at World Cup https://t.co/bPG6RRtkP4 → via… https://t.co/0A64OR8m6E']"
      ]
     },
     "execution_count": 110,
     "metadata": {},
     "output_type": "execute_result"
    }
   ],
   "source": [
    "a = get_tweet(\"England\", 30)\n",
    "a"
   ]
  },
  {
   "cell_type": "code",
   "execution_count": 113,
   "metadata": {},
   "outputs": [],
   "source": [
    "\n",
    "tokens = nltk.word_tokenize(a[0].lower())"
   ]
  },
  {
   "cell_type": "code",
   "execution_count": 114,
   "metadata": {},
   "outputs": [
    {
     "data": {
      "text/plain": [
       "['rt',\n",
       " '@',\n",
       " 'espnfc',\n",
       " ':',\n",
       " 'england',\n",
       " 'are',\n",
       " 'the',\n",
       " 'only',\n",
       " 'nation',\n",
       " 'at',\n",
       " 'the',\n",
       " 'world',\n",
       " 'cup',\n",
       " 'with',\n",
       " 'no',\n",
       " 'players',\n",
       " 'from',\n",
       " 'outside',\n",
       " 'their',\n",
       " 'domestic',\n",
       " 'league',\n",
       " '.',\n",
       " 'https',\n",
       " ':',\n",
       " '//t.co/shwuebj56l']"
      ]
     },
     "execution_count": 114,
     "metadata": {},
     "output_type": "execute_result"
    }
   ],
   "source": [
    "tokens"
   ]
  },
  {
   "cell_type": "code",
   "execution_count": null,
   "metadata": {},
   "outputs": [],
   "source": []
  }
 ],
 "metadata": {
  "kernelspec": {
   "display_name": "Python 3",
   "language": "python",
   "name": "python3"
  },
  "language_info": {
   "codemirror_mode": {
    "name": "ipython",
    "version": 3
   },
   "file_extension": ".py",
   "mimetype": "text/x-python",
   "name": "python",
   "nbconvert_exporter": "python",
   "pygments_lexer": "ipython3",
   "version": "3.6.5"
  }
 },
 "nbformat": 4,
 "nbformat_minor": 2
}
