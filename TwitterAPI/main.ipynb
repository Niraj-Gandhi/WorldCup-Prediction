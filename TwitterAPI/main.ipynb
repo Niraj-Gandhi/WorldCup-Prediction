{
 "cells": [
  {
   "cell_type": "code",
   "execution_count": 35,
   "metadata": {},
   "outputs": [],
   "source": [
    "import tweepy\n",
    "import nltk\n",
    "import re\n",
    "\n",
    "from nltk.corpus import stopwords\n",
    "from nltk.sentiment import SentimentAnalyzer"
   ]
  },
  {
   "cell_type": "markdown",
   "metadata": {},
   "source": [
    "# Twitter constants configuration"
   ]
  },
  {
   "cell_type": "code",
   "execution_count": 36,
   "metadata": {},
   "outputs": [],
   "source": [
    "CONSUMER_KEY = \"wdCgGygFbK3mwuiPebsdbZG08\"\n",
    "CONSUMER_SECRET = \"M6gTeeQURkRNrakI0QGPCmzVmgna5FsBexCvU0lE5zPPjIDVi7\"\n",
    "\n",
    "ACCESS_TOKEN_KEY = \"1003694170966503427-elgznJyfa1j633TQ9nphpTETp3h0ss\"\n",
    "ACCESS_TOKEN_SECRET = \"tvaJsPeE2VxKxbf0Uzm37Cv3jYuYoJd8LnoXTuyrlmIlt\""
   ]
  },
  {
   "cell_type": "code",
   "execution_count": 37,
   "metadata": {},
   "outputs": [],
   "source": [
    "AUTH = tweepy.OAuthHandler(CONSUMER_KEY, CONSUMER_SECRET)\n",
    "AUTH.set_access_token(ACCESS_TOKEN_KEY, ACCESS_TOKEN_SECRET)\n",
    "\n",
    "API = tweepy.API(AUTH)"
   ]
  },
  {
   "cell_type": "code",
   "execution_count": null,
   "metadata": {},
   "outputs": [],
   "source": []
  },
  {
   "cell_type": "markdown",
   "metadata": {},
   "source": [
    "# Set words for removing"
   ]
  },
  {
   "cell_type": "code",
   "execution_count": 38,
   "metadata": {},
   "outputs": [],
   "source": [
    "words2remove = list(set(stopwords.words(\"english\")))\n",
    "more_words2remove = [\n",
    "    \"#\", \":\", \"@\",\n",
    "    \"href\", \"https\",\n",
    "    \"(\", \")\", \"...\", \".\",\n",
    "    \"rt\", \"``\", \",\", \"''\",\n",
    "    \"-\", \"?\", \"!\", \"'s\",\n",
    "    \"'i\", \"'\", \"|\", \"//\", \";\",\n",
    "    \"&\", \"%\", \"[\", \"]\", \"{\", \"}\",\n",
    "    \"`\", \"’\", \"n't\"\n",
    "]\n",
    "\n",
    "words2remove += more_words2remove\n",
    "\n",
    "emoji_pattern = re.compile(\n",
    "    \"[\" u\"\\U0001F600-\\U0001F64F\"  # emoticons\n",
    "        u\"\\U0001F300-\\U0001F5FF\"  # symbols & pictographs\n",
    "        u\"\\U0001F680-\\U0001F6FF\"  # transport & map symbols\n",
    "        u\"\\U0001F1E0-\\U0001F1FF\"  # flags (iOS)\n",
    "    \"]+\", flags=re.UNICODE)"
   ]
  },
  {
   "cell_type": "markdown",
   "metadata": {},
   "source": [
    "# Define API"
   ]
  },
  {
   "cell_type": "code",
   "execution_count": 39,
   "metadata": {},
   "outputs": [],
   "source": [
    "def clean(text):\n",
    "    tokens = nltk.word_tokenize(text.lower())\n",
    "    clean = \"\"\n",
    "\n",
    "    for x in tokens:\n",
    "        if x not in words2remove:\n",
    "            clean += x\n",
    "            clean += \" \"\n",
    "        \n",
    "    return clean\n",
    "\n",
    "def get_tweets(team, count):\n",
    "    answer = []\n",
    "    results = API.search(q=\"2018 World Cup \"+str(team), lang=\"en\", count=count)\n",
    "    for result in results:\n",
    "        answer.append(clean(result.text))\n",
    "    \n",
    "    return answer"
   ]
  },
  {
   "cell_type": "code",
   "execution_count": null,
   "metadata": {},
   "outputs": [],
   "source": []
  },
  {
   "cell_type": "code",
   "execution_count": 40,
   "metadata": {},
   "outputs": [
    {
     "data": {
      "text/plain": [
       "['cricketsoccer brazilian humiliation argentinian anguish german joy spanish shock world cup 2014 nightmare rev… ',\n",
       " 'cricketsoccer brazilian humiliation argentinian anguish german joy spanish shock world cup 2014 nightmare rev… ',\n",
       " 'mcguiretipping back brazil win 2018 fifa world cup worldcup worldcup2018 fifaworldcup ',\n",
       " 'nv fifa18worldcup argentine vs brazil fifa 18 world cup russia 2018 //t.co/ietmeddudu ',\n",
       " '888 worldcup 2018 winner outright 🏆 16/1 brazil 🇧🇷 win world cup – max bet £5 promo-code boost… //t.co/gbk22stkqb ',\n",
       " '888 worldcup 2018 winner outright 🏆 16/1 brazil 🇧🇷 win world cup – max bet £5 promo-code boost… //t.co/jzz1wnqvl8 ',\n",
       " '888 worldcup 2018 winner outright 🏆 16/1 brazil 🇧🇷 win world cup – max bet £5 promo-code boost… //t.co/3tkezrszk0 ',\n",
       " '888 worldcup 2018 winner outright 🏆 16/1 brazil 🇧🇷 win world cup – max bet £5 promo-code boost… //t.co/adsnywbcro ',\n",
       " '888 worldcup 2018 winner outright 🏆 16/1 brazil 🇧🇷 win world cup – max bet £5 promo-code boost… //t.co/r99cgq16dj ',\n",
       " '888 worldcup 2018 winner outright 🏆 16/1 brazil 🇧🇷 win world cup – max bet £5 promo-code boost… //t.co/imwtouy1t7 ',\n",
       " 'world cup 2018 brazil legend pele makes neymar cristiano ronaldo lionel messi claim //t.co/pzjwz1tkpl //t.co/e2drcp0bti ',\n",
       " '888 worldcup 2018 winner outright 🏆 16/1 brazil 🇧🇷 win world cup – max bet £5 promo-code boost… //t.co/qp8bm8hceb ',\n",
       " '888 worldcup 2018 winner outright 🏆 16/1 brazil 🇧🇷 win world cup – max bet £5 promo-code boost… //t.co/ef25qulmtf ',\n",
       " 'bgt_eng closed ship open house 🏡 could many five places grabs brasil team ahead world cup 😲 👉ht… ',\n",
       " '888 worldcup 2018 winner outright 🏆 16/1 brazil 🇧🇷 win world cup – max bet £5 promo-code boost… //t.co/4m7qaffoam ',\n",
       " '888 worldcup 2018 winner outright 🏆 16/1 brazil 🇧🇷 win world cup – max bet £5 promo-code boost… //t.co/vrmoiwiyta ',\n",
       " '888 worldcup 2018 winner outright 🏆 16/1 brazil 🇧🇷 win world cup – max bet £5 promo-code boost… //t.co/wzrhybtwcs ',\n",
       " 'bleacherreport three superstars three giant murals three cities brfootball going big world cup mo salah //t.co… ',\n",
       " 'new post world cup final 2014 brazil official match schedule 2014 fifa world published o… //t.co/wxnabvyveo ',\n",
       " '888 worldcup 2018 winner outright 🏆 16/1 brazil 🇧🇷 win world cup – max bet £5 promo-code boost… //t.co/z162ixm9f0 ']"
      ]
     },
     "execution_count": 40,
     "metadata": {},
     "output_type": "execute_result"
    }
   ],
   "source": [
    "get_tweets(\"Brazil\", 30)"
   ]
  },
  {
   "cell_type": "markdown",
   "metadata": {},
   "source": [
    "# Sentiment analysis"
   ]
  },
  {
   "cell_type": "code",
   "execution_count": null,
   "metadata": {},
   "outputs": [],
   "source": []
  },
  {
   "cell_type": "code",
   "execution_count": null,
   "metadata": {},
   "outputs": [],
   "source": []
  },
  {
   "cell_type": "code",
   "execution_count": null,
   "metadata": {},
   "outputs": [],
   "source": []
  },
  {
   "cell_type": "code",
   "execution_count": null,
   "metadata": {},
   "outputs": [],
   "source": []
  }
 ],
 "metadata": {
  "kernelspec": {
   "display_name": "Python 3",
   "language": "python",
   "name": "python3"
  },
  "language_info": {
   "codemirror_mode": {
    "name": "ipython",
    "version": 3
   },
   "file_extension": ".py",
   "mimetype": "text/x-python",
   "name": "python",
   "nbconvert_exporter": "python",
   "pygments_lexer": "ipython3",
   "version": "3.6.5"
  }
 },
 "nbformat": 4,
 "nbformat_minor": 2
}
