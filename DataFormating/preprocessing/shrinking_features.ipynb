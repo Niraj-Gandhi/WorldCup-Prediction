{
 "cells": [
  {
   "cell_type": "code",
   "execution_count": 1,
   "metadata": {},
   "outputs": [],
   "source": [
    "import pandas as pd\n",
    "import numpy as np"
   ]
  },
  {
   "cell_type": "markdown",
   "metadata": {},
   "source": [
    "# Import datasets"
   ]
  },
  {
   "cell_type": "code",
   "execution_count": 2,
   "metadata": {},
   "outputs": [
    {
     "name": "stderr",
     "output_type": "stream",
     "text": [
      "/Users/victor/Documents/WorldCup-Prediction/.venv/lib/python3.6/site-packages/IPython/core/interactiveshell.py:2785: DtypeWarning: Columns (14,26) have mixed types. Specify dtype option on import or set low_memory=False.\n",
      "  interactivity=interactivity, compiler=compiler, result=result)\n"
     ]
    }
   ],
   "source": [
    "final = pd.read_csv(\"../final.csv\")\n",
    "stats = pd.read_csv(\"../PlayersStats.csv\")"
   ]
  },
  {
   "cell_type": "markdown",
   "metadata": {},
   "source": [
    "# Combine features"
   ]
  },
  {
   "cell_type": "code",
   "execution_count": 3,
   "metadata": {
    "scrolled": false
   },
   "outputs": [
    {
     "data": {
      "text/plain": [
       "Index(['Stage', 'Home Team Name', 'Home Team Goals', 'Away Team Goals',\n",
       "       'Away Team Name', 'Attendance', 'Half-time Home Goals',\n",
       "       'Half-time Away Goals', 'Home Team Initials', 'Away Team Initials'],\n",
       "      dtype='object')"
      ]
     },
     "execution_count": 3,
     "metadata": {},
     "output_type": "execute_result"
    }
   ],
   "source": [
    "final.columns[:10]"
   ]
  },
  {
   "cell_type": "code",
   "execution_count": 4,
   "metadata": {},
   "outputs": [
    {
     "data": {
      "text/plain": [
       "Index(['Age', 'Overall', 'Potential', 'Acceleration', 'Aggression', 'Agility',\n",
       "       'Balance', 'Ball control', 'Composure', 'Crossing', 'Curve',\n",
       "       'Dribbling', 'Finishing', 'Free kick accuracy', 'GK diving',\n",
       "       'GK handling', 'GK kicking', 'GK positioning', 'GK reflexes',\n",
       "       'Heading accuracy', 'Interceptions', 'Jumping', 'Long passing',\n",
       "       'Long shots', 'Marking', 'Penalties', 'Positioning', 'Reactions',\n",
       "       'Short passing', 'Shot power', 'Sliding tackle', 'Sprint speed',\n",
       "       'Stamina', 'Standing tackle', 'Strength', 'Vision', 'Volleys'],\n",
       "      dtype='object')"
      ]
     },
     "execution_count": 4,
     "metadata": {},
     "output_type": "execute_result"
    }
   ],
   "source": [
    "stats.columns[1:]"
   ]
  },
  {
   "cell_type": "code",
   "execution_count": 5,
   "metadata": {},
   "outputs": [],
   "source": [
    "columns = [\n",
    "    'Stage', \n",
    "    'Home Team Name', 'Home Team Goals', \n",
    "    'Away Team Goals', 'Away Team Name',\n",
    "    'Attendance', 'Half-time Home Goals', 'Half-time Away Goals',\n",
    "    'Home Team Initials', 'Away Team Initials'\n",
    "]\n",
    "\n",
    "new = []\n",
    "for i in range(1, 12):\n",
    "    for column_name in stats.columns[1:]:\n",
    "        new.append(\"Player \" + str(i) + \" \" + column_name + \" Diff\")\n",
    "        \n",
    "columns += new"
   ]
  },
  {
   "cell_type": "code",
   "execution_count": 6,
   "metadata": {},
   "outputs": [],
   "source": [
    "compressed_final = pd.DataFrame(columns=columns)"
   ]
  },
  {
   "cell_type": "code",
   "execution_count": 7,
   "metadata": {},
   "outputs": [],
   "source": [
    "for i in range(len(final)):\n",
    "    data = list(\n",
    "        final.iloc[i][[\n",
    "            'Stage', \n",
    "            'Home Team Name', 'Home Team Goals', \n",
    "            'Away Team Goals', 'Away Team Name',\n",
    "            'Attendance', 'Half-time Home Goals', 'Half-time Away Goals',\n",
    "            'Home Team Initials', 'Away Team Initials'\n",
    "        ]]\n",
    "    )\n",
    "    \n",
    "    \n",
    "    for j in range(1, 12):\n",
    "        for column_name in stats.columns[1:]:\n",
    "            home_player_stats = final.iloc[i][\"Home Player \" + str(j) + \" \" + column_name]\n",
    "            away_player_stats = final.iloc[i][\"Away Player \" + str(j) + \" \" + column_name]\n",
    "\n",
    "            try:\n",
    "                data.append(int(home_player_stats)-int(away_player_stats))\n",
    "            except:\n",
    "                if \"+\" in str(home_player_stats):\n",
    "                    home_player_stats = home_player_stats.split(\"+\")\n",
    "                    home_player_stats = int(home_player_stats[0]) + int(home_player_stats[1])\n",
    "                if \"+\" in str(away_player_stats):\n",
    "                    away_player_stats = away_player_stats.split(\"+\")\n",
    "                    away_player_stats = int(away_player_stats[0]) + int(away_player_stats[1])\n",
    "                    \n",
    "                if \"-\" in str(home_player_stats):\n",
    "                    home_player_stats = home_player_stats.split(\"-\")\n",
    "                    home_player_stats = int(home_player_stats[0]) - int(home_player_stats[1])\n",
    "                if \"-\" in str(away_player_stats):\n",
    "                    away_player_stats = away_player_stats.split(\"-\")\n",
    "                    away_player_stats = int(away_player_stats[0]) - int(away_player_stats[1])\n",
    "                    \n",
    "                data.append(int(home_player_stats)-int(away_player_stats))\n",
    "\n",
    "    compressed_final = compressed_final.append(pd.Series(data, index=compressed_final.columns), ignore_index=True)"
   ]
  },
  {
   "cell_type": "code",
   "execution_count": 8,
   "metadata": {},
   "outputs": [
    {
     "data": {
      "text/html": [
       "<div>\n",
       "<style scoped>\n",
       "    .dataframe tbody tr th:only-of-type {\n",
       "        vertical-align: middle;\n",
       "    }\n",
       "\n",
       "    .dataframe tbody tr th {\n",
       "        vertical-align: top;\n",
       "    }\n",
       "\n",
       "    .dataframe thead th {\n",
       "        text-align: right;\n",
       "    }\n",
       "</style>\n",
       "<table border=\"1\" class=\"dataframe\">\n",
       "  <thead>\n",
       "    <tr style=\"text-align: right;\">\n",
       "      <th></th>\n",
       "      <th>Stage</th>\n",
       "      <th>Home Team Name</th>\n",
       "      <th>Home Team Goals</th>\n",
       "      <th>Away Team Goals</th>\n",
       "      <th>Away Team Name</th>\n",
       "      <th>Attendance</th>\n",
       "      <th>Half-time Home Goals</th>\n",
       "      <th>Half-time Away Goals</th>\n",
       "      <th>Home Team Initials</th>\n",
       "      <th>Away Team Initials</th>\n",
       "      <th>...</th>\n",
       "      <th>Player 11 Reactions Diff</th>\n",
       "      <th>Player 11 Short passing Diff</th>\n",
       "      <th>Player 11 Shot power Diff</th>\n",
       "      <th>Player 11 Sliding tackle Diff</th>\n",
       "      <th>Player 11 Sprint speed Diff</th>\n",
       "      <th>Player 11 Stamina Diff</th>\n",
       "      <th>Player 11 Standing tackle Diff</th>\n",
       "      <th>Player 11 Strength Diff</th>\n",
       "      <th>Player 11 Vision Diff</th>\n",
       "      <th>Player 11 Volleys Diff</th>\n",
       "    </tr>\n",
       "  </thead>\n",
       "  <tbody>\n",
       "    <tr>\n",
       "      <th>0</th>\n",
       "      <td>Group A</td>\n",
       "      <td>South Africa</td>\n",
       "      <td>1.0</td>\n",
       "      <td>1.0</td>\n",
       "      <td>Mexico</td>\n",
       "      <td>84490.0</td>\n",
       "      <td>0.0</td>\n",
       "      <td>0.0</td>\n",
       "      <td>RSA</td>\n",
       "      <td>MEX</td>\n",
       "      <td>...</td>\n",
       "      <td>-28</td>\n",
       "      <td>-42</td>\n",
       "      <td>-29</td>\n",
       "      <td>-15</td>\n",
       "      <td>-9</td>\n",
       "      <td>-31</td>\n",
       "      <td>-17</td>\n",
       "      <td>3</td>\n",
       "      <td>-43</td>\n",
       "      <td>-24</td>\n",
       "    </tr>\n",
       "    <tr>\n",
       "      <th>1</th>\n",
       "      <td>Group A</td>\n",
       "      <td>Uruguay</td>\n",
       "      <td>0.0</td>\n",
       "      <td>0.0</td>\n",
       "      <td>France</td>\n",
       "      <td>64100.0</td>\n",
       "      <td>0.0</td>\n",
       "      <td>0.0</td>\n",
       "      <td>URU</td>\n",
       "      <td>FRA</td>\n",
       "      <td>...</td>\n",
       "      <td>18</td>\n",
       "      <td>-14</td>\n",
       "      <td>-44</td>\n",
       "      <td>-9</td>\n",
       "      <td>-19</td>\n",
       "      <td>-26</td>\n",
       "      <td>-8</td>\n",
       "      <td>-4</td>\n",
       "      <td>9</td>\n",
       "      <td>-58</td>\n",
       "    </tr>\n",
       "    <tr>\n",
       "      <th>2</th>\n",
       "      <td>Group B</td>\n",
       "      <td>Korea Republic</td>\n",
       "      <td>2.0</td>\n",
       "      <td>0.0</td>\n",
       "      <td>Greece</td>\n",
       "      <td>31513.0</td>\n",
       "      <td>1.0</td>\n",
       "      <td>0.0</td>\n",
       "      <td>KOR</td>\n",
       "      <td>GRE</td>\n",
       "      <td>...</td>\n",
       "      <td>-27</td>\n",
       "      <td>23</td>\n",
       "      <td>-2</td>\n",
       "      <td>39</td>\n",
       "      <td>7</td>\n",
       "      <td>29</td>\n",
       "      <td>40</td>\n",
       "      <td>-10</td>\n",
       "      <td>-16</td>\n",
       "      <td>14</td>\n",
       "    </tr>\n",
       "    <tr>\n",
       "      <th>3</th>\n",
       "      <td>Group B</td>\n",
       "      <td>Argentina</td>\n",
       "      <td>1.0</td>\n",
       "      <td>0.0</td>\n",
       "      <td>Nigeria</td>\n",
       "      <td>55686.0</td>\n",
       "      <td>1.0</td>\n",
       "      <td>0.0</td>\n",
       "      <td>ARG</td>\n",
       "      <td>NGA</td>\n",
       "      <td>...</td>\n",
       "      <td>1</td>\n",
       "      <td>-1</td>\n",
       "      <td>-25</td>\n",
       "      <td>35</td>\n",
       "      <td>-14</td>\n",
       "      <td>7</td>\n",
       "      <td>41</td>\n",
       "      <td>-12</td>\n",
       "      <td>-11</td>\n",
       "      <td>-55</td>\n",
       "    </tr>\n",
       "    <tr>\n",
       "      <th>4</th>\n",
       "      <td>Group C</td>\n",
       "      <td>England</td>\n",
       "      <td>1.0</td>\n",
       "      <td>1.0</td>\n",
       "      <td>USA</td>\n",
       "      <td>38646.0</td>\n",
       "      <td>1.0</td>\n",
       "      <td>1.0</td>\n",
       "      <td>ENG</td>\n",
       "      <td>USA</td>\n",
       "      <td>...</td>\n",
       "      <td>1</td>\n",
       "      <td>-4</td>\n",
       "      <td>-4</td>\n",
       "      <td>-2</td>\n",
       "      <td>17</td>\n",
       "      <td>-2</td>\n",
       "      <td>-4</td>\n",
       "      <td>-18</td>\n",
       "      <td>-7</td>\n",
       "      <td>-5</td>\n",
       "    </tr>\n",
       "  </tbody>\n",
       "</table>\n",
       "<p>5 rows × 417 columns</p>\n",
       "</div>"
      ],
      "text/plain": [
       "     Stage  Home Team Name  Home Team Goals  Away Team Goals Away Team Name  \\\n",
       "0  Group A    South Africa              1.0              1.0         Mexico   \n",
       "1  Group A         Uruguay              0.0              0.0         France   \n",
       "2  Group B  Korea Republic              2.0              0.0         Greece   \n",
       "3  Group B       Argentina              1.0              0.0        Nigeria   \n",
       "4  Group C         England              1.0              1.0            USA   \n",
       "\n",
       "   Attendance  Half-time Home Goals  Half-time Away Goals Home Team Initials  \\\n",
       "0     84490.0                   0.0                   0.0                RSA   \n",
       "1     64100.0                   0.0                   0.0                URU   \n",
       "2     31513.0                   1.0                   0.0                KOR   \n",
       "3     55686.0                   1.0                   0.0                ARG   \n",
       "4     38646.0                   1.0                   1.0                ENG   \n",
       "\n",
       "  Away Team Initials          ...           Player 11 Reactions Diff  \\\n",
       "0                MEX          ...                                -28   \n",
       "1                FRA          ...                                 18   \n",
       "2                GRE          ...                                -27   \n",
       "3                NGA          ...                                  1   \n",
       "4                USA          ...                                  1   \n",
       "\n",
       "  Player 11 Short passing Diff Player 11 Shot power Diff  \\\n",
       "0                          -42                       -29   \n",
       "1                          -14                       -44   \n",
       "2                           23                        -2   \n",
       "3                           -1                       -25   \n",
       "4                           -4                        -4   \n",
       "\n",
       "  Player 11 Sliding tackle Diff Player 11 Sprint speed Diff  \\\n",
       "0                           -15                          -9   \n",
       "1                            -9                         -19   \n",
       "2                            39                           7   \n",
       "3                            35                         -14   \n",
       "4                            -2                          17   \n",
       "\n",
       "  Player 11 Stamina Diff Player 11 Standing tackle Diff  \\\n",
       "0                    -31                            -17   \n",
       "1                    -26                             -8   \n",
       "2                     29                             40   \n",
       "3                      7                             41   \n",
       "4                     -2                             -4   \n",
       "\n",
       "  Player 11 Strength Diff Player 11 Vision Diff Player 11 Volleys Diff  \n",
       "0                       3                   -43                    -24  \n",
       "1                      -4                     9                    -58  \n",
       "2                     -10                   -16                     14  \n",
       "3                     -12                   -11                    -55  \n",
       "4                     -18                    -7                     -5  \n",
       "\n",
       "[5 rows x 417 columns]"
      ]
     },
     "execution_count": 8,
     "metadata": {},
     "output_type": "execute_result"
    }
   ],
   "source": [
    "compressed_final.head()"
   ]
  },
  {
   "cell_type": "code",
   "execution_count": null,
   "metadata": {},
   "outputs": [],
   "source": []
  },
  {
   "cell_type": "markdown",
   "metadata": {},
   "source": [
    "# Save datasets into CSV file"
   ]
  },
  {
   "cell_type": "code",
   "execution_count": 9,
   "metadata": {},
   "outputs": [],
   "source": [
    "compressed_final.to_csv(\"../compressed_final.csv\", index=0)"
   ]
  },
  {
   "cell_type": "code",
   "execution_count": null,
   "metadata": {},
   "outputs": [],
   "source": []
  }
 ],
 "metadata": {
  "kernelspec": {
   "display_name": "Python 3",
   "language": "python",
   "name": "python3"
  },
  "language_info": {
   "codemirror_mode": {
    "name": "ipython",
    "version": 3
   },
   "file_extension": ".py",
   "mimetype": "text/x-python",
   "name": "python",
   "nbconvert_exporter": "python",
   "pygments_lexer": "ipython3",
   "version": "3.6.5"
  }
 },
 "nbformat": 4,
 "nbformat_minor": 2
}
