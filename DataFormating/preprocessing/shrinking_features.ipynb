{
 "cells": [
  {
   "cell_type": "code",
   "execution_count": 1,
   "metadata": {},
   "outputs": [],
   "source": [
    "import numpy as np\n",
    "import pandas as pd"
   ]
  },
  {
   "cell_type": "markdown",
   "metadata": {},
   "source": [
    "# Import datasets"
   ]
  },
  {
   "cell_type": "code",
   "execution_count": 2,
   "metadata": {},
   "outputs": [],
   "source": [
    "final = pd.read_csv(\"../final.csv\")"
   ]
  },
  {
   "cell_type": "code",
   "execution_count": 3,
   "metadata": {
    "scrolled": true
   },
   "outputs": [
    {
     "data": {
      "text/html": [
       "<div>\n",
       "<style scoped>\n",
       "    .dataframe tbody tr th:only-of-type {\n",
       "        vertical-align: middle;\n",
       "    }\n",
       "\n",
       "    .dataframe tbody tr th {\n",
       "        vertical-align: top;\n",
       "    }\n",
       "\n",
       "    .dataframe thead th {\n",
       "        text-align: right;\n",
       "    }\n",
       "</style>\n",
       "<table border=\"1\" class=\"dataframe\">\n",
       "  <thead>\n",
       "    <tr style=\"text-align: right;\">\n",
       "      <th></th>\n",
       "      <th>Away Team Goals</th>\n",
       "      <th>Away Team Name</th>\n",
       "      <th>Home Team Goals</th>\n",
       "      <th>Home Team Name</th>\n",
       "      <th>Year</th>\n",
       "      <th>home_rank</th>\n",
       "      <th>home_total_points</th>\n",
       "      <th>home_previous_points</th>\n",
       "      <th>home_rank_change</th>\n",
       "      <th>home_cur_year_avg</th>\n",
       "      <th>...</th>\n",
       "      <th>away_previous_points</th>\n",
       "      <th>away_rank_change</th>\n",
       "      <th>away_cur_year_avg</th>\n",
       "      <th>away_cur_year_avg_weighted</th>\n",
       "      <th>away_last_year_avg</th>\n",
       "      <th>away_last_year_avg_weighted</th>\n",
       "      <th>away_two_year_ago_avg</th>\n",
       "      <th>away_two_year_ago_weighted</th>\n",
       "      <th>away_three_year_ago_avg</th>\n",
       "      <th>away_three_year_ago_weighted</th>\n",
       "    </tr>\n",
       "  </thead>\n",
       "  <tbody>\n",
       "    <tr>\n",
       "      <th>0</th>\n",
       "      <td>1.0</td>\n",
       "      <td>Sweden</td>\n",
       "      <td>2.0</td>\n",
       "      <td>Brazil</td>\n",
       "      <td>1990.0</td>\n",
       "      <td>8</td>\n",
       "      <td>0.0</td>\n",
       "      <td>55</td>\n",
       "      <td>-5</td>\n",
       "      <td>0.0</td>\n",
       "      <td>...</td>\n",
       "      <td>55</td>\n",
       "      <td>0</td>\n",
       "      <td>0.0</td>\n",
       "      <td>0.0</td>\n",
       "      <td>0.0</td>\n",
       "      <td>0.0</td>\n",
       "      <td>0.0</td>\n",
       "      <td>0.0</td>\n",
       "      <td>0.0</td>\n",
       "      <td>0.0</td>\n",
       "    </tr>\n",
       "    <tr>\n",
       "      <th>1</th>\n",
       "      <td>1.0</td>\n",
       "      <td>Poland</td>\n",
       "      <td>1.0</td>\n",
       "      <td>Belgium</td>\n",
       "      <td>1990.0</td>\n",
       "      <td>18</td>\n",
       "      <td>0.0</td>\n",
       "      <td>47</td>\n",
       "      <td>-1</td>\n",
       "      <td>0.0</td>\n",
       "      <td>...</td>\n",
       "      <td>45</td>\n",
       "      <td>0</td>\n",
       "      <td>0.0</td>\n",
       "      <td>0.0</td>\n",
       "      <td>0.0</td>\n",
       "      <td>0.0</td>\n",
       "      <td>0.0</td>\n",
       "      <td>0.0</td>\n",
       "      <td>0.0</td>\n",
       "      <td>0.0</td>\n",
       "    </tr>\n",
       "    <tr>\n",
       "      <th>2</th>\n",
       "      <td>1.0</td>\n",
       "      <td>England</td>\n",
       "      <td>1.0</td>\n",
       "      <td>Tunisia</td>\n",
       "      <td>1990.0</td>\n",
       "      <td>31</td>\n",
       "      <td>0.0</td>\n",
       "      <td>35</td>\n",
       "      <td>7</td>\n",
       "      <td>0.0</td>\n",
       "      <td>...</td>\n",
       "      <td>55</td>\n",
       "      <td>-6</td>\n",
       "      <td>0.0</td>\n",
       "      <td>0.0</td>\n",
       "      <td>0.0</td>\n",
       "      <td>0.0</td>\n",
       "      <td>0.0</td>\n",
       "      <td>0.0</td>\n",
       "      <td>0.0</td>\n",
       "      <td>0.0</td>\n",
       "    </tr>\n",
       "    <tr>\n",
       "      <th>3</th>\n",
       "      <td>0.0</td>\n",
       "      <td>Mexico</td>\n",
       "      <td>3.0</td>\n",
       "      <td>Belgium</td>\n",
       "      <td>1990.0</td>\n",
       "      <td>18</td>\n",
       "      <td>0.0</td>\n",
       "      <td>47</td>\n",
       "      <td>-1</td>\n",
       "      <td>0.0</td>\n",
       "      <td>...</td>\n",
       "      <td>42</td>\n",
       "      <td>11</td>\n",
       "      <td>0.0</td>\n",
       "      <td>0.0</td>\n",
       "      <td>0.0</td>\n",
       "      <td>0.0</td>\n",
       "      <td>0.0</td>\n",
       "      <td>0.0</td>\n",
       "      <td>0.0</td>\n",
       "      <td>0.0</td>\n",
       "    </tr>\n",
       "    <tr>\n",
       "      <th>4</th>\n",
       "      <td>0.0</td>\n",
       "      <td>Denmark</td>\n",
       "      <td>1.0</td>\n",
       "      <td>Germany</td>\n",
       "      <td>1990.0</td>\n",
       "      <td>1</td>\n",
       "      <td>0.0</td>\n",
       "      <td>57</td>\n",
       "      <td>0</td>\n",
       "      <td>0.0</td>\n",
       "      <td>...</td>\n",
       "      <td>51</td>\n",
       "      <td>-1</td>\n",
       "      <td>0.0</td>\n",
       "      <td>0.0</td>\n",
       "      <td>0.0</td>\n",
       "      <td>0.0</td>\n",
       "      <td>0.0</td>\n",
       "      <td>0.0</td>\n",
       "      <td>0.0</td>\n",
       "      <td>0.0</td>\n",
       "    </tr>\n",
       "  </tbody>\n",
       "</table>\n",
       "<p>5 rows × 29 columns</p>\n",
       "</div>"
      ],
      "text/plain": [
       "   Away Team Goals Away Team Name  Home Team Goals Home Team Name    Year  \\\n",
       "0              1.0         Sweden              2.0         Brazil  1990.0   \n",
       "1              1.0         Poland              1.0        Belgium  1990.0   \n",
       "2              1.0        England              1.0        Tunisia  1990.0   \n",
       "3              0.0         Mexico              3.0        Belgium  1990.0   \n",
       "4              0.0        Denmark              1.0        Germany  1990.0   \n",
       "\n",
       "   home_rank  home_total_points  home_previous_points  home_rank_change  \\\n",
       "0          8                0.0                    55                -5   \n",
       "1         18                0.0                    47                -1   \n",
       "2         31                0.0                    35                 7   \n",
       "3         18                0.0                    47                -1   \n",
       "4          1                0.0                    57                 0   \n",
       "\n",
       "   home_cur_year_avg              ...               away_previous_points  \\\n",
       "0                0.0              ...                                 55   \n",
       "1                0.0              ...                                 45   \n",
       "2                0.0              ...                                 55   \n",
       "3                0.0              ...                                 42   \n",
       "4                0.0              ...                                 51   \n",
       "\n",
       "   away_rank_change  away_cur_year_avg  away_cur_year_avg_weighted  \\\n",
       "0                 0                0.0                         0.0   \n",
       "1                 0                0.0                         0.0   \n",
       "2                -6                0.0                         0.0   \n",
       "3                11                0.0                         0.0   \n",
       "4                -1                0.0                         0.0   \n",
       "\n",
       "   away_last_year_avg  away_last_year_avg_weighted  away_two_year_ago_avg  \\\n",
       "0                 0.0                          0.0                    0.0   \n",
       "1                 0.0                          0.0                    0.0   \n",
       "2                 0.0                          0.0                    0.0   \n",
       "3                 0.0                          0.0                    0.0   \n",
       "4                 0.0                          0.0                    0.0   \n",
       "\n",
       "   away_two_year_ago_weighted  away_three_year_ago_avg  \\\n",
       "0                         0.0                      0.0   \n",
       "1                         0.0                      0.0   \n",
       "2                         0.0                      0.0   \n",
       "3                         0.0                      0.0   \n",
       "4                         0.0                      0.0   \n",
       "\n",
       "   away_three_year_ago_weighted  \n",
       "0                           0.0  \n",
       "1                           0.0  \n",
       "2                           0.0  \n",
       "3                           0.0  \n",
       "4                           0.0  \n",
       "\n",
       "[5 rows x 29 columns]"
      ]
     },
     "execution_count": 3,
     "metadata": {},
     "output_type": "execute_result"
    }
   ],
   "source": [
    "final.head()"
   ]
  },
  {
   "cell_type": "code",
   "execution_count": 4,
   "metadata": {},
   "outputs": [
    {
     "data": {
      "text/plain": [
       "2072"
      ]
     },
     "execution_count": 4,
     "metadata": {},
     "output_type": "execute_result"
    }
   ],
   "source": [
    "len(final)"
   ]
  },
  {
   "cell_type": "markdown",
   "metadata": {},
   "source": [
    "# Combine features"
   ]
  },
  {
   "cell_type": "code",
   "execution_count": 5,
   "metadata": {},
   "outputs": [
    {
     "data": {
      "text/plain": [
       "Index(['Away Team Goals', 'Away Team Name', 'Home Team Goals',\n",
       "       'Home Team Name', 'Year', 'home_rank', 'home_total_points',\n",
       "       'home_previous_points', 'home_rank_change', 'home_cur_year_avg',\n",
       "       'home_cur_year_avg_weighted', 'home_last_year_avg',\n",
       "       'home_last_year_avg_weighted', 'home_two_year_ago_avg',\n",
       "       'home_two_year_ago_weighted', 'home_three_year_ago_avg',\n",
       "       'home_three_year_ago_weighted', 'away_rank', 'away_total_points',\n",
       "       'away_previous_points', 'away_rank_change', 'away_cur_year_avg',\n",
       "       'away_cur_year_avg_weighted', 'away_last_year_avg',\n",
       "       'away_last_year_avg_weighted', 'away_two_year_ago_avg',\n",
       "       'away_two_year_ago_weighted', 'away_three_year_ago_avg',\n",
       "       'away_three_year_ago_weighted'],\n",
       "      dtype='object')"
      ]
     },
     "execution_count": 5,
     "metadata": {},
     "output_type": "execute_result"
    }
   ],
   "source": [
    "final.columns"
   ]
  },
  {
   "cell_type": "markdown",
   "metadata": {},
   "source": [
    "# Save datasets into CSV file"
   ]
  },
  {
   "cell_type": "code",
   "execution_count": 6,
   "metadata": {},
   "outputs": [
    {
     "ename": "NameError",
     "evalue": "name 'compressed_final' is not defined",
     "output_type": "error",
     "traceback": [
      "\u001b[0;31m---------------------------------------------------------------------------\u001b[0m",
      "\u001b[0;31mNameError\u001b[0m                                 Traceback (most recent call last)",
      "\u001b[0;32m<ipython-input-6-391dba12a506>\u001b[0m in \u001b[0;36m<module>\u001b[0;34m()\u001b[0m\n\u001b[0;32m----> 1\u001b[0;31m \u001b[0mcompressed_final\u001b[0m\u001b[0;34m.\u001b[0m\u001b[0mto_csv\u001b[0m\u001b[0;34m(\u001b[0m\u001b[0;34m\"../compressed_final.csv\"\u001b[0m\u001b[0;34m,\u001b[0m \u001b[0mindex\u001b[0m\u001b[0;34m=\u001b[0m\u001b[0;36m0\u001b[0m\u001b[0;34m)\u001b[0m\u001b[0;34m\u001b[0m\u001b[0m\n\u001b[0m",
      "\u001b[0;31mNameError\u001b[0m: name 'compressed_final' is not defined"
     ]
    }
   ],
   "source": [
    "compressed_final.to_csv(\"../compressed_final.csv\", index=0)"
   ]
  }
 ],
 "metadata": {
  "kernelspec": {
   "display_name": "Python 3",
   "language": "python",
   "name": "python3"
  },
  "language_info": {
   "codemirror_mode": {
    "name": "ipython",
    "version": 3
   },
   "file_extension": ".py",
   "mimetype": "text/x-python",
   "name": "python",
   "nbconvert_exporter": "python",
   "pygments_lexer": "ipython3",
   "version": "3.6.5"
  }
 },
 "nbformat": 4,
 "nbformat_minor": 2
}
