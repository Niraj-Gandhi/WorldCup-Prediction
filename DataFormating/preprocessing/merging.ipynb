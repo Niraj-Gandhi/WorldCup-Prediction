{
 "cells": [
  {
   "cell_type": "code",
   "execution_count": 1,
   "metadata": {},
   "outputs": [],
   "source": [
    "import pickle\n",
    "import random\n",
    "from math import sqrt\n",
    "\n",
    "import pandas as pd"
   ]
  },
  {
   "cell_type": "markdown",
   "metadata": {},
   "source": [
    "# Importing Datasets"
   ]
  },
  {
   "cell_type": "code",
   "execution_count": 2,
   "metadata": {
    "scrolled": true
   },
   "outputs": [
    {
     "name": "stderr",
     "output_type": "stream",
     "text": [
      "/Users/victor/Documents/WorldCup-Prediction/.venv/lib/python3.6/site-packages/IPython/core/interactiveshell.py:2785: DtypeWarning: Columns (14,26) have mixed types. Specify dtype option on import or set low_memory=False.\n",
      "  interactivity=interactivity, compiler=compiler, result=result)\n"
     ]
    }
   ],
   "source": [
    "# World Cup Matches\n",
    "matches = pd.read_csv(\"../WorldCupMatches.csv\")\n",
    "\n",
    "# wwmatches\n",
    "wwmatches = pd.read_csv(\"../wwmatches.csv\")\n",
    "\n",
    "# Player Stats\n",
    "stats = pd.read_csv(\"../PlayersStats.csv\")"
   ]
  },
  {
   "cell_type": "markdown",
   "metadata": {},
   "source": [
    "## Load `team_players` binary"
   ]
  },
  {
   "cell_type": "code",
   "execution_count": 3,
   "metadata": {},
   "outputs": [],
   "source": [
    "with open(\"../../site/server/match_predictor/ml_data/team_players.b\", \"rb\") as f:\n",
    "    team_players = pickle.load(f)"
   ]
  },
  {
   "cell_type": "markdown",
   "metadata": {},
   "source": [
    "# Narrow the dataset to 2018 FIFA participants"
   ]
  },
  {
   "cell_type": "code",
   "execution_count": 4,
   "metadata": {},
   "outputs": [],
   "source": [
    "matches = matches.append(wwmatches, sort=True)\n",
    "matches = matches.reset_index().drop(\"index\", axis=1)"
   ]
  },
  {
   "cell_type": "code",
   "execution_count": 5,
   "metadata": {},
   "outputs": [],
   "source": [
    "new_matches = pd.DataFrame(columns=matches.columns)\n",
    "\n",
    "for i in range(len(matches)):\n",
    "    if matches[\"Home Team Name\"][i] in team_players.keys() and matches[\"Away Team Name\"][i] in team_players.keys():\n",
    "        new_matches = new_matches.append(matches.iloc[i])\n",
    "        \n",
    "matches = new_matches"
   ]
  },
  {
   "cell_type": "code",
   "execution_count": 6,
   "metadata": {},
   "outputs": [],
   "source": [
    "matches = matches.reset_index().drop(\"index\", axis=1)"
   ]
  },
  {
   "cell_type": "code",
   "execution_count": 7,
   "metadata": {},
   "outputs": [],
   "source": [
    "assert len(matches[\"Home Team Name\"].unique()) == len(team_players.keys())"
   ]
  },
  {
   "cell_type": "code",
   "execution_count": 8,
   "metadata": {},
   "outputs": [
    {
     "data": {
      "text/plain": [
       "603"
      ]
     },
     "execution_count": 8,
     "metadata": {},
     "output_type": "execute_result"
    }
   ],
   "source": [
    "len(matches)"
   ]
  },
  {
   "cell_type": "code",
   "execution_count": 9,
   "metadata": {
    "scrolled": true
   },
   "outputs": [
    {
     "data": {
      "text/plain": [
       "Index(['Away Team Goals', 'Away Team Name', 'Home Team Goals',\n",
       "       'Home Team Name'],\n",
       "      dtype='object')"
      ]
     },
     "execution_count": 9,
     "metadata": {},
     "output_type": "execute_result"
    }
   ],
   "source": [
    "matches.columns"
   ]
  },
  {
   "cell_type": "markdown",
   "metadata": {},
   "source": [
    "# Match players with matches\n",
    "\n",
    "# Add player's FIFA stats"
   ]
  },
  {
   "cell_type": "markdown",
   "metadata": {},
   "source": [
    "### Define `final` DataFrame"
   ]
  },
  {
   "cell_type": "code",
   "execution_count": 10,
   "metadata": {},
   "outputs": [],
   "source": [
    "columns = list(matches.columns)\n",
    "\n",
    "for i in range(1, 12):\n",
    "    columns.append(\"Home Player \" + str(i) + \" Overall\")\n",
    "\n",
    "for i in range(1, 12):\n",
    "    columns.append(\"Away Player \" + str(i) + \" Overall\")\n",
    "\n",
    "final = pd.DataFrame(columns=columns)"
   ]
  },
  {
   "cell_type": "markdown",
   "metadata": {},
   "source": [
    "### Preparing utility functions"
   ]
  },
  {
   "cell_type": "code",
   "execution_count": 11,
   "metadata": {},
   "outputs": [],
   "source": [
    "stats = stats.sort_values(by=\"Name\")\n",
    "stats = stats.reset_index().drop(\"index\", axis=1)"
   ]
  },
  {
   "cell_type": "code",
   "execution_count": 12,
   "metadata": {},
   "outputs": [],
   "source": [
    "def clean(x):\n",
    "    x = x.lower().strip().split(\" \")\n",
    "\n",
    "    if len(x) == 1:\n",
    "        x = x[0]\n",
    "\n",
    "    elif len(x) == 2:\n",
    "        if \".\" in x[0]:\n",
    "            x = x[1]\n",
    "        elif \".\" in x[1]:\n",
    "            x = x[0]\n",
    "        else:\n",
    "            x = x[0] + x[1]\n",
    "\n",
    "    elif len(x) == 3:\n",
    "        if \".\" in x[0]:\n",
    "            x = x[1] + x[2]\n",
    "        elif \".\" in x[1]:\n",
    "            x = x[0] + x[2]\n",
    "        elif \".\" in x[2]:\n",
    "            x = x[0] + x[1]\n",
    "        else:\n",
    "            x = x[0] + x[1] + x[2]\n",
    "\n",
    "    elif len(x) == 4:\n",
    "        if \"(\" in x[3] or \")\" in x[3]:\n",
    "            if \".\" in x[0]:\n",
    "                x = x[1] + x[2]\n",
    "            elif \".\" in x[1]:\n",
    "                x = x[0] + x[2]\n",
    "            elif \".\" in x[2]:\n",
    "                x = x[0] + x[1]\n",
    "            else:\n",
    "                x = x[0] + x[1] + x[2]\n",
    "        else:\n",
    "            if \".\" in x[0]:\n",
    "                x = x[1] + x[2] + x[3]\n",
    "            elif \".\" in x[1]:\n",
    "                x = x[0] + x[2] + x[3]\n",
    "            elif \".\" in x[2]:\n",
    "                x = x[0] + x[1] + x[3]\n",
    "            elif \".\" in x[3]:\n",
    "                x = x[0] + x[1] + x[2]\n",
    "            else:\n",
    "                x = x[0] + x[1] + x[2] + x[3]\n",
    "            \n",
    "    else:\n",
    "        pass\n",
    "    \n",
    "    return x\n",
    "\n",
    "def find_start_index(name):\n",
    "    name = clean(name)\n",
    "    i = 0\n",
    "    jump_step = int(sqrt(len(stats)))\n",
    "    \n",
    "    while i < len(stats) and name[0] > clean(stats.iloc[i][\"Name\"])[0]:\n",
    "        i += jump_step\n",
    "    \n",
    "    if i >= jump_step:\n",
    "        i -= jump_step\n",
    "\n",
    "    return i\n",
    "\n",
    "def find_end_index(name):\n",
    "    name = clean(name)\n",
    "    i = len(stats)-1\n",
    "    jump_step = int(sqrt(len(stats)))\n",
    "    \n",
    "    while i >= 0 and name[0] < clean(stats.iloc[i][\"Name\"])[0]:\n",
    "        i -= jump_step\n",
    "\n",
    "    if i < len(stats)-jump_step:\n",
    "        i += jump_step\n",
    "\n",
    "    return i\n",
    "\n",
    "def similarity_score(a, b):\n",
    "    a = clean(a)\n",
    "    b = clean(b)\n",
    "    count = 0\n",
    "    length = min(len(a), len(b))\n",
    "    \n",
    "    for i in range(length):\n",
    "        if a[i] == b[i]:\n",
    "            count+=1\n",
    "            \n",
    "    return count/length\n",
    "\n",
    "def find_player_stats(name, debug=False):\n",
    "    best_match_index = -1\n",
    "    best_score = 0\n",
    "            \n",
    "    for i in range(find_start_index(name), find_end_index(name)):      \n",
    "        current_score = similarity_score(name, stats.iloc[i][\"Name\"])\n",
    "        if current_score > best_score:\n",
    "            best_score = current_score\n",
    "            best_match_index = i\n",
    "            \n",
    "    if best_match_index != -1:\n",
    "        if debug:\n",
    "            print(\"Search: \", name, \" | \", \"Best match: \", stats.iloc[best_match_index][\"Name\"])\n",
    "        return stats.iloc[best_match_index]\n",
    "        \n",
    "    else:\n",
    "        # Pick a random player's stat\n",
    "        return stats.iloc[random.randint(0, len(stats)-1)]\n",
    "    \n",
    "def get_nbest_scores(team_name, n=11):\n",
    "    players = team_players[team_name]\n",
    "    scores = []\n",
    "\n",
    "    # pprint(players)\n",
    "    for i in range(len(players)):\n",
    "        try:\n",
    "            scores.append(int(players[i][1]))\n",
    "\n",
    "        except:\n",
    "            player_score = int(find_player_stats(players[i])[\"Overall\"])\n",
    "            scores.append(player_score)\n",
    "            team_players[team_name][i] = [players[i], player_score]\n",
    "\n",
    "    scores.sort()\n",
    "    return scores[:n]"
   ]
  },
  {
   "cell_type": "markdown",
   "metadata": {},
   "source": [
    "### Define `merging`"
   ]
  },
  {
   "cell_type": "code",
   "execution_count": 13,
   "metadata": {},
   "outputs": [],
   "source": [
    "def run_merging(debug=False):\n",
    "    global final\n",
    "    \n",
    "    for i in range(len(matches)):\n",
    "        home_team_name = matches[\"Home Team Name\"][i]\n",
    "        away_team_name = matches[\"Away Team Name\"][i]\n",
    "\n",
    "        # # Add player's FIFA Overall scores # #\n",
    "        home_players_stats = get_nbest_scores(home_team_name)\n",
    "        away_players_stats = get_nbest_scores(away_team_name)\n",
    "\n",
    "        # # Agregate data # #\n",
    "        data = list(matches.iloc[i])\n",
    "        data += home_players_stats\n",
    "        data += away_players_stats\n",
    "\n",
    "        # # Append current data # # \n",
    "        final = final.append(pd.Series(data, index=final.columns), ignore_index=True)"
   ]
  },
  {
   "cell_type": "markdown",
   "metadata": {},
   "source": [
    "### Run `merging` (will take about an hour)"
   ]
  },
  {
   "cell_type": "code",
   "execution_count": 14,
   "metadata": {},
   "outputs": [],
   "source": [
    "run_merging(debug=False)"
   ]
  },
  {
   "cell_type": "code",
   "execution_count": 15,
   "metadata": {
    "scrolled": true
   },
   "outputs": [
    {
     "data": {
      "text/html": [
       "<div>\n",
       "<style scoped>\n",
       "    .dataframe tbody tr th:only-of-type {\n",
       "        vertical-align: middle;\n",
       "    }\n",
       "\n",
       "    .dataframe tbody tr th {\n",
       "        vertical-align: top;\n",
       "    }\n",
       "\n",
       "    .dataframe thead th {\n",
       "        text-align: right;\n",
       "    }\n",
       "</style>\n",
       "<table border=\"1\" class=\"dataframe\">\n",
       "  <thead>\n",
       "    <tr style=\"text-align: right;\">\n",
       "      <th></th>\n",
       "      <th>Away Team Goals</th>\n",
       "      <th>Away Team Name</th>\n",
       "      <th>Home Team Goals</th>\n",
       "      <th>Home Team Name</th>\n",
       "      <th>Home Player 1 Overall</th>\n",
       "      <th>Home Player 2 Overall</th>\n",
       "      <th>Home Player 3 Overall</th>\n",
       "      <th>Home Player 4 Overall</th>\n",
       "      <th>Home Player 5 Overall</th>\n",
       "      <th>Home Player 6 Overall</th>\n",
       "      <th>...</th>\n",
       "      <th>Away Player 2 Overall</th>\n",
       "      <th>Away Player 3 Overall</th>\n",
       "      <th>Away Player 4 Overall</th>\n",
       "      <th>Away Player 5 Overall</th>\n",
       "      <th>Away Player 6 Overall</th>\n",
       "      <th>Away Player 7 Overall</th>\n",
       "      <th>Away Player 8 Overall</th>\n",
       "      <th>Away Player 9 Overall</th>\n",
       "      <th>Away Player 10 Overall</th>\n",
       "      <th>Away Player 11 Overall</th>\n",
       "    </tr>\n",
       "  </thead>\n",
       "  <tbody>\n",
       "    <tr>\n",
       "      <th>0</th>\n",
       "      <td>0.0</td>\n",
       "      <td>France</td>\n",
       "      <td>0.0</td>\n",
       "      <td>Uruguay</td>\n",
       "      <td>59</td>\n",
       "      <td>60</td>\n",
       "      <td>62</td>\n",
       "      <td>66</td>\n",
       "      <td>66</td>\n",
       "      <td>66</td>\n",
       "      <td>...</td>\n",
       "      <td>56</td>\n",
       "      <td>56</td>\n",
       "      <td>60</td>\n",
       "      <td>60</td>\n",
       "      <td>62</td>\n",
       "      <td>62</td>\n",
       "      <td>63</td>\n",
       "      <td>63</td>\n",
       "      <td>64</td>\n",
       "      <td>64</td>\n",
       "    </tr>\n",
       "    <tr>\n",
       "      <th>1</th>\n",
       "      <td>0.0</td>\n",
       "      <td>Nigeria</td>\n",
       "      <td>1.0</td>\n",
       "      <td>Argentina</td>\n",
       "      <td>52</td>\n",
       "      <td>56</td>\n",
       "      <td>56</td>\n",
       "      <td>57</td>\n",
       "      <td>60</td>\n",
       "      <td>61</td>\n",
       "      <td>...</td>\n",
       "      <td>56</td>\n",
       "      <td>58</td>\n",
       "      <td>59</td>\n",
       "      <td>61</td>\n",
       "      <td>61</td>\n",
       "      <td>62</td>\n",
       "      <td>62</td>\n",
       "      <td>63</td>\n",
       "      <td>64</td>\n",
       "      <td>65</td>\n",
       "    </tr>\n",
       "    <tr>\n",
       "      <th>2</th>\n",
       "      <td>0.0</td>\n",
       "      <td>Australia</td>\n",
       "      <td>4.0</td>\n",
       "      <td>Germany</td>\n",
       "      <td>56</td>\n",
       "      <td>59</td>\n",
       "      <td>60</td>\n",
       "      <td>61</td>\n",
       "      <td>61</td>\n",
       "      <td>62</td>\n",
       "      <td>...</td>\n",
       "      <td>57</td>\n",
       "      <td>57</td>\n",
       "      <td>59</td>\n",
       "      <td>59</td>\n",
       "      <td>59</td>\n",
       "      <td>62</td>\n",
       "      <td>62</td>\n",
       "      <td>63</td>\n",
       "      <td>64</td>\n",
       "      <td>64</td>\n",
       "    </tr>\n",
       "    <tr>\n",
       "      <th>3</th>\n",
       "      <td>1.0</td>\n",
       "      <td>Switzerland</td>\n",
       "      <td>0.0</td>\n",
       "      <td>Spain</td>\n",
       "      <td>60</td>\n",
       "      <td>62</td>\n",
       "      <td>63</td>\n",
       "      <td>63</td>\n",
       "      <td>65</td>\n",
       "      <td>68</td>\n",
       "      <td>...</td>\n",
       "      <td>57</td>\n",
       "      <td>60</td>\n",
       "      <td>61</td>\n",
       "      <td>62</td>\n",
       "      <td>62</td>\n",
       "      <td>63</td>\n",
       "      <td>64</td>\n",
       "      <td>64</td>\n",
       "      <td>65</td>\n",
       "      <td>66</td>\n",
       "    </tr>\n",
       "    <tr>\n",
       "      <th>4</th>\n",
       "      <td>1.0</td>\n",
       "      <td>Korea Republic</td>\n",
       "      <td>4.0</td>\n",
       "      <td>Argentina</td>\n",
       "      <td>52</td>\n",
       "      <td>56</td>\n",
       "      <td>56</td>\n",
       "      <td>57</td>\n",
       "      <td>60</td>\n",
       "      <td>61</td>\n",
       "      <td>...</td>\n",
       "      <td>60</td>\n",
       "      <td>60</td>\n",
       "      <td>60</td>\n",
       "      <td>60</td>\n",
       "      <td>60</td>\n",
       "      <td>60</td>\n",
       "      <td>60</td>\n",
       "      <td>60</td>\n",
       "      <td>62</td>\n",
       "      <td>67</td>\n",
       "    </tr>\n",
       "  </tbody>\n",
       "</table>\n",
       "<p>5 rows × 26 columns</p>\n",
       "</div>"
      ],
      "text/plain": [
       "   Away Team Goals  Away Team Name  Home Team Goals Home Team Name  \\\n",
       "0              0.0          France              0.0        Uruguay   \n",
       "1              0.0         Nigeria              1.0      Argentina   \n",
       "2              0.0       Australia              4.0        Germany   \n",
       "3              1.0     Switzerland              0.0          Spain   \n",
       "4              1.0  Korea Republic              4.0      Argentina   \n",
       "\n",
       "  Home Player 1 Overall Home Player 2 Overall Home Player 3 Overall  \\\n",
       "0                    59                    60                    62   \n",
       "1                    52                    56                    56   \n",
       "2                    56                    59                    60   \n",
       "3                    60                    62                    63   \n",
       "4                    52                    56                    56   \n",
       "\n",
       "  Home Player 4 Overall Home Player 5 Overall Home Player 6 Overall  \\\n",
       "0                    66                    66                    66   \n",
       "1                    57                    60                    61   \n",
       "2                    61                    61                    62   \n",
       "3                    63                    65                    68   \n",
       "4                    57                    60                    61   \n",
       "\n",
       "           ...           Away Player 2 Overall Away Player 3 Overall  \\\n",
       "0          ...                              56                    56   \n",
       "1          ...                              56                    58   \n",
       "2          ...                              57                    57   \n",
       "3          ...                              57                    60   \n",
       "4          ...                              60                    60   \n",
       "\n",
       "  Away Player 4 Overall Away Player 5 Overall Away Player 6 Overall  \\\n",
       "0                    60                    60                    62   \n",
       "1                    59                    61                    61   \n",
       "2                    59                    59                    59   \n",
       "3                    61                    62                    62   \n",
       "4                    60                    60                    60   \n",
       "\n",
       "  Away Player 7 Overall Away Player 8 Overall Away Player 9 Overall  \\\n",
       "0                    62                    63                    63   \n",
       "1                    62                    62                    63   \n",
       "2                    62                    62                    63   \n",
       "3                    63                    64                    64   \n",
       "4                    60                    60                    60   \n",
       "\n",
       "  Away Player 10 Overall Away Player 11 Overall  \n",
       "0                     64                     64  \n",
       "1                     64                     65  \n",
       "2                     64                     64  \n",
       "3                     65                     66  \n",
       "4                     62                     67  \n",
       "\n",
       "[5 rows x 26 columns]"
      ]
     },
     "execution_count": 15,
     "metadata": {},
     "output_type": "execute_result"
    }
   ],
   "source": [
    "final.head()"
   ]
  },
  {
   "cell_type": "markdown",
   "metadata": {},
   "source": [
    "# Save `final` into CSV file and `team_players` into binary file"
   ]
  },
  {
   "cell_type": "code",
   "execution_count": 16,
   "metadata": {},
   "outputs": [],
   "source": [
    "final.to_csv(\"../final.csv\", index=0)"
   ]
  },
  {
   "cell_type": "code",
   "execution_count": 17,
   "metadata": {},
   "outputs": [],
   "source": [
    "with open(\"../../site/server/match_predictor/ml_data/team_players.b\", \"wb\") as f:\n",
    "    pickle.dump(team_players, f)"
   ]
  },
  {
   "cell_type": "code",
   "execution_count": null,
   "metadata": {},
   "outputs": [],
   "source": []
  }
 ],
 "metadata": {
  "kernelspec": {
   "display_name": "Python 3",
   "language": "python",
   "name": "python3"
  },
  "language_info": {
   "codemirror_mode": {
    "name": "ipython",
    "version": 3
   },
   "file_extension": ".py",
   "mimetype": "text/x-python",
   "name": "python",
   "nbconvert_exporter": "python",
   "pygments_lexer": "ipython3",
   "version": "3.6.5"
  }
 },
 "nbformat": 4,
 "nbformat_minor": 2
}
