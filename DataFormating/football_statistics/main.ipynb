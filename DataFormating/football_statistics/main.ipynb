{
 "cells": [
  {
   "cell_type": "code",
   "execution_count": 1,
   "metadata": {},
   "outputs": [],
   "source": [
    "import pandas as pd\n",
    "import seaborn as sns\n",
    "\n",
    "%matplotlib inline"
   ]
  },
  {
   "cell_type": "markdown",
   "metadata": {},
   "source": [
    "# Import datasets"
   ]
  },
  {
   "cell_type": "code",
   "execution_count": 2,
   "metadata": {},
   "outputs": [],
   "source": [
    "# World Wide matches\n",
    "wwmatches = pd.read_csv(\"../wwmatches.csv\")\n",
    "\n",
    "rankings = pd.read_csv(\"../fifa_rankings.csv\")"
   ]
  },
  {
   "cell_type": "code",
   "execution_count": 3,
   "metadata": {},
   "outputs": [
    {
     "data": {
      "text/html": [
       "<div>\n",
       "<style scoped>\n",
       "    .dataframe tbody tr th:only-of-type {\n",
       "        vertical-align: middle;\n",
       "    }\n",
       "\n",
       "    .dataframe tbody tr th {\n",
       "        vertical-align: top;\n",
       "    }\n",
       "\n",
       "    .dataframe thead th {\n",
       "        text-align: right;\n",
       "    }\n",
       "</style>\n",
       "<table border=\"1\" class=\"dataframe\">\n",
       "  <thead>\n",
       "    <tr style=\"text-align: right;\">\n",
       "      <th></th>\n",
       "      <th>Datetime</th>\n",
       "      <th>Home Team Name</th>\n",
       "      <th>Away Team Name</th>\n",
       "      <th>Home Team Goals</th>\n",
       "      <th>Away Team Goals</th>\n",
       "    </tr>\n",
       "  </thead>\n",
       "  <tbody>\n",
       "    <tr>\n",
       "      <th>0</th>\n",
       "      <td>2010-01-02</td>\n",
       "      <td>Iran</td>\n",
       "      <td>Korea DPR</td>\n",
       "      <td>1</td>\n",
       "      <td>0</td>\n",
       "    </tr>\n",
       "    <tr>\n",
       "      <th>1</th>\n",
       "      <td>2010-01-02</td>\n",
       "      <td>Qatar</td>\n",
       "      <td>Mali</td>\n",
       "      <td>0</td>\n",
       "      <td>0</td>\n",
       "    </tr>\n",
       "    <tr>\n",
       "      <th>2</th>\n",
       "      <td>2010-01-02</td>\n",
       "      <td>Syria</td>\n",
       "      <td>Zimbabwe</td>\n",
       "      <td>6</td>\n",
       "      <td>0</td>\n",
       "    </tr>\n",
       "    <tr>\n",
       "      <th>3</th>\n",
       "      <td>2010-01-02</td>\n",
       "      <td>Yemen</td>\n",
       "      <td>Tajikistan</td>\n",
       "      <td>0</td>\n",
       "      <td>1</td>\n",
       "    </tr>\n",
       "    <tr>\n",
       "      <th>4</th>\n",
       "      <td>2010-01-03</td>\n",
       "      <td>Angola</td>\n",
       "      <td>Gambia</td>\n",
       "      <td>1</td>\n",
       "      <td>1</td>\n",
       "    </tr>\n",
       "  </tbody>\n",
       "</table>\n",
       "</div>"
      ],
      "text/plain": [
       "     Datetime Home Team Name Away Team Name  Home Team Goals  Away Team Goals\n",
       "0  2010-01-02           Iran      Korea DPR                1                0\n",
       "1  2010-01-02          Qatar           Mali                0                0\n",
       "2  2010-01-02          Syria       Zimbabwe                6                0\n",
       "3  2010-01-02          Yemen     Tajikistan                0                1\n",
       "4  2010-01-03         Angola         Gambia                1                1"
      ]
     },
     "execution_count": 3,
     "metadata": {},
     "output_type": "execute_result"
    }
   ],
   "source": [
    "wwmatches.head()"
   ]
  },
  {
   "cell_type": "markdown",
   "metadata": {},
   "source": [
    "# Average Goals"
   ]
  },
  {
   "cell_type": "code",
   "execution_count": 4,
   "metadata": {},
   "outputs": [],
   "source": [
    "def get_average_goals(home, away, ignore_sides=False):\n",
    "    avg_home = 0\n",
    "    avg_away = 0\n",
    "    n = 0\n",
    "    \n",
    "    for i in range(len(wwmatches)):\n",
    "        if (home.lower() in wwmatches.iloc[i][\"Home Team Name\"].lower() and\n",
    "            away.lower() in wwmatches.iloc[i][\"Away Team Name\"].lower()):\n",
    "                avg_home += wwmatches.iloc[i][\"Home Team Goals\"]\n",
    "                avg_away += wwmatches.iloc[i][\"Away Team Goals\"]\n",
    "                n+=1\n",
    "        \n",
    "        if ignore_sides:\n",
    "            if (home.lower() in wwmatches.iloc[i][\"Away Team Name\"].lower() and\n",
    "                away.lower() in wwmatches.iloc[i][\"Home Team Name\"].lower()):\n",
    "                    avg_home += wwmatches.iloc[i][\"Away Team Goals\"]\n",
    "                    avg_away += wwmatches.iloc[i][\"Home Team Goals\"]\n",
    "                    n+=1\n",
    "\n",
    "    if n > 0:\n",
    "        return [\n",
    "            avg_home/n,\n",
    "            avg_away/n\n",
    "        ]\n",
    "\n",
    "    else:\n",
    "        return [0.0, 0.0]"
   ]
  },
  {
   "cell_type": "code",
   "execution_count": 5,
   "metadata": {},
   "outputs": [
    {
     "data": {
      "text/plain": [
       "[0.0, 0.0]"
      ]
     },
     "execution_count": 5,
     "metadata": {},
     "output_type": "execute_result"
    }
   ],
   "source": [
    "get_average_goals(\"Russia\", \"Saudi Arabia\")"
   ]
  },
  {
   "cell_type": "code",
   "execution_count": 6,
   "metadata": {},
   "outputs": [
    {
     "data": {
      "text/plain": [
       "[1.0, 0.0]"
      ]
     },
     "execution_count": 6,
     "metadata": {},
     "output_type": "execute_result"
    }
   ],
   "source": [
    "get_average_goals(\"Spain\", \"Portugal\")"
   ]
  },
  {
   "cell_type": "code",
   "execution_count": 7,
   "metadata": {},
   "outputs": [
    {
     "data": {
      "text/plain": [
       "[1.5, 1.0]"
      ]
     },
     "execution_count": 7,
     "metadata": {},
     "output_type": "execute_result"
    }
   ],
   "source": [
    "get_average_goals(\"Uruguay\", \"Argentina\")"
   ]
  },
  {
   "cell_type": "code",
   "execution_count": 8,
   "metadata": {},
   "outputs": [
    {
     "data": {
      "text/plain": [
       "[2.0, 0.0]"
      ]
     },
     "execution_count": 8,
     "metadata": {},
     "output_type": "execute_result"
    }
   ],
   "source": [
    "get_average_goals(\"Korea Republic\", \"Greece\")"
   ]
  },
  {
   "cell_type": "code",
   "execution_count": 9,
   "metadata": {},
   "outputs": [
    {
     "data": {
      "text/plain": [
       "[1.0, 0.0]"
      ]
     },
     "execution_count": 9,
     "metadata": {},
     "output_type": "execute_result"
    }
   ],
   "source": [
    "get_average_goals(\"England\", \"Belgium\")"
   ]
  },
  {
   "cell_type": "code",
   "execution_count": null,
   "metadata": {},
   "outputs": [],
   "source": []
  }
 ],
 "metadata": {
  "kernelspec": {
   "display_name": "Python 3",
   "language": "python",
   "name": "python3"
  },
  "language_info": {
   "codemirror_mode": {
    "name": "ipython",
    "version": 3
   },
   "file_extension": ".py",
   "mimetype": "text/x-python",
   "name": "python",
   "nbconvert_exporter": "python",
   "pygments_lexer": "ipython3",
   "version": "3.6.5"
  }
 },
 "nbformat": 4,
 "nbformat_minor": 2
}
