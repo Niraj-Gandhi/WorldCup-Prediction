{
 "cells": [
  {
   "cell_type": "code",
   "execution_count": 15,
   "metadata": {},
   "outputs": [],
   "source": [
    "import pandas as pd"
   ]
  },
  {
   "cell_type": "code",
   "execution_count": 16,
   "metadata": {},
   "outputs": [],
   "source": [
    "ranking = \"\"\"\n",
    "Germany\n",
    "Brazil\n",
    "Belgium\n",
    "Portugal\n",
    "Argentina\n",
    "Switzerland\n",
    "France\n",
    "Poland\n",
    "Chile\n",
    "Spain\n",
    "Peru\n",
    "Denmark\n",
    "England\n",
    "Uruguay\n",
    "Mexico\n",
    "Colombia\n",
    "Netherlands\n",
    "Wales\n",
    "Italy\n",
    "Croatia\n",
    "Tunisia\n",
    "Iceland\n",
    "Costa Rica\n",
    "Sweden\n",
    "USA\n",
    "Austria\n",
    "Senegal\n",
    "Slovakia\n",
    "Northern Ireland\n",
    "Romania\n",
    "Republic of Ireland\n",
    "Paraguay\n",
    "Venezuela\n",
    "Serbia\n",
    "Ukraine\n",
    "Australia\n",
    "IR Iran\n",
    "Turkey\n",
    "Congo DR\n",
    "rn\">Bosnia and Herzegovina\n",
    "Morocco\n",
    "Scotland\n",
    "Montenegro\n",
    "Greece\n",
    "Egypt\n",
    "Czech Republic\n",
    "Ghana\n",
    "Nigeria\n",
    "Bulgaria\n",
    "Cameroon\n",
    "Hungary\n",
    "Burkina Faso\n",
    "Norway\n",
    "Jamaica\n",
    "Panama\n",
    "Slovenia\n",
    "Korea Republic\n",
    "Albania\n",
    "Bolivia\n",
    "Ecuador\n",
    "Japan\n",
    "Honduras\n",
    "Finland\n",
    "Mali\n",
    "Cape Verde Islands\n",
    "Algeria\n",
    "Saudi Arabia\n",
    "C�te d'Ivoire\n",
    "Guinea\n",
    "Russia\n",
    "Macedonia\n",
    "El Salvador\n",
    "Syria\n",
    "South Africa\n",
    "China PR\n",
    "Zambia\n",
    "United Arab Emirates\n",
    "Belarus\n",
    "Lebanon\n",
    "Canada\n",
    "Curaçao\n",
    "Uganda\n",
    "Congo\n",
    "Oman\n",
    "Gabon\n",
    "Luxembourg\n",
    "Cyprus\n",
    "Benin\n",
    "Iraq\n",
    "Faroe Islands\n",
    "Trinidad and Tobago\n",
    "Kyrgyz Republic\n",
    "Israel\n",
    "Estonia\n",
    "Uzbekistan\n",
    "Georgia\n",
    "India\n",
    "Qatar\n",
    "Palestine\n",
    "Armenia\n",
    "New Zealand\n",
    "Korea DPR\n",
    "\"\"\"\n",
    "\n",
    "teams = ranking.split(\"\\n\")\n",
    "teams = teams[1:len(teams)-1]"
   ]
  },
  {
   "cell_type": "code",
   "execution_count": 17,
   "metadata": {},
   "outputs": [],
   "source": [
    "teams = dict([(teams[i], i+1) for i in range(len(teams))])"
   ]
  },
  {
   "cell_type": "code",
   "execution_count": null,
   "metadata": {},
   "outputs": [],
   "source": []
  },
  {
   "cell_type": "code",
   "execution_count": 18,
   "metadata": {},
   "outputs": [],
   "source": [
    "compressed_final = pd.read_csv(\"../compressed_final.csv\")\n",
    "\n",
    "compressed_final[\"Home Team FIFA Rank\"] = [teams[team_name] for team_name in compressed_final[\"Home Team Name\"]]\n",
    "compressed_final[\"Away Team FIFA Rank\"] = [teams[team_name] for team_name in compressed_final[\"Away Team Name\"]]"
   ]
  },
  {
   "cell_type": "code",
   "execution_count": 19,
   "metadata": {},
   "outputs": [],
   "source": [
    "compressed_final.to_csv(\"../compressed_final.csv\", index=0)"
   ]
  },
  {
   "cell_type": "code",
   "execution_count": null,
   "metadata": {},
   "outputs": [],
   "source": []
  },
  {
   "cell_type": "code",
   "execution_count": null,
   "metadata": {},
   "outputs": [],
   "source": []
  },
  {
   "cell_type": "code",
   "execution_count": null,
   "metadata": {},
   "outputs": [],
   "source": []
  }
 ],
 "metadata": {
  "kernelspec": {
   "display_name": "Python 3",
   "language": "python",
   "name": "python3"
  },
  "language_info": {
   "codemirror_mode": {
    "name": "ipython",
    "version": 3
   },
   "file_extension": ".py",
   "mimetype": "text/x-python",
   "name": "python",
   "nbconvert_exporter": "python",
   "pygments_lexer": "ipython3",
   "version": "3.6.5"
  }
 },
 "nbformat": 4,
 "nbformat_minor": 2
}
