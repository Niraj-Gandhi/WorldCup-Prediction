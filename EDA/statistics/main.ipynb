{
 "cells": [
  {
   "cell_type": "code",
   "execution_count": 1,
   "metadata": {},
   "outputs": [],
   "source": [
    "import pandas as pd\n",
    "import seaborn as sns\n",
    "\n",
    "%matplotlib inline"
   ]
  },
  {
   "cell_type": "markdown",
   "metadata": {},
   "source": [
    "# Import datasets"
   ]
  },
  {
   "cell_type": "code",
   "execution_count": 2,
   "metadata": {},
   "outputs": [],
   "source": [
    "# World Wide matches\n",
    "wwmatches = pd.read_csv(\"../wwmatches.csv\")\n",
    "\n",
    "# World Cup Matches\n",
    "matches = pd.read_csv(\"../WorldCupMatches.csv\")"
   ]
  },
  {
   "cell_type": "code",
   "execution_count": null,
   "metadata": {},
   "outputs": [],
   "source": []
  },
  {
   "cell_type": "code",
   "execution_count": 3,
   "metadata": {
    "scrolled": true
   },
   "outputs": [
    {
     "data": {
      "text/html": [
       "<div>\n",
       "<style scoped>\n",
       "    .dataframe tbody tr th:only-of-type {\n",
       "        vertical-align: middle;\n",
       "    }\n",
       "\n",
       "    .dataframe tbody tr th {\n",
       "        vertical-align: top;\n",
       "    }\n",
       "\n",
       "    .dataframe thead th {\n",
       "        text-align: right;\n",
       "    }\n",
       "</style>\n",
       "<table border=\"1\" class=\"dataframe\">\n",
       "  <thead>\n",
       "    <tr style=\"text-align: right;\">\n",
       "      <th></th>\n",
       "      <th>Year</th>\n",
       "      <th>Datetime</th>\n",
       "      <th>Stage</th>\n",
       "      <th>Home Team Name</th>\n",
       "      <th>Home Team Goals</th>\n",
       "      <th>Away Team Goals</th>\n",
       "      <th>Away Team Name</th>\n",
       "      <th>Attendance</th>\n",
       "      <th>Half-time Home Goals</th>\n",
       "      <th>Half-time Away Goals</th>\n",
       "      <th>Referee</th>\n",
       "      <th>Assistant 1</th>\n",
       "      <th>Assistant 2</th>\n",
       "      <th>Home Team Initials</th>\n",
       "      <th>Away Team Initials</th>\n",
       "    </tr>\n",
       "  </thead>\n",
       "  <tbody>\n",
       "    <tr>\n",
       "      <th>0</th>\n",
       "      <td>2010.0</td>\n",
       "      <td>11 Jun 2010 - 16:00</td>\n",
       "      <td>Group A</td>\n",
       "      <td>South Africa</td>\n",
       "      <td>1.0</td>\n",
       "      <td>1.0</td>\n",
       "      <td>Mexico</td>\n",
       "      <td>84490.0</td>\n",
       "      <td>0.0</td>\n",
       "      <td>0.0</td>\n",
       "      <td>Ravshan IRMATOV (UZB)</td>\n",
       "      <td>ILYASOV Rafael (UZB)</td>\n",
       "      <td>KOCHKAROV Bakhadyr (KGZ)</td>\n",
       "      <td>RSA</td>\n",
       "      <td>MEX</td>\n",
       "    </tr>\n",
       "    <tr>\n",
       "      <th>1</th>\n",
       "      <td>2010.0</td>\n",
       "      <td>11 Jun 2010 - 20:30</td>\n",
       "      <td>Group A</td>\n",
       "      <td>Uruguay</td>\n",
       "      <td>0.0</td>\n",
       "      <td>0.0</td>\n",
       "      <td>France</td>\n",
       "      <td>64100.0</td>\n",
       "      <td>0.0</td>\n",
       "      <td>0.0</td>\n",
       "      <td>NISHIMURA Yuichi (JPN)</td>\n",
       "      <td>SAGARA Toru (JPN)</td>\n",
       "      <td>JEONG Hae Sang (KOR)</td>\n",
       "      <td>URU</td>\n",
       "      <td>FRA</td>\n",
       "    </tr>\n",
       "    <tr>\n",
       "      <th>2</th>\n",
       "      <td>2010.0</td>\n",
       "      <td>12 Jun 2010 - 13:30</td>\n",
       "      <td>Group B</td>\n",
       "      <td>Korea Republic</td>\n",
       "      <td>2.0</td>\n",
       "      <td>0.0</td>\n",
       "      <td>Greece</td>\n",
       "      <td>31513.0</td>\n",
       "      <td>1.0</td>\n",
       "      <td>0.0</td>\n",
       "      <td>HESTER Michael (NZL)</td>\n",
       "      <td>HINTZ Jan Hendrik (NZL)</td>\n",
       "      <td>MAKASINI Tevita (TGA)</td>\n",
       "      <td>KOR</td>\n",
       "      <td>GRE</td>\n",
       "    </tr>\n",
       "    <tr>\n",
       "      <th>3</th>\n",
       "      <td>2010.0</td>\n",
       "      <td>12 Jun 2010 - 16:00</td>\n",
       "      <td>Group B</td>\n",
       "      <td>Argentina</td>\n",
       "      <td>1.0</td>\n",
       "      <td>0.0</td>\n",
       "      <td>Nigeria</td>\n",
       "      <td>55686.0</td>\n",
       "      <td>1.0</td>\n",
       "      <td>0.0</td>\n",
       "      <td>Wolfgang STARK (GER)</td>\n",
       "      <td>SALVER Jan-Hendrik (GER)</td>\n",
       "      <td>PICKEL Mike (GER)</td>\n",
       "      <td>ARG</td>\n",
       "      <td>NGA</td>\n",
       "    </tr>\n",
       "    <tr>\n",
       "      <th>4</th>\n",
       "      <td>2010.0</td>\n",
       "      <td>12 Jun 2010 - 20:30</td>\n",
       "      <td>Group C</td>\n",
       "      <td>England</td>\n",
       "      <td>1.0</td>\n",
       "      <td>1.0</td>\n",
       "      <td>USA</td>\n",
       "      <td>38646.0</td>\n",
       "      <td>1.0</td>\n",
       "      <td>1.0</td>\n",
       "      <td>SIMON Carlos (BRA)</td>\n",
       "      <td>HAUSMANN Altemir (BRA)</td>\n",
       "      <td>BRAATZ Roberto (BRA)</td>\n",
       "      <td>ENG</td>\n",
       "      <td>USA</td>\n",
       "    </tr>\n",
       "  </tbody>\n",
       "</table>\n",
       "</div>"
      ],
      "text/plain": [
       "     Year              Datetime    Stage  Home Team Name  Home Team Goals  \\\n",
       "0  2010.0  11 Jun 2010 - 16:00   Group A    South Africa              1.0   \n",
       "1  2010.0  11 Jun 2010 - 20:30   Group A         Uruguay              0.0   \n",
       "2  2010.0  12 Jun 2010 - 13:30   Group B  Korea Republic              2.0   \n",
       "3  2010.0  12 Jun 2010 - 16:00   Group B       Argentina              1.0   \n",
       "4  2010.0  12 Jun 2010 - 20:30   Group C         England              1.0   \n",
       "\n",
       "   Away Team Goals Away Team Name  Attendance  Half-time Home Goals  \\\n",
       "0              1.0         Mexico     84490.0                   0.0   \n",
       "1              0.0         France     64100.0                   0.0   \n",
       "2              0.0         Greece     31513.0                   1.0   \n",
       "3              0.0        Nigeria     55686.0                   1.0   \n",
       "4              1.0            USA     38646.0                   1.0   \n",
       "\n",
       "   Half-time Away Goals                 Referee               Assistant 1  \\\n",
       "0                   0.0   Ravshan IRMATOV (UZB)      ILYASOV Rafael (UZB)   \n",
       "1                   0.0  NISHIMURA Yuichi (JPN)         SAGARA Toru (JPN)   \n",
       "2                   0.0    HESTER Michael (NZL)   HINTZ Jan Hendrik (NZL)   \n",
       "3                   0.0    Wolfgang STARK (GER)  SALVER Jan-Hendrik (GER)   \n",
       "4                   1.0      SIMON Carlos (BRA)    HAUSMANN Altemir (BRA)   \n",
       "\n",
       "                Assistant 2 Home Team Initials Away Team Initials  \n",
       "0  KOCHKAROV Bakhadyr (KGZ)                RSA                MEX  \n",
       "1      JEONG Hae Sang (KOR)                URU                FRA  \n",
       "2     MAKASINI Tevita (TGA)                KOR                GRE  \n",
       "3         PICKEL Mike (GER)                ARG                NGA  \n",
       "4      BRAATZ Roberto (BRA)                ENG                USA  "
      ]
     },
     "execution_count": 3,
     "metadata": {},
     "output_type": "execute_result"
    }
   ],
   "source": [
    "matches.head()"
   ]
  },
  {
   "cell_type": "code",
   "execution_count": 4,
   "metadata": {},
   "outputs": [
    {
     "data": {
      "text/html": [
       "<div>\n",
       "<style scoped>\n",
       "    .dataframe tbody tr th:only-of-type {\n",
       "        vertical-align: middle;\n",
       "    }\n",
       "\n",
       "    .dataframe tbody tr th {\n",
       "        vertical-align: top;\n",
       "    }\n",
       "\n",
       "    .dataframe thead th {\n",
       "        text-align: right;\n",
       "    }\n",
       "</style>\n",
       "<table border=\"1\" class=\"dataframe\">\n",
       "  <thead>\n",
       "    <tr style=\"text-align: right;\">\n",
       "      <th></th>\n",
       "      <th>Datetime</th>\n",
       "      <th>Home Team Name</th>\n",
       "      <th>Away Team Name</th>\n",
       "      <th>Home Team Goals</th>\n",
       "      <th>Away Team Goals</th>\n",
       "    </tr>\n",
       "  </thead>\n",
       "  <tbody>\n",
       "    <tr>\n",
       "      <th>0</th>\n",
       "      <td>2010-01-02</td>\n",
       "      <td>Iran</td>\n",
       "      <td>Korea DPR</td>\n",
       "      <td>1</td>\n",
       "      <td>0</td>\n",
       "    </tr>\n",
       "    <tr>\n",
       "      <th>1</th>\n",
       "      <td>2010-01-02</td>\n",
       "      <td>Qatar</td>\n",
       "      <td>Mali</td>\n",
       "      <td>0</td>\n",
       "      <td>0</td>\n",
       "    </tr>\n",
       "    <tr>\n",
       "      <th>2</th>\n",
       "      <td>2010-01-02</td>\n",
       "      <td>Syria</td>\n",
       "      <td>Zimbabwe</td>\n",
       "      <td>6</td>\n",
       "      <td>0</td>\n",
       "    </tr>\n",
       "    <tr>\n",
       "      <th>3</th>\n",
       "      <td>2010-01-02</td>\n",
       "      <td>Yemen</td>\n",
       "      <td>Tajikistan</td>\n",
       "      <td>0</td>\n",
       "      <td>1</td>\n",
       "    </tr>\n",
       "    <tr>\n",
       "      <th>4</th>\n",
       "      <td>2010-01-03</td>\n",
       "      <td>Angola</td>\n",
       "      <td>Gambia</td>\n",
       "      <td>1</td>\n",
       "      <td>1</td>\n",
       "    </tr>\n",
       "  </tbody>\n",
       "</table>\n",
       "</div>"
      ],
      "text/plain": [
       "     Datetime Home Team Name Away Team Name  Home Team Goals  Away Team Goals\n",
       "0  2010-01-02           Iran      Korea DPR                1                0\n",
       "1  2010-01-02          Qatar           Mali                0                0\n",
       "2  2010-01-02          Syria       Zimbabwe                6                0\n",
       "3  2010-01-02          Yemen     Tajikistan                0                1\n",
       "4  2010-01-03         Angola         Gambia                1                1"
      ]
     },
     "execution_count": 4,
     "metadata": {},
     "output_type": "execute_result"
    }
   ],
   "source": [
    "wwmatches.head()"
   ]
  },
  {
   "cell_type": "code",
   "execution_count": null,
   "metadata": {},
   "outputs": [],
   "source": []
  },
  {
   "cell_type": "markdown",
   "metadata": {},
   "source": [
    "# Average Goals"
   ]
  },
  {
   "cell_type": "code",
   "execution_count": 5,
   "metadata": {},
   "outputs": [],
   "source": [
    "def get_average_goals(home, away, data=wwmatches):\n",
    "    avg_home = 0\n",
    "    avg_away = 0\n",
    "    n = 0\n",
    "    \n",
    "    for i in range(len(wwmatches)):\n",
    "        if (home.lower() in wwmatches.iloc[i][\"Home Team Name\"].lower() and\n",
    "            away.lower() in wwmatches.iloc[i][\"Away Team Name\"].lower()):\n",
    "                avg_home += wwmatches.iloc[i][\"Home Team Goals\"]\n",
    "                avg_away += wwmatches.iloc[i][\"Away Team Goals\"]\n",
    "                n+=1\n",
    "    \n",
    "    return [\n",
    "        avg_home/n,\n",
    "        avg_away/n\n",
    "    ]"
   ]
  },
  {
   "cell_type": "code",
   "execution_count": 6,
   "metadata": {},
   "outputs": [
    {
     "data": {
      "text/plain": [
       "[1.5, 2.5]"
      ]
     },
     "execution_count": 6,
     "metadata": {},
     "output_type": "execute_result"
    }
   ],
   "source": [
    "get_average_goals(\"Russia\", \"Belgium\")"
   ]
  },
  {
   "cell_type": "code",
   "execution_count": null,
   "metadata": {},
   "outputs": [],
   "source": []
  }
 ],
 "metadata": {
  "kernelspec": {
   "display_name": "Python 3",
   "language": "python",
   "name": "python3"
  },
  "language_info": {
   "codemirror_mode": {
    "name": "ipython",
    "version": 3
   },
   "file_extension": ".py",
   "mimetype": "text/x-python",
   "name": "python",
   "nbconvert_exporter": "python",
   "pygments_lexer": "ipython3",
   "version": "3.6.5"
  }
 },
 "nbformat": 4,
 "nbformat_minor": 2
}
