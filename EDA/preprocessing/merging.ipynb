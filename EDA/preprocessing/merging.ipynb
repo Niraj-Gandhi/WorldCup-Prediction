{
 "cells": [
  {
   "cell_type": "code",
   "execution_count": 189,
   "metadata": {},
   "outputs": [],
   "source": [
    "import pandas as pd\n",
    "from math import sqrt\n",
    "import random"
   ]
  },
  {
   "cell_type": "markdown",
   "metadata": {},
   "source": [
    "# Importing Datasets"
   ]
  },
  {
   "cell_type": "code",
   "execution_count": 190,
   "metadata": {},
   "outputs": [],
   "source": [
    "# World Cup Matches\n",
    "matches = pd.read_csv(\"../WorldCupMatches.csv\")\n",
    "\n",
    "# World Cup Players\n",
    "players = pd.read_csv(\"../WorldCupPlayers.csv\")\n",
    "\n",
    "# World Cups\n",
    "cups = pd.read_csv(\"../WorldCups.csv\")\n",
    "\n",
    "# Player Stats\n",
    "stats = pd.read_csv(\"../PlayersStats.csv\")"
   ]
  },
  {
   "cell_type": "markdown",
   "metadata": {},
   "source": [
    "# Match Players with Matches\n",
    "\n",
    "# Add Player's overall FIFA score"
   ]
  },
  {
   "cell_type": "markdown",
   "metadata": {},
   "source": [
    "### Define `final` DataFrame"
   ]
  },
  {
   "cell_type": "code",
   "execution_count": 191,
   "metadata": {},
   "outputs": [],
   "source": [
    "columns = list(matches.columns)\n",
    "\n",
    "new = [\n",
    "    \"Home Coach Name\",\n",
    "    \"Home Player 1\", \"Home Player 2\", \n",
    "    \"Home Player 3\", \"Home Player 4\", \n",
    "    \"Home Player 5\", \"Home Player 6\", \n",
    "    \"Home Player 7\", \"Home Player 8\", \n",
    "    \"Home Player 9\", \"Home Player 10\",\n",
    "    \"Home Player 11\",\n",
    "\n",
    "    \"Away Coach Name\",\n",
    "    \"Away Player 1\", \"Away Player 2\", \n",
    "    \"Away Player 3\", \"Away Player 4\", \n",
    "    \"Away Player 5\", \"Away Player 6\", \n",
    "    \"Away Player 7\", \"Away Player 8\", \n",
    "    \"Away Player 9\",\"Away Player 10\",\n",
    "    \"Away Player 11\",\n",
    "    \n",
    "    \"Home Player 1 Stats\", \"Home Player 2 Stats\", \n",
    "    \"Home Player 3 Stats\", \"Home Player 4 Stats\", \n",
    "    \"Home Player 5 Stats\", \"Home Player 6 Stats\", \n",
    "    \"Home Player 7 Stats\", \"Home Player 8 Stats\", \n",
    "    \"Home Player 9 Stats\",\"Home Player 10 Stats\",\n",
    "    \"Home Player 11 Stats\",\n",
    "\n",
    "    \"Away Player 1 Stats\", \"Away Player 2 Stats\", \n",
    "    \"Away Player 3 Stats\", \"Away Player 4 Stats\", \n",
    "    \"Away Player 5 Stats\", \"Away Player 6 Stats\", \n",
    "    \"Away Player 7 Stats\", \"Away Player 8 Stats\", \n",
    "    \"Away Player 9 Stats\",\"Away Player 10 Stats\",\n",
    "    \"Away Player 11 Stats\"\n",
    "]\n",
    "\n",
    "columns += new\n",
    "final = pd.DataFrame(columns=columns)"
   ]
  },
  {
   "cell_type": "markdown",
   "metadata": {},
   "source": [
    "### Preparing utility functions"
   ]
  },
  {
   "cell_type": "code",
   "execution_count": 192,
   "metadata": {},
   "outputs": [],
   "source": [
    "# final.columns"
   ]
  },
  {
   "cell_type": "code",
   "execution_count": 193,
   "metadata": {},
   "outputs": [],
   "source": [
    "stats = stats.sort_values(by=\"Name\")\n",
    "stats = stats.reset_index().drop(\"index\", axis=1)"
   ]
  },
  {
   "cell_type": "code",
   "execution_count": 194,
   "metadata": {
    "scrolled": false
   },
   "outputs": [
    {
     "data": {
      "text/html": [
       "<div>\n",
       "<style scoped>\n",
       "    .dataframe tbody tr th:only-of-type {\n",
       "        vertical-align: middle;\n",
       "    }\n",
       "\n",
       "    .dataframe tbody tr th {\n",
       "        vertical-align: top;\n",
       "    }\n",
       "\n",
       "    .dataframe thead th {\n",
       "        text-align: right;\n",
       "    }\n",
       "</style>\n",
       "<table border=\"1\" class=\"dataframe\">\n",
       "  <thead>\n",
       "    <tr style=\"text-align: right;\">\n",
       "      <th></th>\n",
       "      <th>Name</th>\n",
       "      <th>Overall</th>\n",
       "    </tr>\n",
       "  </thead>\n",
       "  <tbody>\n",
       "    <tr>\n",
       "      <th>0</th>\n",
       "      <td>A. Abbas</td>\n",
       "      <td>62</td>\n",
       "    </tr>\n",
       "    <tr>\n",
       "      <th>1</th>\n",
       "      <td>A. Abbas</td>\n",
       "      <td>64</td>\n",
       "    </tr>\n",
       "    <tr>\n",
       "      <th>2</th>\n",
       "      <td>A. Abdallah</td>\n",
       "      <td>52</td>\n",
       "    </tr>\n",
       "    <tr>\n",
       "      <th>3</th>\n",
       "      <td>A. Abdennour</td>\n",
       "      <td>77</td>\n",
       "    </tr>\n",
       "    <tr>\n",
       "      <th>4</th>\n",
       "      <td>A. Abdi</td>\n",
       "      <td>71</td>\n",
       "    </tr>\n",
       "  </tbody>\n",
       "</table>\n",
       "</div>"
      ],
      "text/plain": [
       "           Name  Overall\n",
       "0      A. Abbas       62\n",
       "1      A. Abbas       64\n",
       "2   A. Abdallah       52\n",
       "3  A. Abdennour       77\n",
       "4       A. Abdi       71"
      ]
     },
     "execution_count": 194,
     "metadata": {},
     "output_type": "execute_result"
    }
   ],
   "source": [
    "stats.head()"
   ]
  },
  {
   "cell_type": "code",
   "execution_count": 195,
   "metadata": {},
   "outputs": [],
   "source": [
    "def clean(x):\n",
    "    x = x.lower().strip().split(\" \")\n",
    "\n",
    "    if len(x) == 1:\n",
    "        x = x[0]\n",
    "\n",
    "    elif len(x) == 2:\n",
    "        if \".\" in x[0]:\n",
    "            x = x[1]\n",
    "        elif \".\" in x[1]:\n",
    "            x = x[0]\n",
    "        else:\n",
    "            x = x[0] + x[1]\n",
    "\n",
    "    elif len(x) == 3:\n",
    "        if \".\" in x[0]:\n",
    "            x = x[1] + x[2]\n",
    "        elif \".\" in x[1]:\n",
    "            x = x[0] + x[2]\n",
    "        elif \".\" in x[2]:\n",
    "            x = x[0] + x[1]\n",
    "        else:\n",
    "            x = x[0] + x[1] + x[2]\n",
    "\n",
    "    elif len(x) == 4:\n",
    "        if \"(\" in x[3] or \")\" in x[3]:\n",
    "            if \".\" in x[0]:\n",
    "                x = x[1] + x[2]\n",
    "            elif \".\" in x[1]:\n",
    "                x = x[0] + x[2]\n",
    "            elif \".\" in x[2]:\n",
    "                x = x[0] + x[1]\n",
    "            else:\n",
    "                x = x[0] + x[1] + x[2]\n",
    "        else:\n",
    "            if \".\" in x[0]:\n",
    "                x = x[1] + x[2] + x[3]\n",
    "            elif \".\" in x[1]:\n",
    "                x = x[0] + x[2] + x[3]\n",
    "            elif \".\" in x[2]:\n",
    "                x = x[0] + x[1] + x[3]\n",
    "            elif \".\" in x[3]:\n",
    "                x = x[0] + x[1] + x[2]\n",
    "            else:\n",
    "                x = x[0] + x[1] + x[2] + x[3]\n",
    "            \n",
    "    else:\n",
    "        pass\n",
    "    \n",
    "    return x\n",
    "\n",
    "def find_start_index(name):\n",
    "    name = clean(name)\n",
    "    i = 0\n",
    "    jump_step = int(sqrt(len(stats)))\n",
    "    \n",
    "    while i < len(stats) and name[0] > clean(stats.iloc[i][\"Name\"])[0]:\n",
    "        i += jump_step\n",
    "    \n",
    "    i -= jump_step\n",
    "    return i\n",
    "\n",
    "def find_end_index(name):\n",
    "    name = clean(name)\n",
    "    i = len(stats)-1\n",
    "    jump_step = int(sqrt(len(stats)))\n",
    "    \n",
    "    while i >= 0 and name[0] < clean(stats.iloc[i][\"Name\"])[0]:\n",
    "        i -= jump_step\n",
    "    \n",
    "    i += jump_step\n",
    "    return i\n",
    "\n",
    "def similarity_score(a, b):\n",
    "    a = clean(a)\n",
    "    b = clean(b)\n",
    "    count = 0\n",
    "    length = min(len(a), len(b))\n",
    "    \n",
    "    for i in range(length):\n",
    "        if a[i] == b[i]:\n",
    "            count+=1\n",
    "            \n",
    "    return count/length"
   ]
  },
  {
   "cell_type": "markdown",
   "metadata": {},
   "source": [
    "### Define `merging`"
   ]
  },
  {
   "cell_type": "code",
   "execution_count": 196,
   "metadata": {},
   "outputs": [],
   "source": [
    "DEFAULT_OVERALL_SCORE = 65\n",
    "\n",
    "def run_merging(debug=False, DEFAULT_OVERALL_SCORE=DEFAULT_OVERALL_SCORE):\n",
    "    global final\n",
    "    \n",
    "    for i in range(len(matches)):\n",
    "        \n",
    "        # # Add Players's name # #\n",
    "        \n",
    "        home = [\"coach\"]\n",
    "        away = [\"coach\"]\n",
    "        HomeInitials = matches.iloc[i][\"Home Team Initials\"]\n",
    "        AwayInitials = matches.iloc[i][\"Away Team Initials\"]   \n",
    "\n",
    "        for j in range(len(players)):\n",
    "            player = players.iloc[j][\"Player Name\"]\n",
    "            coach = players.iloc[j][\"Coach Name\"]\n",
    "\n",
    "            if HomeInitials == players.iloc[j][\"Team Initials\"]:\n",
    "                home[0] = coach\n",
    "                home.append(player)\n",
    "            elif AwayInitials == players.iloc[j][\"Team Initials\"]:\n",
    "                away[0] = coach\n",
    "                away.append(player)\n",
    "            else:\n",
    "                pass\n",
    "\n",
    "        while len(home) != 12:\n",
    "            if len(home) > 12:\n",
    "                del home[random.randint(1, len(home) - 1)]\n",
    "            else:\n",
    "                home.append(random.choice(home))\n",
    "\n",
    "\n",
    "        while len(away) != 12:\n",
    "            if len(away) > 12:\n",
    "                del away[random.randint(1, len(away) - 1)]\n",
    "            else:\n",
    "                away.append(random.choice(away))\n",
    "\n",
    "        # # Add Player's overall FIFA score # #\n",
    "        \n",
    "        home_stats = []\n",
    "        for name in home[1:]:\n",
    "            best_match_index = -1\n",
    "            best_score = 0\n",
    "\n",
    "            for j in range(find_start_index(name), find_end_index(name)):         \n",
    "                current_score = similarity_score(name, stats.iloc[j][\"Name\"])\n",
    "\n",
    "                if current_score > best_score:\n",
    "                    best_score = current_score\n",
    "                    best_match_index = j\n",
    "            \n",
    "            if best_match_index != -1:\n",
    "                home_stats.append(stats.iloc[best_match_index][\"Overall\"])\n",
    "                if debug:\n",
    "                    print(\"Search: \", name, \" | \", \"Best match: \", stats.iloc[best_match_index][\"Name\"])\n",
    "            else:\n",
    "                home_stats.append(DEFAULT_OVERALL_SCORE)\n",
    "                        \n",
    "        away_stats = []\n",
    "        for name in away[1:]:\n",
    "            best_match_index = -1\n",
    "            best_score = 0\n",
    "\n",
    "            for j in range(find_start_index(name), find_end_index(name)):            \n",
    "                current_score = similarity_score(name, stats.iloc[j][\"Name\"])\n",
    "\n",
    "                if current_score > best_score:\n",
    "                    best_score = current_score\n",
    "                    best_match_index = j\n",
    "            \n",
    "            if best_match_index != -1:\n",
    "                away_stats.append(stats.iloc[best_match_index][\"Overall\"])\n",
    "                if debug:\n",
    "                    print(\"Search: \", name, \" | \", \"Best match: \", stats.iloc[best_match_index][\"Name\"])\n",
    "            else:\n",
    "                away_stats.append(DEFAULT_OVERALL_SCORE)\n",
    "                    \n",
    "        data = list(matches.iloc[i])\n",
    "        data += home\n",
    "        data += away\n",
    "        data += home_stats\n",
    "        data += away_stats\n",
    "\n",
    "        final = final.append(pd.Series(data, index=columns), ignore_index=True)"
   ]
  },
  {
   "cell_type": "markdown",
   "metadata": {},
   "source": [
    "### Run `merging` (will take about an hour)"
   ]
  },
  {
   "cell_type": "code",
   "execution_count": 197,
   "metadata": {},
   "outputs": [
    {
     "name": "stdout",
     "output_type": "stream",
     "text": [
      "Search:  Lucas RADEBE  |  Best match:  Lucas\n",
      "Search:  RADEBE  |  Best match:  T. Hadebe\n",
      "Search:  KHUNE  |  Best match:  I. Khune\n",
      "Search:  JOSEPHS  |  Best match:  A. Rose\n",
      "Search:  JOSEPHS  |  Best match:  A. Rose\n",
      "Search:  JOSEPHS  |  Best match:  A. Rose\n",
      "Search:  JOSEPHS  |  Best match:  A. Rose\n",
      "Search:  JOSEPHS  |  Best match:  A. Rose\n",
      "Search:  RADEBE  |  Best match:  T. Hadebe\n",
      "Search:  JOSEPHS  |  Best match:  A. Rose\n",
      "Search:  Lucas RADEBE  |  Best match:  Lucas\n",
      "Search:  Horacio CASARIN  |  Best match:  I. Hora\n",
      "Search:  Gustavo PENA  |  Best match:  Gustavo Hebling\n",
      "Search:  Arturo VAZQUEZ  |  Best match:  Artur\n",
      "Search:  Jose REYES  |  Best match:  Josete\n",
      "Search:  Pedro SOTO  |  Best match:  Pedro\n",
      "Search:  Tomas BOY  |  Best match:  X. Tomas\n",
      "Search:  Alberto GARCIA ASPE  |  Best match:  Alberto\n",
      "Search:  O. PEREZ  |  Best match:  M. Perez\n",
      "Search:  R. MARQUEZ  |  Best match:  R. Marquez\n",
      "Search:  G TORRADO  |  Best match:  F. Iturrado\n"
     ]
    },
    {
     "ename": "KeyboardInterrupt",
     "evalue": "",
     "output_type": "error",
     "traceback": [
      "\u001b[0;31m---------------------------------------------------------------------------\u001b[0m",
      "\u001b[0;31mKeyboardInterrupt\u001b[0m                         Traceback (most recent call last)",
      "\u001b[0;32m<ipython-input-197-9d9ab231285c>\u001b[0m in \u001b[0;36m<module>\u001b[0;34m()\u001b[0m\n\u001b[0;32m----> 1\u001b[0;31m \u001b[0mrun_merging\u001b[0m\u001b[0;34m(\u001b[0m\u001b[0mdebug\u001b[0m\u001b[0;34m=\u001b[0m\u001b[0;32mTrue\u001b[0m\u001b[0;34m)\u001b[0m\u001b[0;34m\u001b[0m\u001b[0m\n\u001b[0m",
      "\u001b[0;32m<ipython-input-196-3fc2f5cc0561>\u001b[0m in \u001b[0;36mrun_merging\u001b[0;34m(debug, DEFAULT_OVERALL_SCORE)\u001b[0m\n\u001b[1;32m     66\u001b[0m \u001b[0;34m\u001b[0m\u001b[0m\n\u001b[1;32m     67\u001b[0m             \u001b[0;32mfor\u001b[0m \u001b[0mj\u001b[0m \u001b[0;32min\u001b[0m \u001b[0mrange\u001b[0m\u001b[0;34m(\u001b[0m\u001b[0mfind_start_index\u001b[0m\u001b[0;34m(\u001b[0m\u001b[0mname\u001b[0m\u001b[0;34m)\u001b[0m\u001b[0;34m,\u001b[0m \u001b[0mfind_end_index\u001b[0m\u001b[0;34m(\u001b[0m\u001b[0mname\u001b[0m\u001b[0;34m)\u001b[0m\u001b[0;34m)\u001b[0m\u001b[0;34m:\u001b[0m\u001b[0;34m\u001b[0m\u001b[0m\n\u001b[0;32m---> 68\u001b[0;31m                 \u001b[0mcurrent_score\u001b[0m \u001b[0;34m=\u001b[0m \u001b[0msimilarity_score\u001b[0m\u001b[0;34m(\u001b[0m\u001b[0mname\u001b[0m\u001b[0;34m,\u001b[0m \u001b[0mstats\u001b[0m\u001b[0;34m.\u001b[0m\u001b[0miloc\u001b[0m\u001b[0;34m[\u001b[0m\u001b[0mj\u001b[0m\u001b[0;34m]\u001b[0m\u001b[0;34m[\u001b[0m\u001b[0;34m\"Name\"\u001b[0m\u001b[0;34m]\u001b[0m\u001b[0;34m)\u001b[0m\u001b[0;34m\u001b[0m\u001b[0m\n\u001b[0m\u001b[1;32m     69\u001b[0m \u001b[0;34m\u001b[0m\u001b[0m\n\u001b[1;32m     70\u001b[0m                 \u001b[0;32mif\u001b[0m \u001b[0mcurrent_score\u001b[0m \u001b[0;34m>\u001b[0m \u001b[0mbest_score\u001b[0m\u001b[0;34m:\u001b[0m\u001b[0;34m\u001b[0m\u001b[0m\n",
      "\u001b[0;32m~/Documents/WorldCup-Prediction/.venv/lib/python3.6/site-packages/pandas/core/indexing.py\u001b[0m in \u001b[0;36m__getitem__\u001b[0;34m(self, key)\u001b[0m\n\u001b[1;32m   1476\u001b[0m \u001b[0;34m\u001b[0m\u001b[0m\n\u001b[1;32m   1477\u001b[0m             \u001b[0mmaybe_callable\u001b[0m \u001b[0;34m=\u001b[0m \u001b[0mcom\u001b[0m\u001b[0;34m.\u001b[0m\u001b[0m_apply_if_callable\u001b[0m\u001b[0;34m(\u001b[0m\u001b[0mkey\u001b[0m\u001b[0;34m,\u001b[0m \u001b[0mself\u001b[0m\u001b[0;34m.\u001b[0m\u001b[0mobj\u001b[0m\u001b[0;34m)\u001b[0m\u001b[0;34m\u001b[0m\u001b[0m\n\u001b[0;32m-> 1478\u001b[0;31m             \u001b[0;32mreturn\u001b[0m \u001b[0mself\u001b[0m\u001b[0;34m.\u001b[0m\u001b[0m_getitem_axis\u001b[0m\u001b[0;34m(\u001b[0m\u001b[0mmaybe_callable\u001b[0m\u001b[0;34m,\u001b[0m \u001b[0maxis\u001b[0m\u001b[0;34m=\u001b[0m\u001b[0maxis\u001b[0m\u001b[0;34m)\u001b[0m\u001b[0;34m\u001b[0m\u001b[0m\n\u001b[0m\u001b[1;32m   1479\u001b[0m \u001b[0;34m\u001b[0m\u001b[0m\n\u001b[1;32m   1480\u001b[0m     \u001b[0;32mdef\u001b[0m \u001b[0m_is_scalar_access\u001b[0m\u001b[0;34m(\u001b[0m\u001b[0mself\u001b[0m\u001b[0;34m,\u001b[0m \u001b[0mkey\u001b[0m\u001b[0;34m)\u001b[0m\u001b[0;34m:\u001b[0m\u001b[0;34m\u001b[0m\u001b[0m\n",
      "\u001b[0;32m~/Documents/WorldCup-Prediction/.venv/lib/python3.6/site-packages/pandas/core/indexing.py\u001b[0m in \u001b[0;36m_getitem_axis\u001b[0;34m(self, key, axis)\u001b[0m\n\u001b[1;32m   2102\u001b[0m             \u001b[0mself\u001b[0m\u001b[0;34m.\u001b[0m\u001b[0m_validate_integer\u001b[0m\u001b[0;34m(\u001b[0m\u001b[0mkey\u001b[0m\u001b[0;34m,\u001b[0m \u001b[0maxis\u001b[0m\u001b[0;34m)\u001b[0m\u001b[0;34m\u001b[0m\u001b[0m\n\u001b[1;32m   2103\u001b[0m \u001b[0;34m\u001b[0m\u001b[0m\n\u001b[0;32m-> 2104\u001b[0;31m             \u001b[0;32mreturn\u001b[0m \u001b[0mself\u001b[0m\u001b[0;34m.\u001b[0m\u001b[0m_get_loc\u001b[0m\u001b[0;34m(\u001b[0m\u001b[0mkey\u001b[0m\u001b[0;34m,\u001b[0m \u001b[0maxis\u001b[0m\u001b[0;34m=\u001b[0m\u001b[0maxis\u001b[0m\u001b[0;34m)\u001b[0m\u001b[0;34m\u001b[0m\u001b[0m\n\u001b[0m\u001b[1;32m   2105\u001b[0m \u001b[0;34m\u001b[0m\u001b[0m\n\u001b[1;32m   2106\u001b[0m     \u001b[0;32mdef\u001b[0m \u001b[0m_convert_to_indexer\u001b[0m\u001b[0;34m(\u001b[0m\u001b[0mself\u001b[0m\u001b[0;34m,\u001b[0m \u001b[0mobj\u001b[0m\u001b[0;34m,\u001b[0m \u001b[0maxis\u001b[0m\u001b[0;34m=\u001b[0m\u001b[0;32mNone\u001b[0m\u001b[0;34m,\u001b[0m \u001b[0mis_setter\u001b[0m\u001b[0;34m=\u001b[0m\u001b[0;32mFalse\u001b[0m\u001b[0;34m)\u001b[0m\u001b[0;34m:\u001b[0m\u001b[0;34m\u001b[0m\u001b[0m\n",
      "\u001b[0;32m~/Documents/WorldCup-Prediction/.venv/lib/python3.6/site-packages/pandas/core/indexing.py\u001b[0m in \u001b[0;36m_get_loc\u001b[0;34m(self, key, axis)\u001b[0m\n\u001b[1;32m    143\u001b[0m         \u001b[0;32mif\u001b[0m \u001b[0maxis\u001b[0m \u001b[0;32mis\u001b[0m \u001b[0;32mNone\u001b[0m\u001b[0;34m:\u001b[0m\u001b[0;34m\u001b[0m\u001b[0m\n\u001b[1;32m    144\u001b[0m             \u001b[0maxis\u001b[0m \u001b[0;34m=\u001b[0m \u001b[0mself\u001b[0m\u001b[0;34m.\u001b[0m\u001b[0maxis\u001b[0m\u001b[0;34m\u001b[0m\u001b[0m\n\u001b[0;32m--> 145\u001b[0;31m         \u001b[0;32mreturn\u001b[0m \u001b[0mself\u001b[0m\u001b[0;34m.\u001b[0m\u001b[0mobj\u001b[0m\u001b[0;34m.\u001b[0m\u001b[0m_ixs\u001b[0m\u001b[0;34m(\u001b[0m\u001b[0mkey\u001b[0m\u001b[0;34m,\u001b[0m \u001b[0maxis\u001b[0m\u001b[0;34m=\u001b[0m\u001b[0maxis\u001b[0m\u001b[0;34m)\u001b[0m\u001b[0;34m\u001b[0m\u001b[0m\n\u001b[0m\u001b[1;32m    146\u001b[0m \u001b[0;34m\u001b[0m\u001b[0m\n\u001b[1;32m    147\u001b[0m     \u001b[0;32mdef\u001b[0m \u001b[0m_slice\u001b[0m\u001b[0;34m(\u001b[0m\u001b[0mself\u001b[0m\u001b[0;34m,\u001b[0m \u001b[0mobj\u001b[0m\u001b[0;34m,\u001b[0m \u001b[0maxis\u001b[0m\u001b[0;34m=\u001b[0m\u001b[0;32mNone\u001b[0m\u001b[0;34m,\u001b[0m \u001b[0mkind\u001b[0m\u001b[0;34m=\u001b[0m\u001b[0;32mNone\u001b[0m\u001b[0;34m)\u001b[0m\u001b[0;34m:\u001b[0m\u001b[0;34m\u001b[0m\u001b[0m\n",
      "\u001b[0;32m~/Documents/WorldCup-Prediction/.venv/lib/python3.6/site-packages/pandas/core/frame.py\u001b[0m in \u001b[0;36m_ixs\u001b[0;34m(self, i, axis)\u001b[0m\n\u001b[1;32m   2602\u001b[0m             \"\"\"\n\u001b[1;32m   2603\u001b[0m \u001b[0;34m\u001b[0m\u001b[0m\n\u001b[0;32m-> 2604\u001b[0;31m             \u001b[0;32mif\u001b[0m \u001b[0misinstance\u001b[0m\u001b[0;34m(\u001b[0m\u001b[0mi\u001b[0m\u001b[0;34m,\u001b[0m \u001b[0mslice\u001b[0m\u001b[0;34m)\u001b[0m\u001b[0;34m:\u001b[0m\u001b[0;34m\u001b[0m\u001b[0m\n\u001b[0m\u001b[1;32m   2605\u001b[0m                 \u001b[0;32mreturn\u001b[0m \u001b[0mself\u001b[0m\u001b[0;34m[\u001b[0m\u001b[0mi\u001b[0m\u001b[0;34m]\u001b[0m\u001b[0;34m\u001b[0m\u001b[0m\n\u001b[1;32m   2606\u001b[0m             \u001b[0;32melse\u001b[0m\u001b[0;34m:\u001b[0m\u001b[0;34m\u001b[0m\u001b[0m\n",
      "\u001b[0;31mKeyboardInterrupt\u001b[0m: "
     ]
    }
   ],
   "source": [
    "run_merging(debug=False)"
   ]
  },
  {
   "cell_type": "code",
   "execution_count": 198,
   "metadata": {},
   "outputs": [
    {
     "data": {
      "text/html": [
       "<div>\n",
       "<style scoped>\n",
       "    .dataframe tbody tr th:only-of-type {\n",
       "        vertical-align: middle;\n",
       "    }\n",
       "\n",
       "    .dataframe tbody tr th {\n",
       "        vertical-align: top;\n",
       "    }\n",
       "\n",
       "    .dataframe thead th {\n",
       "        text-align: right;\n",
       "    }\n",
       "</style>\n",
       "<table border=\"1\" class=\"dataframe\">\n",
       "  <thead>\n",
       "    <tr style=\"text-align: right;\">\n",
       "      <th></th>\n",
       "      <th>Year</th>\n",
       "      <th>Datetime</th>\n",
       "      <th>Stage</th>\n",
       "      <th>Home Team Name</th>\n",
       "      <th>Home Team Goals</th>\n",
       "      <th>Away Team Goals</th>\n",
       "      <th>Away Team Name</th>\n",
       "      <th>Attendance</th>\n",
       "      <th>Half-time Home Goals</th>\n",
       "      <th>Half-time Away Goals</th>\n",
       "      <th>...</th>\n",
       "      <th>Away Player 2 Stats</th>\n",
       "      <th>Away Player 3 Stats</th>\n",
       "      <th>Away Player 4 Stats</th>\n",
       "      <th>Away Player 5 Stats</th>\n",
       "      <th>Away Player 6 Stats</th>\n",
       "      <th>Away Player 7 Stats</th>\n",
       "      <th>Away Player 8 Stats</th>\n",
       "      <th>Away Player 9 Stats</th>\n",
       "      <th>Away Player 10 Stats</th>\n",
       "      <th>Away Player 11 Stats</th>\n",
       "    </tr>\n",
       "  </thead>\n",
       "  <tbody>\n",
       "  </tbody>\n",
       "</table>\n",
       "<p>0 rows × 61 columns</p>\n",
       "</div>"
      ],
      "text/plain": [
       "Empty DataFrame\n",
       "Columns: [Year, Datetime, Stage, Home Team Name, Home Team Goals, Away Team Goals, Away Team Name, Attendance, Half-time Home Goals, Half-time Away Goals, Referee, Assistant 1, Assistant 2, Home Team Initials, Away Team Initials, Home Coach Name, Home Player 1, Home Player 2, Home Player 3, Home Player 4, Home Player 5, Home Player 6, Home Player 7, Home Player 8, Home Player 9, Home Player 10, Home Player 11, Away Coach Name, Away Player 1, Away Player 2, Away Player 3, Away Player 4, Away Player 5, Away Player 6, Away Player 7, Away Player 8, Away Player 9, Away Player 10, Away Player 11, Home Player 1 Stats, Home Player 2 Stats, Home Player 3 Stats, Home Player 4 Stats, Home Player 5 Stats, Home Player 6 Stats, Home Player 7 Stats, Home Player 8 Stats, Home Player 9 Stats, Home Player 10 Stats, Home Player 11 Stats, Away Player 1 Stats, Away Player 2 Stats, Away Player 3 Stats, Away Player 4 Stats, Away Player 5 Stats, Away Player 6 Stats, Away Player 7 Stats, Away Player 8 Stats, Away Player 9 Stats, Away Player 10 Stats, Away Player 11 Stats]\n",
       "Index: []\n",
       "\n",
       "[0 rows x 61 columns]"
      ]
     },
     "execution_count": 198,
     "metadata": {},
     "output_type": "execute_result"
    }
   ],
   "source": [
    "final.head()"
   ]
  },
  {
   "cell_type": "code",
   "execution_count": null,
   "metadata": {},
   "outputs": [],
   "source": []
  },
  {
   "cell_type": "markdown",
   "metadata": {},
   "source": [
    "# Save final into CSV file"
   ]
  },
  {
   "cell_type": "code",
   "execution_count": 199,
   "metadata": {},
   "outputs": [],
   "source": [
    "final.to_csv(\"../final.csv\", index=0)"
   ]
  },
  {
   "cell_type": "code",
   "execution_count": null,
   "metadata": {},
   "outputs": [],
   "source": []
  }
 ],
 "metadata": {
  "kernelspec": {
   "display_name": "Python 3",
   "language": "python",
   "name": "python3"
  },
  "language_info": {
   "codemirror_mode": {
    "name": "ipython",
    "version": 3
   },
   "file_extension": ".py",
   "mimetype": "text/x-python",
   "name": "python",
   "nbconvert_exporter": "python",
   "pygments_lexer": "ipython3",
   "version": "3.6.5"
  }
 },
 "nbformat": 4,
 "nbformat_minor": 2
}
