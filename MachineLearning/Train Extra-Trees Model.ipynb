{
 "cells": [
  {
   "cell_type": "code",
   "execution_count": 1,
   "metadata": {},
   "outputs": [],
   "source": [
    "import numpy as np\n",
    "import pandas as pd\n",
    "\n",
    "from sklearn.ensemble import ExtraTreesClassifier\n",
    "from sklearn.preprocessing import LabelEncoder\n",
    "\n",
    "import pickle"
   ]
  },
  {
   "cell_type": "markdown",
   "metadata": {},
   "source": [
    "# Import dataset"
   ]
  },
  {
   "cell_type": "code",
   "execution_count": 2,
   "metadata": {},
   "outputs": [],
   "source": [
    "data = pd.read_csv(\"../DataFormating/compressed_final.csv\")"
   ]
  },
  {
   "cell_type": "code",
   "execution_count": 3,
   "metadata": {},
   "outputs": [
    {
     "data": {
      "text/html": [
       "<div>\n",
       "<style scoped>\n",
       "    .dataframe tbody tr th:only-of-type {\n",
       "        vertical-align: middle;\n",
       "    }\n",
       "\n",
       "    .dataframe tbody tr th {\n",
       "        vertical-align: top;\n",
       "    }\n",
       "\n",
       "    .dataframe thead th {\n",
       "        text-align: right;\n",
       "    }\n",
       "</style>\n",
       "<table border=\"1\" class=\"dataframe\">\n",
       "  <thead>\n",
       "    <tr style=\"text-align: right;\">\n",
       "      <th></th>\n",
       "      <th>Away Team Goals</th>\n",
       "      <th>Away Team Name</th>\n",
       "      <th>Home Team Goals</th>\n",
       "      <th>Home Team Name</th>\n",
       "      <th>Player 1 Overall Diff</th>\n",
       "      <th>Player 2 Overall Diff</th>\n",
       "      <th>Player 3 Overall Diff</th>\n",
       "      <th>Player 4 Overall Diff</th>\n",
       "      <th>Player 5 Overall Diff</th>\n",
       "      <th>Player 6 Overall Diff</th>\n",
       "      <th>Player 7 Overall Diff</th>\n",
       "      <th>Player 8 Overall Diff</th>\n",
       "      <th>Player 9 Overall Diff</th>\n",
       "      <th>Player 10 Overall Diff</th>\n",
       "      <th>Player 11 Overall Diff</th>\n",
       "      <th>Avg Goals Diff</th>\n",
       "      <th>FIFA Rank Diff</th>\n",
       "    </tr>\n",
       "  </thead>\n",
       "  <tbody>\n",
       "    <tr>\n",
       "      <th>0</th>\n",
       "      <td>0.0</td>\n",
       "      <td>France</td>\n",
       "      <td>0.0</td>\n",
       "      <td>Uruguay</td>\n",
       "      <td>7</td>\n",
       "      <td>4</td>\n",
       "      <td>6</td>\n",
       "      <td>6</td>\n",
       "      <td>6</td>\n",
       "      <td>4</td>\n",
       "      <td>5</td>\n",
       "      <td>5</td>\n",
       "      <td>5</td>\n",
       "      <td>5</td>\n",
       "      <td>5</td>\n",
       "      <td>0.333333</td>\n",
       "      <td>10.0</td>\n",
       "    </tr>\n",
       "    <tr>\n",
       "      <th>1</th>\n",
       "      <td>0.0</td>\n",
       "      <td>Nigeria</td>\n",
       "      <td>1.0</td>\n",
       "      <td>Argentina</td>\n",
       "      <td>0</td>\n",
       "      <td>0</td>\n",
       "      <td>-2</td>\n",
       "      <td>-2</td>\n",
       "      <td>-1</td>\n",
       "      <td>0</td>\n",
       "      <td>0</td>\n",
       "      <td>0</td>\n",
       "      <td>-1</td>\n",
       "      <td>0</td>\n",
       "      <td>-1</td>\n",
       "      <td>0.500000</td>\n",
       "      <td>-42.0</td>\n",
       "    </tr>\n",
       "    <tr>\n",
       "      <th>2</th>\n",
       "      <td>0.0</td>\n",
       "      <td>Australia</td>\n",
       "      <td>4.0</td>\n",
       "      <td>Germany</td>\n",
       "      <td>3</td>\n",
       "      <td>2</td>\n",
       "      <td>3</td>\n",
       "      <td>2</td>\n",
       "      <td>2</td>\n",
       "      <td>3</td>\n",
       "      <td>0</td>\n",
       "      <td>0</td>\n",
       "      <td>2</td>\n",
       "      <td>1</td>\n",
       "      <td>2</td>\n",
       "      <td>1.750000</td>\n",
       "      <td>-39.0</td>\n",
       "    </tr>\n",
       "    <tr>\n",
       "      <th>3</th>\n",
       "      <td>1.0</td>\n",
       "      <td>Switzerland</td>\n",
       "      <td>0.0</td>\n",
       "      <td>Spain</td>\n",
       "      <td>6</td>\n",
       "      <td>5</td>\n",
       "      <td>3</td>\n",
       "      <td>2</td>\n",
       "      <td>3</td>\n",
       "      <td>6</td>\n",
       "      <td>5</td>\n",
       "      <td>5</td>\n",
       "      <td>5</td>\n",
       "      <td>5</td>\n",
       "      <td>4</td>\n",
       "      <td>-1.000000</td>\n",
       "      <td>2.0</td>\n",
       "    </tr>\n",
       "    <tr>\n",
       "      <th>4</th>\n",
       "      <td>1.0</td>\n",
       "      <td>Korea Republic</td>\n",
       "      <td>4.0</td>\n",
       "      <td>Argentina</td>\n",
       "      <td>-4</td>\n",
       "      <td>-4</td>\n",
       "      <td>-4</td>\n",
       "      <td>-3</td>\n",
       "      <td>0</td>\n",
       "      <td>1</td>\n",
       "      <td>2</td>\n",
       "      <td>2</td>\n",
       "      <td>2</td>\n",
       "      <td>2</td>\n",
       "      <td>-3</td>\n",
       "      <td>3.000000</td>\n",
       "      <td>-56.0</td>\n",
       "    </tr>\n",
       "  </tbody>\n",
       "</table>\n",
       "</div>"
      ],
      "text/plain": [
       "   Away Team Goals  Away Team Name  Home Team Goals Home Team Name  \\\n",
       "0              0.0          France              0.0        Uruguay   \n",
       "1              0.0         Nigeria              1.0      Argentina   \n",
       "2              0.0       Australia              4.0        Germany   \n",
       "3              1.0     Switzerland              0.0          Spain   \n",
       "4              1.0  Korea Republic              4.0      Argentina   \n",
       "\n",
       "   Player 1 Overall Diff  Player 2 Overall Diff  Player 3 Overall Diff  \\\n",
       "0                      7                      4                      6   \n",
       "1                      0                      0                     -2   \n",
       "2                      3                      2                      3   \n",
       "3                      6                      5                      3   \n",
       "4                     -4                     -4                     -4   \n",
       "\n",
       "   Player 4 Overall Diff  Player 5 Overall Diff  Player 6 Overall Diff  \\\n",
       "0                      6                      6                      4   \n",
       "1                     -2                     -1                      0   \n",
       "2                      2                      2                      3   \n",
       "3                      2                      3                      6   \n",
       "4                     -3                      0                      1   \n",
       "\n",
       "   Player 7 Overall Diff  Player 8 Overall Diff  Player 9 Overall Diff  \\\n",
       "0                      5                      5                      5   \n",
       "1                      0                      0                     -1   \n",
       "2                      0                      0                      2   \n",
       "3                      5                      5                      5   \n",
       "4                      2                      2                      2   \n",
       "\n",
       "   Player 10 Overall Diff  Player 11 Overall Diff  Avg Goals Diff  \\\n",
       "0                       5                       5        0.333333   \n",
       "1                       0                      -1        0.500000   \n",
       "2                       1                       2        1.750000   \n",
       "3                       5                       4       -1.000000   \n",
       "4                       2                      -3        3.000000   \n",
       "\n",
       "   FIFA Rank Diff  \n",
       "0            10.0  \n",
       "1           -42.0  \n",
       "2           -39.0  \n",
       "3             2.0  \n",
       "4           -56.0  "
      ]
     },
     "execution_count": 3,
     "metadata": {},
     "output_type": "execute_result"
    }
   ],
   "source": [
    "data.head()"
   ]
  },
  {
   "cell_type": "markdown",
   "metadata": {},
   "source": [
    "# Set `X` and `y`"
   ]
  },
  {
   "cell_type": "code",
   "execution_count": 4,
   "metadata": {},
   "outputs": [
    {
     "data": {
      "text/plain": [
       "Index(['Away Team Goals', 'Away Team Name', 'Home Team Goals',\n",
       "       'Home Team Name', 'Player 1 Overall Diff', 'Player 2 Overall Diff',\n",
       "       'Player 3 Overall Diff', 'Player 4 Overall Diff',\n",
       "       'Player 5 Overall Diff', 'Player 6 Overall Diff',\n",
       "       'Player 7 Overall Diff', 'Player 8 Overall Diff',\n",
       "       'Player 9 Overall Diff', 'Player 10 Overall Diff',\n",
       "       'Player 11 Overall Diff', 'Avg Goals Diff', 'FIFA Rank Diff'],\n",
       "      dtype='object')"
      ]
     },
     "execution_count": 4,
     "metadata": {},
     "output_type": "execute_result"
    }
   ],
   "source": [
    "data.columns"
   ]
  },
  {
   "cell_type": "code",
   "execution_count": 5,
   "metadata": {},
   "outputs": [],
   "source": [
    "X = data.drop([\"Away Team Goals\", \"Home Team Goals\"], axis=1)\n",
    "\n",
    "y = []\n",
    "for i in range(len(data)):\n",
    "    home_team_goals = data[\"Home Team Goals\"][i]\n",
    "    away_team_goals = data[\"Away Team Goals\"][i]\n",
    "    \n",
    "    if home_team_goals > away_team_goals:\n",
    "        y.append(1)\n",
    "    elif home_team_goals < away_team_goals:\n",
    "        y.append(2)\n",
    "    else:\n",
    "        y.append(0)"
   ]
  },
  {
   "cell_type": "code",
   "execution_count": 6,
   "metadata": {},
   "outputs": [],
   "source": [
    "# Test\n",
    "assert len(X) == len(y)"
   ]
  },
  {
   "cell_type": "markdown",
   "metadata": {},
   "source": [
    "### Encode textual features from the `X` dataset"
   ]
  },
  {
   "cell_type": "code",
   "execution_count": 7,
   "metadata": {},
   "outputs": [],
   "source": [
    "word_cup_teams = [\n",
    "    \"Egypt\",\n",
    "    \"Morocco\",\n",
    "    \"Nigeria\",\n",
    "    \"Senegal\",\n",
    "    \"Tunisia\",\n",
    "    \"Australia\",\n",
    "    \"Iran\",\n",
    "    \"Japan\",\n",
    "    \"Korea DPR\",\n",
    "    \"Saudi Arabia\",\n",
    "    \"Belgium\",\n",
    "    \"Croatia\",\n",
    "    \"Denmark\",\n",
    "    \"England\",\n",
    "    \"France\",\n",
    "    \"Germany\",\n",
    "    \"Iceland\",\n",
    "    \"Poland\",\n",
    "    \"Portugal\",\n",
    "    \"Russia\",\n",
    "    \"Serbia\",\n",
    "    \"Spain\",\n",
    "    \"Sweden\",\n",
    "    \"Switzerland\",\n",
    "    \"Costa Rica\",\n",
    "    \"Mexico\",\n",
    "    \"Panama\",\n",
    "    \"Argentina\",\n",
    "    \"Brazil\",\n",
    "    \"Colombia\",\n",
    "    \"Peru\",\n",
    "    \"Uruguay\"\n",
    "]\n",
    "\n",
    "team_names = list(data[\"Home Team Name\"].unique()) + list(data[\"Away Team Name\"].unique()) + word_cup_teams"
   ]
  },
  {
   "cell_type": "code",
   "execution_count": 8,
   "metadata": {},
   "outputs": [],
   "source": [
    "team_name_encoder = LabelEncoder().fit(team_names)"
   ]
  },
  {
   "cell_type": "code",
   "execution_count": 9,
   "metadata": {},
   "outputs": [],
   "source": [
    "X[\"Home Team Name\"] = team_name_encoder.transform(X[\"Home Team Name\"])\n",
    "X[\"Away Team Name\"] = team_name_encoder.transform(X[\"Away Team Name\"])"
   ]
  },
  {
   "cell_type": "markdown",
   "metadata": {},
   "source": [
    "### Feature Selection"
   ]
  },
  {
   "cell_type": "code",
   "execution_count": 10,
   "metadata": {},
   "outputs": [],
   "source": [
    "feature_names = [\n",
    "    \"Away Team Name\",\n",
    "    \"Home Team Name\",\n",
    "#     \"Player 1 Overall Diff\",\n",
    "#     \"Player 2 Overall Diff\",\n",
    "#     \"Player 3 Overall Diff\",\n",
    "#     \"Player 4 Overall Diff\",\n",
    "#     \"Player 5 Overall Diff\",\n",
    "#     \"Player 6 Overall Diff\",\n",
    "#     \"Player 7 Overall Diff\",\n",
    "#     \"Player 8 Overall Diff\",\n",
    "#     \"Player 9 Overall Diff\",\n",
    "#     \"Player 10 Overall Diff\",\n",
    "#     \"Player 11 Overall Diff\",\n",
    "    \"Avg Goals Diff\",\n",
    "#     \"FIFA Rank Diff\"\n",
    "]\n",
    "\n",
    "COLUMNS = []\n",
    "for column_name in X.columns:\n",
    "    for feature_name in feature_names:\n",
    "        if feature_name in column_name:\n",
    "            COLUMNS.append(column_name)\n",
    "            break\n",
    "\n",
    "X = X[COLUMNS]"
   ]
  },
  {
   "cell_type": "code",
   "execution_count": 11,
   "metadata": {
    "scrolled": true
   },
   "outputs": [
    {
     "data": {
      "text/plain": [
       "['Away Team Name', 'Home Team Name', 'Avg Goals Diff']"
      ]
     },
     "execution_count": 11,
     "metadata": {},
     "output_type": "execute_result"
    }
   ],
   "source": [
    "COLUMNS"
   ]
  },
  {
   "cell_type": "markdown",
   "metadata": {},
   "source": [
    "# Traning Session"
   ]
  },
  {
   "cell_type": "code",
   "execution_count": 12,
   "metadata": {
    "scrolled": true
   },
   "outputs": [
    {
     "name": "stdout",
     "output_type": "stream",
     "text": [
      "<class 'pandas.core.frame.DataFrame'>\n",
      "RangeIndex: 603 entries, 0 to 602\n",
      "Data columns (total 3 columns):\n",
      "Away Team Name    603 non-null int64\n",
      "Home Team Name    603 non-null int64\n",
      "Avg Goals Diff    603 non-null float64\n",
      "dtypes: float64(1), int64(2)\n",
      "memory usage: 14.2 KB\n"
     ]
    }
   ],
   "source": [
    "X.info()"
   ]
  },
  {
   "cell_type": "code",
   "execution_count": 13,
   "metadata": {},
   "outputs": [
    {
     "data": {
      "text/html": [
       "<div>\n",
       "<style scoped>\n",
       "    .dataframe tbody tr th:only-of-type {\n",
       "        vertical-align: middle;\n",
       "    }\n",
       "\n",
       "    .dataframe tbody tr th {\n",
       "        vertical-align: top;\n",
       "    }\n",
       "\n",
       "    .dataframe thead th {\n",
       "        text-align: right;\n",
       "    }\n",
       "</style>\n",
       "<table border=\"1\" class=\"dataframe\">\n",
       "  <thead>\n",
       "    <tr style=\"text-align: right;\">\n",
       "      <th></th>\n",
       "      <th>Away Team Name</th>\n",
       "      <th>Home Team Name</th>\n",
       "      <th>Avg Goals Diff</th>\n",
       "    </tr>\n",
       "  </thead>\n",
       "  <tbody>\n",
       "    <tr>\n",
       "      <th>count</th>\n",
       "      <td>603.000000</td>\n",
       "      <td>603.000000</td>\n",
       "      <td>603.000000</td>\n",
       "    </tr>\n",
       "    <tr>\n",
       "      <th>mean</th>\n",
       "      <td>15.126036</td>\n",
       "      <td>14.271973</td>\n",
       "      <td>0.301824</td>\n",
       "    </tr>\n",
       "    <tr>\n",
       "      <th>std</th>\n",
       "      <td>10.036679</td>\n",
       "      <td>9.749129</td>\n",
       "      <td>1.518678</td>\n",
       "    </tr>\n",
       "    <tr>\n",
       "      <th>min</th>\n",
       "      <td>0.000000</td>\n",
       "      <td>0.000000</td>\n",
       "      <td>-6.000000</td>\n",
       "    </tr>\n",
       "    <tr>\n",
       "      <th>25%</th>\n",
       "      <td>5.000000</td>\n",
       "      <td>6.000000</td>\n",
       "      <td>-0.500000</td>\n",
       "    </tr>\n",
       "    <tr>\n",
       "      <th>50%</th>\n",
       "      <td>16.000000</td>\n",
       "      <td>13.000000</td>\n",
       "      <td>0.400000</td>\n",
       "    </tr>\n",
       "    <tr>\n",
       "      <th>75%</th>\n",
       "      <td>23.000000</td>\n",
       "      <td>23.000000</td>\n",
       "      <td>1.000000</td>\n",
       "    </tr>\n",
       "    <tr>\n",
       "      <th>max</th>\n",
       "      <td>32.000000</td>\n",
       "      <td>32.000000</td>\n",
       "      <td>6.000000</td>\n",
       "    </tr>\n",
       "  </tbody>\n",
       "</table>\n",
       "</div>"
      ],
      "text/plain": [
       "       Away Team Name  Home Team Name  Avg Goals Diff\n",
       "count      603.000000      603.000000      603.000000\n",
       "mean        15.126036       14.271973        0.301824\n",
       "std         10.036679        9.749129        1.518678\n",
       "min          0.000000        0.000000       -6.000000\n",
       "25%          5.000000        6.000000       -0.500000\n",
       "50%         16.000000       13.000000        0.400000\n",
       "75%         23.000000       23.000000        1.000000\n",
       "max         32.000000       32.000000        6.000000"
      ]
     },
     "execution_count": 13,
     "metadata": {},
     "output_type": "execute_result"
    }
   ],
   "source": [
    "X.describe()"
   ]
  },
  {
   "cell_type": "code",
   "execution_count": 14,
   "metadata": {},
   "outputs": [],
   "source": [
    "extra_model = ExtraTreesClassifier(n_estimators=1100, max_depth=10, bootstrap=True, n_jobs=-1)"
   ]
  },
  {
   "cell_type": "code",
   "execution_count": 15,
   "metadata": {},
   "outputs": [
    {
     "data": {
      "text/plain": [
       "ExtraTreesClassifier(bootstrap=True, class_weight=None, criterion='gini',\n",
       "           max_depth=10, max_features='auto', max_leaf_nodes=None,\n",
       "           min_impurity_decrease=0.0, min_impurity_split=None,\n",
       "           min_samples_leaf=1, min_samples_split=2,\n",
       "           min_weight_fraction_leaf=0.0, n_estimators=1100, n_jobs=-1,\n",
       "           oob_score=False, random_state=None, verbose=0, warm_start=False)"
      ]
     },
     "execution_count": 15,
     "metadata": {},
     "output_type": "execute_result"
    }
   ],
   "source": [
    "extra_model.fit(X, y)"
   ]
  },
  {
   "cell_type": "code",
   "execution_count": null,
   "metadata": {},
   "outputs": [],
   "source": []
  },
  {
   "cell_type": "markdown",
   "metadata": {},
   "source": [
    "# Save model and encoders"
   ]
  },
  {
   "cell_type": "code",
   "execution_count": 16,
   "metadata": {},
   "outputs": [],
   "source": [
    "with open(\"extra_model.b\", \"wb\") as f:\n",
    "    pickle.dump(extra_model, f)\n",
    "\n",
    "with open(\"team_name_encoder.b\", \"wb\") as f:\n",
    "    pickle.dump(team_name_encoder, f)"
   ]
  },
  {
   "cell_type": "code",
   "execution_count": null,
   "metadata": {},
   "outputs": [],
   "source": []
  },
  {
   "cell_type": "code",
   "execution_count": null,
   "metadata": {},
   "outputs": [],
   "source": []
  }
 ],
 "metadata": {
  "kernelspec": {
   "display_name": "Python 3",
   "language": "python",
   "name": "python3"
  },
  "language_info": {
   "codemirror_mode": {
    "name": "ipython",
    "version": 3
   },
   "file_extension": ".py",
   "mimetype": "text/x-python",
   "name": "python",
   "nbconvert_exporter": "python",
   "pygments_lexer": "ipython3",
   "version": "3.6.5"
  }
 },
 "nbformat": 4,
 "nbformat_minor": 2
}
