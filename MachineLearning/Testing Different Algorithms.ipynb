{
 "cells": [
  {
   "cell_type": "code",
   "execution_count": 91,
   "metadata": {},
   "outputs": [],
   "source": [
    "import pandas as pd\n",
    "import numpy as np\n",
    "\n",
    "from statistics import mean\n",
    "\n",
    "from sklearn.preprocessing import LabelEncoder\n",
    "\n",
    "from sklearn.linear_model import LogisticRegression\n",
    "from sklearn.svm import SVC\n",
    "from sklearn.ensemble import RandomForestClassifier\n",
    "from sklearn.ensemble import ExtraTreesClassifier\n",
    "\n",
    "from sklearn.model_selection import cross_validate, train_test_split\n",
    "from sklearn.metrics import classification_report"
   ]
  },
  {
   "cell_type": "markdown",
   "metadata": {},
   "source": [
    "# Import dataset"
   ]
  },
  {
   "cell_type": "code",
   "execution_count": 74,
   "metadata": {},
   "outputs": [],
   "source": [
    "compressed_final = pd.read_csv(\"../DataFormating/compressed_final.csv\")\n",
    "\n"
   ]
  },
  {
   "cell_type": "markdown",
   "metadata": {},
   "source": [
    "# Setup `X`, `y` data for training / testing"
   ]
  },
  {
   "cell_type": "code",
   "execution_count": 75,
   "metadata": {},
   "outputs": [
    {
     "data": {
      "text/plain": [
       "Index(['Year', 'Datetime', 'Stage', 'Home Team Name', 'Home Team Goals',\n",
       "       'Away Team Goals', 'Away Team Name', 'Attendance',\n",
       "       'Half-time Home Goals', 'Half-time Away Goals', 'Referee',\n",
       "       'Assistant 1', 'Assistant 2', 'Home Team Initials',\n",
       "       'Away Team Initials', 'Home Coach Name', 'Home Player 1',\n",
       "       'Home Player 2', 'Home Player 3', 'Home Player 4', 'Home Player 5',\n",
       "       'Home Player 6', 'Home Player 7', 'Home Player 8', 'Home Player 9',\n",
       "       'Home Player 10', 'Home Player 11', 'Away Coach Name', 'Away Player 1',\n",
       "       'Away Player 2', 'Away Player 3', 'Away Player 4', 'Away Player 5',\n",
       "       'Away Player 6', 'Away Player 7', 'Away Player 8', 'Away Player 9',\n",
       "       'Away Player 10', 'Away Player 11', 'Player 1 Stats Diff',\n",
       "       'Player 2 Stats Diff', 'Player 3 Stats Diff', 'Player 4 Stats Diff',\n",
       "       'Player 5 Stats Diff', 'Player 6 Stats Diff', 'Player 7 Stats Diff',\n",
       "       'Player 8 Stats Diff', 'Player 9 Stats Diff', 'Player 10 Stats Diff',\n",
       "       'Player 11 Stats Diff', 'Mean Home Team Goals', 'Mean Away Team Goals'],\n",
       "      dtype='object')"
      ]
     },
     "execution_count": 75,
     "metadata": {},
     "output_type": "execute_result"
    }
   ],
   "source": [
    "compressed_final.columns"
   ]
  },
  {
   "cell_type": "code",
   "execution_count": 76,
   "metadata": {},
   "outputs": [],
   "source": [
    "X_columns = [\n",
    "        'Stage', 'Attendance',\n",
    "        'Referee', 'Assistant 1', 'Assistant 2', \n",
    "        'Home Team Name', 'Away Team Name', \n",
    "        'Home Coach Name', 'Away Coach Name',\n",
    "    \n",
    "        'Player 1 Stats Diff',\n",
    "        'Player 2 Stats Diff', 'Player 3 Stats Diff', 'Player 4 Stats Diff',\n",
    "        'Player 5 Stats Diff', 'Player 6 Stats Diff', 'Player 7 Stats Diff',\n",
    "        'Player 8 Stats Diff', 'Player 9 Stats Diff', 'Player 10 Stats Diff',\n",
    "        'Player 11 Stats Diff', \n",
    "    \n",
    "        'Mean Home Team Goals', 'Mean Away Team Goals'\n",
    "]\n",
    "\n",
    "X, y = compressed_final[X_columns], []"
   ]
  },
  {
   "cell_type": "code",
   "execution_count": 77,
   "metadata": {},
   "outputs": [],
   "source": [
    "for i in range(len(compressed_final)):\n",
    "    home_team_goals = compressed_final.iloc[i][\"Home Team Goals\"]\n",
    "    away_team_goals = compressed_final.iloc[i][\"Away Team Goals\"]\n",
    "    \n",
    "    if home_team_goals > away_team_goals:\n",
    "        y.append(1)\n",
    "    elif home_team_goals < away_team_goals:\n",
    "        y.append(2)\n",
    "    else:\n",
    "        y.append(0)"
   ]
  },
  {
   "cell_type": "code",
   "execution_count": 78,
   "metadata": {},
   "outputs": [],
   "source": [
    "# Test\n",
    "assert len(X) == len(y)"
   ]
  },
  {
   "cell_type": "markdown",
   "metadata": {},
   "source": [
    "### Encode textual features from the `X` dataset"
   ]
  },
  {
   "cell_type": "code",
   "execution_count": 79,
   "metadata": {},
   "outputs": [],
   "source": [
    "X[\"Stage\"] = LabelEncoder().fit_transform(X[\"Stage\"])\n",
    "X[\"Referee\"] = LabelEncoder().fit_transform(X[\"Referee\"])\n",
    "X[\"Assistant 1\"] = LabelEncoder().fit_transform(X[\"Assistant 1\"])\n",
    "X[\"Assistant 2\"] = LabelEncoder().fit_transform(X[\"Assistant 2\"])\n",
    "X[\"Home Team Name\"] = LabelEncoder().fit_transform(X[\"Home Team Name\"])\n",
    "X[\"Away Team Name\"] = LabelEncoder().fit_transform(X[\"Away Team Name\"])\n",
    "X[\"Home Coach Name\"] = LabelEncoder().fit_transform(X[\"Home Coach Name\"])\n",
    "X[\"Away Coach Name\"] = LabelEncoder().fit_transform(X[\"Away Coach Name\"])"
   ]
  },
  {
   "cell_type": "code",
   "execution_count": 81,
   "metadata": {},
   "outputs": [
    {
     "data": {
      "text/plain": [
       "22"
      ]
     },
     "execution_count": 81,
     "metadata": {},
     "output_type": "execute_result"
    }
   ],
   "source": [
    "len(X.columns)"
   ]
  },
  {
   "cell_type": "markdown",
   "metadata": {},
   "source": [
    "# Fast testing"
   ]
  },
  {
   "cell_type": "code",
   "execution_count": 93,
   "metadata": {},
   "outputs": [
    {
     "data": {
      "text/plain": [
       "0.7386666666666667"
      ]
     },
     "execution_count": 93,
     "metadata": {},
     "output_type": "execute_result"
    }
   ],
   "source": [
    "mean(\n",
    "    cross_validate(\n",
    "        RandomForestClassifier(n_estimators=100),\n",
    "        X, y, cv=50\n",
    "    )[\"test_score\"]\n",
    ")"
   ]
  },
  {
   "cell_type": "code",
   "execution_count": 70,
   "metadata": {},
   "outputs": [],
   "source": [
    "X_train, X_test, y_train, y_test = train_test_split(X, y, test_size=0.33)"
   ]
  },
  {
   "cell_type": "code",
   "execution_count": 71,
   "metadata": {},
   "outputs": [],
   "source": [
    "model = RandomForestClassifier(n_estimators=1000).fit(X_train, y_train)\n",
    "y_pred = model.predict(X_test)"
   ]
  },
  {
   "cell_type": "code",
   "execution_count": 72,
   "metadata": {},
   "outputs": [
    {
     "name": "stdout",
     "output_type": "stream",
     "text": [
      "             precision    recall  f1-score   support\n",
      "\n",
      "          0       1.00      0.29      0.44        14\n",
      "          1       0.58      0.88      0.70        16\n",
      "          2       0.58      0.65      0.61        17\n",
      "\n",
      "avg / total       0.71      0.62      0.59        47\n",
      "\n"
     ]
    }
   ],
   "source": [
    "print( classification_report(y_test, y_pred) )"
   ]
  },
  {
   "cell_type": "code",
   "execution_count": null,
   "metadata": {},
   "outputs": [],
   "source": []
  },
  {
   "cell_type": "code",
   "execution_count": null,
   "metadata": {},
   "outputs": [],
   "source": []
  },
  {
   "cell_type": "code",
   "execution_count": null,
   "metadata": {},
   "outputs": [],
   "source": []
  }
 ],
 "metadata": {
  "kernelspec": {
   "display_name": "Python 3",
   "language": "python",
   "name": "python3"
  },
  "language_info": {
   "codemirror_mode": {
    "name": "ipython",
    "version": 3
   },
   "file_extension": ".py",
   "mimetype": "text/x-python",
   "name": "python",
   "nbconvert_exporter": "python",
   "pygments_lexer": "ipython3",
   "version": "3.6.5"
  }
 },
 "nbformat": 4,
 "nbformat_minor": 2
}
