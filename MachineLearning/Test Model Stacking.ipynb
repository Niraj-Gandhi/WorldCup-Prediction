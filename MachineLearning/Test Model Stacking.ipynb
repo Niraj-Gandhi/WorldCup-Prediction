{
 "cells": [
  {
   "cell_type": "code",
   "execution_count": 1,
   "metadata": {},
   "outputs": [],
   "source": [
    "import pickle\n",
    "from copy import deepcopy\n",
    "\n",
    "import numpy as np\n",
    "import pandas as pd\n",
    "\n",
    "from sklearn.preprocessing import LabelEncoder\n",
    "\n",
    "from sklearn.linear_model import LogisticRegression\n",
    "from sklearn.neural_network import MLPClassifier\n",
    "from xgboost import XGBClassifier\n",
    "\n",
    "from sklearn.metrics import accuracy_score, classification_report\n",
    "from sklearn.model_selection import train_test_split"
   ]
  },
  {
   "cell_type": "markdown",
   "metadata": {},
   "source": [
    "# Import dataset"
   ]
  },
  {
   "cell_type": "code",
   "execution_count": 2,
   "metadata": {},
   "outputs": [],
   "source": [
    "data = pd.read_csv(\"../DataFormating/final.csv\")"
   ]
  },
  {
   "cell_type": "markdown",
   "metadata": {},
   "source": [
    "# Set `X` and `y`"
   ]
  },
  {
   "cell_type": "code",
   "execution_count": 3,
   "metadata": {},
   "outputs": [
    {
     "data": {
      "text/plain": [
       "Index(['Away Team Goals', 'Away Team Name', 'Home Team Goals',\n",
       "       'Home Team Name', 'Year', 'home_rank', 'home_total_points',\n",
       "       'home_previous_points', 'home_rank_change', 'home_cur_year_avg',\n",
       "       'home_cur_year_avg_weighted', 'home_last_year_avg',\n",
       "       'home_last_year_avg_weighted', 'home_two_year_ago_avg',\n",
       "       'home_two_year_ago_weighted', 'home_three_year_ago_avg',\n",
       "       'home_three_year_ago_weighted', 'away_rank', 'away_total_points',\n",
       "       'away_previous_points', 'away_rank_change', 'away_cur_year_avg',\n",
       "       'away_cur_year_avg_weighted', 'away_last_year_avg',\n",
       "       'away_last_year_avg_weighted', 'away_two_year_ago_avg',\n",
       "       'away_two_year_ago_weighted', 'away_three_year_ago_avg',\n",
       "       'away_three_year_ago_weighted', 'Home Avg Goals', 'Away Avg Goals'],\n",
       "      dtype='object')"
      ]
     },
     "execution_count": 3,
     "metadata": {},
     "output_type": "execute_result"
    }
   ],
   "source": [
    "data.columns"
   ]
  },
  {
   "cell_type": "code",
   "execution_count": 4,
   "metadata": {},
   "outputs": [],
   "source": [
    "X = data.drop([\"Away Team Goals\", \"Home Team Goals\"], axis=1)\n",
    "\n",
    "y = []\n",
    "for i in range(len(data)):\n",
    "    home_team_goals = data.iloc[i][\"Home Team Goals\"]\n",
    "    away_team_goals = data.iloc[i][\"Away Team Goals\"]\n",
    "    \n",
    "    if home_team_goals > away_team_goals:\n",
    "        y.append(1)\n",
    "    elif home_team_goals < away_team_goals:\n",
    "        y.append(2)\n",
    "    else:\n",
    "        y.append(0)"
   ]
  },
  {
   "cell_type": "code",
   "execution_count": 5,
   "metadata": {},
   "outputs": [],
   "source": [
    "# Test\n",
    "assert len(X) == len(y)"
   ]
  },
  {
   "cell_type": "markdown",
   "metadata": {},
   "source": [
    "### Encode textual features from the `X` dataset"
   ]
  },
  {
   "cell_type": "code",
   "execution_count": 6,
   "metadata": {},
   "outputs": [],
   "source": [
    "word_cup_teams = [\n",
    "    \"Egypt\",\n",
    "    \"Morocco\",\n",
    "    \"Nigeria\",\n",
    "    \"Senegal\",\n",
    "    \"Tunisia\",\n",
    "    \"Australia\",\n",
    "    \"IR Iran\",\n",
    "    \"Japan\",\n",
    "    \"Korea DPR\",\n",
    "    \"Saudi Arabia\",\n",
    "    \"Belgium\",\n",
    "    \"Croatia\",\n",
    "    \"Denmark\",\n",
    "    \"England\",\n",
    "    \"France\",\n",
    "    \"Germany\",\n",
    "    \"Iceland\",\n",
    "    \"Poland\",\n",
    "    \"Portugal\",\n",
    "    \"Russia\",\n",
    "    \"Serbia\",\n",
    "    \"Spain\",\n",
    "    \"Sweden\",\n",
    "    \"Switzerland\",\n",
    "    \"Costa Rica\",\n",
    "    \"Mexico\",\n",
    "    \"Panama\",\n",
    "    \"Argentina\",\n",
    "    \"Brazil\",\n",
    "    \"Colombia\",\n",
    "    \"Peru\",\n",
    "    \"Uruguay\"\n",
    "]\n",
    "\n",
    "team_names = list(data[\"Home Team Name\"].unique()) + list(data[\"Away Team Name\"].unique()) + word_cup_teams"
   ]
  },
  {
   "cell_type": "code",
   "execution_count": 7,
   "metadata": {},
   "outputs": [],
   "source": [
    "team_name_encoder = LabelEncoder().fit(team_names)"
   ]
  },
  {
   "cell_type": "code",
   "execution_count": 8,
   "metadata": {},
   "outputs": [],
   "source": [
    "X[\"Home Team Name\"] = team_name_encoder.transform(X[\"Home Team Name\"])\n",
    "X[\"Away Team Name\"] = team_name_encoder.transform(X[\"Away Team Name\"])"
   ]
  },
  {
   "cell_type": "markdown",
   "metadata": {},
   "source": [
    "### Feature Selection"
   ]
  },
  {
   "cell_type": "code",
   "execution_count": 9,
   "metadata": {},
   "outputs": [],
   "source": [
    "feature_names = []\n",
    "\n",
    "COLUMNS = []\n",
    "for column_name in X.columns:\n",
    "    for feature_name in feature_names:\n",
    "        if feature_name in column_name:\n",
    "            COLUMNS.append(column_name)\n",
    "            break\n",
    "\n",
    "COLUMNS = [\n",
    "    'Away Team Name',\n",
    "    'Home Team Name',\n",
    "\n",
    "    'home_rank',\n",
    "    'home_total_points',\n",
    "    'home_cur_year_avg',\n",
    "    'home_cur_year_avg_weighted',\n",
    "    \n",
    "    'away_rank',\n",
    "    'away_total_points',\n",
    "    'away_cur_year_avg',\n",
    "    'away_cur_year_avg_weighted',\n",
    "    \n",
    "    'Home Avg Goals',\n",
    "    'Away Avg Goals'\n",
    "]\n",
    "X = X[COLUMNS]"
   ]
  },
  {
   "cell_type": "code",
   "execution_count": 10,
   "metadata": {
    "scrolled": true
   },
   "outputs": [
    {
     "data": {
      "text/plain": [
       "['Away Team Name',\n",
       " 'Home Team Name',\n",
       " 'home_rank',\n",
       " 'home_total_points',\n",
       " 'home_cur_year_avg',\n",
       " 'home_cur_year_avg_weighted',\n",
       " 'away_rank',\n",
       " 'away_total_points',\n",
       " 'away_cur_year_avg',\n",
       " 'away_cur_year_avg_weighted',\n",
       " 'Home Avg Goals',\n",
       " 'Away Avg Goals']"
      ]
     },
     "execution_count": 10,
     "metadata": {},
     "output_type": "execute_result"
    }
   ],
   "source": [
    "COLUMNS"
   ]
  },
  {
   "cell_type": "markdown",
   "metadata": {},
   "source": [
    "# Traning / Evaluation Session"
   ]
  },
  {
   "cell_type": "code",
   "execution_count": 11,
   "metadata": {},
   "outputs": [],
   "source": [
    "class ModelStacking(object):\n",
    "    def __init__(self, base_model, *stacked_models):\n",
    "        self.base_model = base_model\n",
    "        self.stacked_models = stacked_models\n",
    "        \n",
    "    def fit(self, X, y):\n",
    "        data = X.copy()\n",
    "        for i in range(len(self.stacked_models)):\n",
    "            self.stacked_models[i].fit(X, y)\n",
    "            pred = self.stacked_models[i].predict(X)\n",
    "            data[\"Model-\"+str(i)] = pred\n",
    "\n",
    "        self.base_model.fit(data, y)\n",
    "        return self\n",
    "    \n",
    "    def predict(self, X):\n",
    "        data = X.copy()\n",
    "        for i in range(len(self.stacked_models)):\n",
    "            pred = self.stacked_models[i].predict(X)\n",
    "            data[\"Model-\"+str(i)] = pred\n",
    "\n",
    "        return self.base_model.predict(data)"
   ]
  },
  {
   "cell_type": "code",
   "execution_count": 12,
   "metadata": {},
   "outputs": [],
   "source": [
    "def test_model(model, X, y, cv=10):\n",
    "    score = 0\n",
    "    for _ in range(cv):\n",
    "        _model = deepcopy(model)\n",
    "        \n",
    "        X_train, X_test, y_train, y_test = train_test_split(X, y, test_size=0.33)\n",
    "        _model.fit(X_train, y_train)\n",
    "        y_pred = _model.predict(X_test)\n",
    "        score += accuracy_score(y_test, y_pred)\n",
    "\n",
    "        if cv == 1:\n",
    "            print(classification_report(y_test, y_pred))\n",
    "\n",
    "    print(\"Test set accuracy score: \", score/cv, \"\\n\")"
   ]
  },
  {
   "cell_type": "code",
   "execution_count": 15,
   "metadata": {},
   "outputs": [],
   "source": [
    "model = ModelStacking(\n",
    "    LogisticRegression(),\n",
    "    \n",
    "    LogisticRegression(),\n",
    "    MLPClassifier(\n",
    "        hidden_layer_sizes=(60, 50),\n",
    "        activation=\"logistic\",\n",
    "        solver=\"adam\",\n",
    "        alpha=1*10**-9\n",
    "    ),\n",
    "    XGBClassifier(n_estimators=300, max_depth=3, learning_rate=0.001, n_jobs=-1)\n",
    ")"
   ]
  },
  {
   "cell_type": "code",
   "execution_count": 16,
   "metadata": {
    "scrolled": true
   },
   "outputs": [
    {
     "name": "stderr",
     "output_type": "stream",
     "text": [
      "/Users/victor/Documents/WorldCup-Prediction/.venv/lib/python3.6/site-packages/sklearn/preprocessing/label.py:151: DeprecationWarning: The truth value of an empty array is ambiguous. Returning False, but in future this will result in an error. Use `array.size > 0` to check that an array is not empty.\n",
      "  if diff:\n",
      "/Users/victor/Documents/WorldCup-Prediction/.venv/lib/python3.6/site-packages/sklearn/preprocessing/label.py:151: DeprecationWarning: The truth value of an empty array is ambiguous. Returning False, but in future this will result in an error. Use `array.size > 0` to check that an array is not empty.\n",
      "  if diff:\n",
      "/Users/victor/Documents/WorldCup-Prediction/.venv/lib/python3.6/site-packages/sklearn/preprocessing/label.py:151: DeprecationWarning: The truth value of an empty array is ambiguous. Returning False, but in future this will result in an error. Use `array.size > 0` to check that an array is not empty.\n",
      "  if diff:\n",
      "/Users/victor/Documents/WorldCup-Prediction/.venv/lib/python3.6/site-packages/sklearn/preprocessing/label.py:151: DeprecationWarning: The truth value of an empty array is ambiguous. Returning False, but in future this will result in an error. Use `array.size > 0` to check that an array is not empty.\n",
      "  if diff:\n",
      "/Users/victor/Documents/WorldCup-Prediction/.venv/lib/python3.6/site-packages/sklearn/preprocessing/label.py:151: DeprecationWarning: The truth value of an empty array is ambiguous. Returning False, but in future this will result in an error. Use `array.size > 0` to check that an array is not empty.\n",
      "  if diff:\n",
      "/Users/victor/Documents/WorldCup-Prediction/.venv/lib/python3.6/site-packages/sklearn/preprocessing/label.py:151: DeprecationWarning: The truth value of an empty array is ambiguous. Returning False, but in future this will result in an error. Use `array.size > 0` to check that an array is not empty.\n",
      "  if diff:\n",
      "/Users/victor/Documents/WorldCup-Prediction/.venv/lib/python3.6/site-packages/sklearn/preprocessing/label.py:151: DeprecationWarning: The truth value of an empty array is ambiguous. Returning False, but in future this will result in an error. Use `array.size > 0` to check that an array is not empty.\n",
      "  if diff:\n",
      "/Users/victor/Documents/WorldCup-Prediction/.venv/lib/python3.6/site-packages/sklearn/preprocessing/label.py:151: DeprecationWarning: The truth value of an empty array is ambiguous. Returning False, but in future this will result in an error. Use `array.size > 0` to check that an array is not empty.\n",
      "  if diff:\n",
      "/Users/victor/Documents/WorldCup-Prediction/.venv/lib/python3.6/site-packages/sklearn/preprocessing/label.py:151: DeprecationWarning: The truth value of an empty array is ambiguous. Returning False, but in future this will result in an error. Use `array.size > 0` to check that an array is not empty.\n",
      "  if diff:\n",
      "/Users/victor/Documents/WorldCup-Prediction/.venv/lib/python3.6/site-packages/sklearn/preprocessing/label.py:151: DeprecationWarning: The truth value of an empty array is ambiguous. Returning False, but in future this will result in an error. Use `array.size > 0` to check that an array is not empty.\n",
      "  if diff:\n",
      "/Users/victor/Documents/WorldCup-Prediction/.venv/lib/python3.6/site-packages/sklearn/preprocessing/label.py:151: DeprecationWarning: The truth value of an empty array is ambiguous. Returning False, but in future this will result in an error. Use `array.size > 0` to check that an array is not empty.\n",
      "  if diff:\n",
      "/Users/victor/Documents/WorldCup-Prediction/.venv/lib/python3.6/site-packages/sklearn/preprocessing/label.py:151: DeprecationWarning: The truth value of an empty array is ambiguous. Returning False, but in future this will result in an error. Use `array.size > 0` to check that an array is not empty.\n",
      "  if diff:\n",
      "/Users/victor/Documents/WorldCup-Prediction/.venv/lib/python3.6/site-packages/sklearn/preprocessing/label.py:151: DeprecationWarning: The truth value of an empty array is ambiguous. Returning False, but in future this will result in an error. Use `array.size > 0` to check that an array is not empty.\n",
      "  if diff:\n",
      "/Users/victor/Documents/WorldCup-Prediction/.venv/lib/python3.6/site-packages/sklearn/preprocessing/label.py:151: DeprecationWarning: The truth value of an empty array is ambiguous. Returning False, but in future this will result in an error. Use `array.size > 0` to check that an array is not empty.\n",
      "  if diff:\n",
      "/Users/victor/Documents/WorldCup-Prediction/.venv/lib/python3.6/site-packages/sklearn/preprocessing/label.py:151: DeprecationWarning: The truth value of an empty array is ambiguous. Returning False, but in future this will result in an error. Use `array.size > 0` to check that an array is not empty.\n",
      "  if diff:\n",
      "/Users/victor/Documents/WorldCup-Prediction/.venv/lib/python3.6/site-packages/sklearn/preprocessing/label.py:151: DeprecationWarning: The truth value of an empty array is ambiguous. Returning False, but in future this will result in an error. Use `array.size > 0` to check that an array is not empty.\n",
      "  if diff:\n",
      "/Users/victor/Documents/WorldCup-Prediction/.venv/lib/python3.6/site-packages/sklearn/preprocessing/label.py:151: DeprecationWarning: The truth value of an empty array is ambiguous. Returning False, but in future this will result in an error. Use `array.size > 0` to check that an array is not empty.\n",
      "  if diff:\n",
      "/Users/victor/Documents/WorldCup-Prediction/.venv/lib/python3.6/site-packages/sklearn/preprocessing/label.py:151: DeprecationWarning: The truth value of an empty array is ambiguous. Returning False, but in future this will result in an error. Use `array.size > 0` to check that an array is not empty.\n",
      "  if diff:\n"
     ]
    },
    {
     "name": "stdout",
     "output_type": "stream",
     "text": [
      "Test set accuracy score:  0.4902046783625731 \n",
      "\n"
     ]
    },
    {
     "name": "stderr",
     "output_type": "stream",
     "text": [
      "/Users/victor/Documents/WorldCup-Prediction/.venv/lib/python3.6/site-packages/sklearn/preprocessing/label.py:151: DeprecationWarning: The truth value of an empty array is ambiguous. Returning False, but in future this will result in an error. Use `array.size > 0` to check that an array is not empty.\n",
      "  if diff:\n",
      "/Users/victor/Documents/WorldCup-Prediction/.venv/lib/python3.6/site-packages/sklearn/preprocessing/label.py:151: DeprecationWarning: The truth value of an empty array is ambiguous. Returning False, but in future this will result in an error. Use `array.size > 0` to check that an array is not empty.\n",
      "  if diff:\n"
     ]
    }
   ],
   "source": [
    "test_model(model, X, y, cv=10)"
   ]
  },
  {
   "cell_type": "code",
   "execution_count": null,
   "metadata": {},
   "outputs": [],
   "source": []
  },
  {
   "cell_type": "code",
   "execution_count": null,
   "metadata": {},
   "outputs": [],
   "source": []
  }
 ],
 "metadata": {
  "kernelspec": {
   "display_name": "Python 3",
   "language": "python",
   "name": "python3"
  },
  "language_info": {
   "codemirror_mode": {
    "name": "ipython",
    "version": 3
   },
   "file_extension": ".py",
   "mimetype": "text/x-python",
   "name": "python",
   "nbconvert_exporter": "python",
   "pygments_lexer": "ipython3",
   "version": "3.6.5"
  }
 },
 "nbformat": 4,
 "nbformat_minor": 2
}
