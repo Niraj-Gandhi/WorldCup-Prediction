{
 "cells": [
  {
   "cell_type": "code",
   "execution_count": 1,
   "metadata": {},
   "outputs": [],
   "source": [
    "import numpy as np\n",
    "import pandas as pd\n",
    "\n",
    "from sklearn.svm import SVC\n",
    "from sklearn.preprocessing import LabelEncoder\n",
    "\n",
    "import pickle"
   ]
  },
  {
   "cell_type": "markdown",
   "metadata": {},
   "source": [
    "# Import dataset"
   ]
  },
  {
   "cell_type": "code",
   "execution_count": 2,
   "metadata": {},
   "outputs": [],
   "source": [
    "data = pd.read_csv(\"../DataFormating/final.csv\")"
   ]
  },
  {
   "cell_type": "code",
   "execution_count": 3,
   "metadata": {},
   "outputs": [
    {
     "data": {
      "text/html": [
       "<div>\n",
       "<style scoped>\n",
       "    .dataframe tbody tr th:only-of-type {\n",
       "        vertical-align: middle;\n",
       "    }\n",
       "\n",
       "    .dataframe tbody tr th {\n",
       "        vertical-align: top;\n",
       "    }\n",
       "\n",
       "    .dataframe thead th {\n",
       "        text-align: right;\n",
       "    }\n",
       "</style>\n",
       "<table border=\"1\" class=\"dataframe\">\n",
       "  <thead>\n",
       "    <tr style=\"text-align: right;\">\n",
       "      <th></th>\n",
       "      <th>Away Team Goals</th>\n",
       "      <th>Away Team Name</th>\n",
       "      <th>Home Team Goals</th>\n",
       "      <th>Home Team Name</th>\n",
       "      <th>Year</th>\n",
       "      <th>home_rank</th>\n",
       "      <th>home_total_points</th>\n",
       "      <th>home_previous_points</th>\n",
       "      <th>home_rank_change</th>\n",
       "      <th>home_cur_year_avg</th>\n",
       "      <th>...</th>\n",
       "      <th>away_cur_year_avg</th>\n",
       "      <th>away_cur_year_avg_weighted</th>\n",
       "      <th>away_last_year_avg</th>\n",
       "      <th>away_last_year_avg_weighted</th>\n",
       "      <th>away_two_year_ago_avg</th>\n",
       "      <th>away_two_year_ago_weighted</th>\n",
       "      <th>away_three_year_ago_avg</th>\n",
       "      <th>away_three_year_ago_weighted</th>\n",
       "      <th>Home Avg Goals</th>\n",
       "      <th>Away Avg Goals</th>\n",
       "    </tr>\n",
       "  </thead>\n",
       "  <tbody>\n",
       "    <tr>\n",
       "      <th>0</th>\n",
       "      <td>1.0</td>\n",
       "      <td>Croatia</td>\n",
       "      <td>3.0</td>\n",
       "      <td>Brazil</td>\n",
       "      <td>2014.0</td>\n",
       "      <td>10</td>\n",
       "      <td>1102.21</td>\n",
       "      <td>1102</td>\n",
       "      <td>0</td>\n",
       "      <td>668.33</td>\n",
       "      <td>...</td>\n",
       "      <td>430.28</td>\n",
       "      <td>430.28</td>\n",
       "      <td>525.55</td>\n",
       "      <td>262.77</td>\n",
       "      <td>568.32</td>\n",
       "      <td>170.50</td>\n",
       "      <td>535.83</td>\n",
       "      <td>107.17</td>\n",
       "      <td>0.0</td>\n",
       "      <td>0.0</td>\n",
       "    </tr>\n",
       "    <tr>\n",
       "      <th>1</th>\n",
       "      <td>0.0</td>\n",
       "      <td>Egypt</td>\n",
       "      <td>2.0</td>\n",
       "      <td>Senegal</td>\n",
       "      <td>2014.0</td>\n",
       "      <td>68</td>\n",
       "      <td>525.55</td>\n",
       "      <td>536</td>\n",
       "      <td>-3</td>\n",
       "      <td>282.37</td>\n",
       "      <td>...</td>\n",
       "      <td>468.13</td>\n",
       "      <td>468.13</td>\n",
       "      <td>219.01</td>\n",
       "      <td>109.51</td>\n",
       "      <td>223.39</td>\n",
       "      <td>67.02</td>\n",
       "      <td>518.35</td>\n",
       "      <td>103.67</td>\n",
       "      <td>0.0</td>\n",
       "      <td>0.0</td>\n",
       "    </tr>\n",
       "    <tr>\n",
       "      <th>2</th>\n",
       "      <td>2.0</td>\n",
       "      <td>Uruguay</td>\n",
       "      <td>0.0</td>\n",
       "      <td>Japan</td>\n",
       "      <td>2014.0</td>\n",
       "      <td>48</td>\n",
       "      <td>640.56</td>\n",
       "      <td>638</td>\n",
       "      <td>-1</td>\n",
       "      <td>208.37</td>\n",
       "      <td>...</td>\n",
       "      <td>625.97</td>\n",
       "      <td>625.97</td>\n",
       "      <td>303.35</td>\n",
       "      <td>151.68</td>\n",
       "      <td>726.15</td>\n",
       "      <td>217.84</td>\n",
       "      <td>681.79</td>\n",
       "      <td>136.36</td>\n",
       "      <td>0.0</td>\n",
       "      <td>0.0</td>\n",
       "    </tr>\n",
       "    <tr>\n",
       "      <th>3</th>\n",
       "      <td>0.0</td>\n",
       "      <td>Spain</td>\n",
       "      <td>1.0</td>\n",
       "      <td>France</td>\n",
       "      <td>2014.0</td>\n",
       "      <td>20</td>\n",
       "      <td>893.16</td>\n",
       "      <td>893</td>\n",
       "      <td>0</td>\n",
       "      <td>435.22</td>\n",
       "      <td>...</td>\n",
       "      <td>699.69</td>\n",
       "      <td>699.69</td>\n",
       "      <td>830.72</td>\n",
       "      <td>415.36</td>\n",
       "      <td>610.39</td>\n",
       "      <td>183.12</td>\n",
       "      <td>1044.29</td>\n",
       "      <td>208.86</td>\n",
       "      <td>0.0</td>\n",
       "      <td>0.0</td>\n",
       "    </tr>\n",
       "    <tr>\n",
       "      <th>4</th>\n",
       "      <td>0.0</td>\n",
       "      <td>Australia</td>\n",
       "      <td>2.0</td>\n",
       "      <td>Belgium</td>\n",
       "      <td>2014.0</td>\n",
       "      <td>11</td>\n",
       "      <td>1098.31</td>\n",
       "      <td>1098</td>\n",
       "      <td>0</td>\n",
       "      <td>652.93</td>\n",
       "      <td>...</td>\n",
       "      <td>237.59</td>\n",
       "      <td>237.59</td>\n",
       "      <td>246.99</td>\n",
       "      <td>123.49</td>\n",
       "      <td>442.97</td>\n",
       "      <td>132.89</td>\n",
       "      <td>387.21</td>\n",
       "      <td>77.44</td>\n",
       "      <td>0.0</td>\n",
       "      <td>0.0</td>\n",
       "    </tr>\n",
       "  </tbody>\n",
       "</table>\n",
       "<p>5 rows × 31 columns</p>\n",
       "</div>"
      ],
      "text/plain": [
       "   Away Team Goals Away Team Name  Home Team Goals Home Team Name    Year  \\\n",
       "0              1.0        Croatia              3.0         Brazil  2014.0   \n",
       "1              0.0          Egypt              2.0        Senegal  2014.0   \n",
       "2              2.0        Uruguay              0.0          Japan  2014.0   \n",
       "3              0.0          Spain              1.0         France  2014.0   \n",
       "4              0.0      Australia              2.0        Belgium  2014.0   \n",
       "\n",
       "   home_rank  home_total_points  home_previous_points  home_rank_change  \\\n",
       "0         10            1102.21                  1102                 0   \n",
       "1         68             525.55                   536                -3   \n",
       "2         48             640.56                   638                -1   \n",
       "3         20             893.16                   893                 0   \n",
       "4         11            1098.31                  1098                 0   \n",
       "\n",
       "   home_cur_year_avg       ...        away_cur_year_avg  \\\n",
       "0             668.33       ...                   430.28   \n",
       "1             282.37       ...                   468.13   \n",
       "2             208.37       ...                   625.97   \n",
       "3             435.22       ...                   699.69   \n",
       "4             652.93       ...                   237.59   \n",
       "\n",
       "   away_cur_year_avg_weighted  away_last_year_avg  \\\n",
       "0                      430.28              525.55   \n",
       "1                      468.13              219.01   \n",
       "2                      625.97              303.35   \n",
       "3                      699.69              830.72   \n",
       "4                      237.59              246.99   \n",
       "\n",
       "   away_last_year_avg_weighted  away_two_year_ago_avg  \\\n",
       "0                       262.77                 568.32   \n",
       "1                       109.51                 223.39   \n",
       "2                       151.68                 726.15   \n",
       "3                       415.36                 610.39   \n",
       "4                       123.49                 442.97   \n",
       "\n",
       "   away_two_year_ago_weighted  away_three_year_ago_avg  \\\n",
       "0                      170.50                   535.83   \n",
       "1                       67.02                   518.35   \n",
       "2                      217.84                   681.79   \n",
       "3                      183.12                  1044.29   \n",
       "4                      132.89                   387.21   \n",
       "\n",
       "   away_three_year_ago_weighted  Home Avg Goals  Away Avg Goals  \n",
       "0                        107.17             0.0             0.0  \n",
       "1                        103.67             0.0             0.0  \n",
       "2                        136.36             0.0             0.0  \n",
       "3                        208.86             0.0             0.0  \n",
       "4                         77.44             0.0             0.0  \n",
       "\n",
       "[5 rows x 31 columns]"
      ]
     },
     "execution_count": 3,
     "metadata": {},
     "output_type": "execute_result"
    }
   ],
   "source": [
    "data.head()"
   ]
  },
  {
   "cell_type": "markdown",
   "metadata": {},
   "source": [
    "# Set `X` and `y`"
   ]
  },
  {
   "cell_type": "code",
   "execution_count": 4,
   "metadata": {},
   "outputs": [
    {
     "data": {
      "text/plain": [
       "Index(['Away Team Goals', 'Away Team Name', 'Home Team Goals',\n",
       "       'Home Team Name', 'Year', 'home_rank', 'home_total_points',\n",
       "       'home_previous_points', 'home_rank_change', 'home_cur_year_avg',\n",
       "       'home_cur_year_avg_weighted', 'home_last_year_avg',\n",
       "       'home_last_year_avg_weighted', 'home_two_year_ago_avg',\n",
       "       'home_two_year_ago_weighted', 'home_three_year_ago_avg',\n",
       "       'home_three_year_ago_weighted', 'away_rank', 'away_total_points',\n",
       "       'away_previous_points', 'away_rank_change', 'away_cur_year_avg',\n",
       "       'away_cur_year_avg_weighted', 'away_last_year_avg',\n",
       "       'away_last_year_avg_weighted', 'away_two_year_ago_avg',\n",
       "       'away_two_year_ago_weighted', 'away_three_year_ago_avg',\n",
       "       'away_three_year_ago_weighted', 'Home Avg Goals', 'Away Avg Goals'],\n",
       "      dtype='object')"
      ]
     },
     "execution_count": 4,
     "metadata": {},
     "output_type": "execute_result"
    }
   ],
   "source": [
    "data.columns"
   ]
  },
  {
   "cell_type": "code",
   "execution_count": 5,
   "metadata": {},
   "outputs": [],
   "source": [
    "X = data.drop([\"Away Team Goals\", \"Home Team Goals\"], axis=1)\n",
    "\n",
    "y = []\n",
    "for i in range(len(data)):\n",
    "    home_team_goals = data.iloc[i][\"Home Team Goals\"]\n",
    "    away_team_goals = data.iloc[i][\"Away Team Goals\"]\n",
    "    \n",
    "    if home_team_goals > away_team_goals:\n",
    "        y.append(1)\n",
    "    elif home_team_goals < away_team_goals:\n",
    "        y.append(2)\n",
    "    else:\n",
    "        y.append(0)"
   ]
  },
  {
   "cell_type": "code",
   "execution_count": 6,
   "metadata": {},
   "outputs": [],
   "source": [
    "# Test\n",
    "assert len(X) == len(y)"
   ]
  },
  {
   "cell_type": "markdown",
   "metadata": {},
   "source": [
    "### Encode textual features from the `X` dataset"
   ]
  },
  {
   "cell_type": "code",
   "execution_count": 7,
   "metadata": {},
   "outputs": [],
   "source": [
    "word_cup_teams = [\n",
    "    \"Egypt\",\n",
    "    \"Morocco\",\n",
    "    \"Nigeria\",\n",
    "    \"Senegal\",\n",
    "    \"Tunisia\",\n",
    "    \"Australia\",\n",
    "    \"IR Iran\",\n",
    "    \"Japan\",\n",
    "    \"Korea DPR\",\n",
    "    \"Saudi Arabia\",\n",
    "    \"Belgium\",\n",
    "    \"Croatia\",\n",
    "    \"Denmark\",\n",
    "    \"England\",\n",
    "    \"France\",\n",
    "    \"Germany\",\n",
    "    \"Iceland\",\n",
    "    \"Poland\",\n",
    "    \"Portugal\",\n",
    "    \"Russia\",\n",
    "    \"Serbia\",\n",
    "    \"Spain\",\n",
    "    \"Sweden\",\n",
    "    \"Switzerland\",\n",
    "    \"Costa Rica\",\n",
    "    \"Mexico\",\n",
    "    \"Panama\",\n",
    "    \"Argentina\",\n",
    "    \"Brazil\",\n",
    "    \"Colombia\",\n",
    "    \"Peru\",\n",
    "    \"Uruguay\"\n",
    "]\n",
    "\n",
    "team_names = list(data[\"Home Team Name\"].unique()) + list(data[\"Away Team Name\"].unique()) + word_cup_teams"
   ]
  },
  {
   "cell_type": "code",
   "execution_count": 8,
   "metadata": {},
   "outputs": [],
   "source": [
    "team_name_encoder = LabelEncoder().fit(team_names)"
   ]
  },
  {
   "cell_type": "code",
   "execution_count": 9,
   "metadata": {},
   "outputs": [],
   "source": [
    "X[\"Home Team Name\"] = team_name_encoder.transform(X[\"Home Team Name\"])\n",
    "X[\"Away Team Name\"] = team_name_encoder.transform(X[\"Away Team Name\"])"
   ]
  },
  {
   "cell_type": "markdown",
   "metadata": {},
   "source": [
    "### Feature Selection"
   ]
  },
  {
   "cell_type": "code",
   "execution_count": 10,
   "metadata": {},
   "outputs": [],
   "source": [
    "feature_names = []\n",
    "\n",
    "COLUMNS = []\n",
    "for column_name in X.columns:\n",
    "    for feature_name in feature_names:\n",
    "        if feature_name in column_name:\n",
    "            COLUMNS.append(column_name)\n",
    "            break\n",
    "\n",
    "COLUMNS = [\n",
    "    'Away Team Name',\n",
    "    'Home Team Name',\n",
    "\n",
    "    'home_rank',\n",
    "    'home_cur_year_avg',\n",
    "    \n",
    "    'away_rank',\n",
    "    'away_cur_year_avg',\n",
    "    \n",
    "    'Home Avg Goals',\n",
    "    'Away Avg Goals'\n",
    "]\n",
    "X = X[COLUMNS]"
   ]
  },
  {
   "cell_type": "code",
   "execution_count": 11,
   "metadata": {
    "scrolled": true
   },
   "outputs": [
    {
     "data": {
      "text/plain": [
       "['Away Team Name',\n",
       " 'Home Team Name',\n",
       " 'home_rank',\n",
       " 'home_cur_year_avg',\n",
       " 'away_rank',\n",
       " 'away_cur_year_avg',\n",
       " 'Home Avg Goals',\n",
       " 'Away Avg Goals']"
      ]
     },
     "execution_count": 11,
     "metadata": {},
     "output_type": "execute_result"
    }
   ],
   "source": [
    "COLUMNS"
   ]
  },
  {
   "cell_type": "markdown",
   "metadata": {},
   "source": [
    "# Traning Session"
   ]
  },
  {
   "cell_type": "code",
   "execution_count": 12,
   "metadata": {
    "scrolled": true
   },
   "outputs": [
    {
     "name": "stdout",
     "output_type": "stream",
     "text": [
      "<class 'pandas.core.frame.DataFrame'>\n",
      "RangeIndex: 306 entries, 0 to 305\n",
      "Data columns (total 8 columns):\n",
      "Away Team Name       306 non-null int64\n",
      "Home Team Name       306 non-null int64\n",
      "home_rank            306 non-null int64\n",
      "home_cur_year_avg    306 non-null float64\n",
      "away_rank            306 non-null int64\n",
      "away_cur_year_avg    306 non-null float64\n",
      "Home Avg Goals       306 non-null float64\n",
      "Away Avg Goals       306 non-null float64\n",
      "dtypes: float64(4), int64(4)\n",
      "memory usage: 19.2 KB\n"
     ]
    }
   ],
   "source": [
    "X.info()"
   ]
  },
  {
   "cell_type": "code",
   "execution_count": 13,
   "metadata": {},
   "outputs": [
    {
     "data": {
      "text/html": [
       "<div>\n",
       "<style scoped>\n",
       "    .dataframe tbody tr th:only-of-type {\n",
       "        vertical-align: middle;\n",
       "    }\n",
       "\n",
       "    .dataframe tbody tr th {\n",
       "        vertical-align: top;\n",
       "    }\n",
       "\n",
       "    .dataframe thead th {\n",
       "        text-align: right;\n",
       "    }\n",
       "</style>\n",
       "<table border=\"1\" class=\"dataframe\">\n",
       "  <thead>\n",
       "    <tr style=\"text-align: right;\">\n",
       "      <th></th>\n",
       "      <th>Away Team Name</th>\n",
       "      <th>Home Team Name</th>\n",
       "      <th>home_rank</th>\n",
       "      <th>home_cur_year_avg</th>\n",
       "      <th>away_rank</th>\n",
       "      <th>away_cur_year_avg</th>\n",
       "      <th>Home Avg Goals</th>\n",
       "      <th>Away Avg Goals</th>\n",
       "    </tr>\n",
       "  </thead>\n",
       "  <tbody>\n",
       "    <tr>\n",
       "      <th>count</th>\n",
       "      <td>306.000000</td>\n",
       "      <td>306.000000</td>\n",
       "      <td>306.000000</td>\n",
       "      <td>306.000000</td>\n",
       "      <td>306.000000</td>\n",
       "      <td>306.000000</td>\n",
       "      <td>306.000000</td>\n",
       "      <td>306.000000</td>\n",
       "    </tr>\n",
       "    <tr>\n",
       "      <th>mean</th>\n",
       "      <td>14.980392</td>\n",
       "      <td>13.859477</td>\n",
       "      <td>23.506536</td>\n",
       "      <td>503.409379</td>\n",
       "      <td>25.362745</td>\n",
       "      <td>501.238758</td>\n",
       "      <td>0.180065</td>\n",
       "      <td>0.134804</td>\n",
       "    </tr>\n",
       "    <tr>\n",
       "      <th>std</th>\n",
       "      <td>9.928578</td>\n",
       "      <td>9.794438</td>\n",
       "      <td>20.652669</td>\n",
       "      <td>188.348007</td>\n",
       "      <td>21.444915</td>\n",
       "      <td>180.352170</td>\n",
       "      <td>0.530661</td>\n",
       "      <td>0.469572</td>\n",
       "    </tr>\n",
       "    <tr>\n",
       "      <th>min</th>\n",
       "      <td>0.000000</td>\n",
       "      <td>0.000000</td>\n",
       "      <td>1.000000</td>\n",
       "      <td>47.490000</td>\n",
       "      <td>1.000000</td>\n",
       "      <td>47.490000</td>\n",
       "      <td>0.000000</td>\n",
       "      <td>0.000000</td>\n",
       "    </tr>\n",
       "    <tr>\n",
       "      <th>25%</th>\n",
       "      <td>5.000000</td>\n",
       "      <td>5.000000</td>\n",
       "      <td>7.000000</td>\n",
       "      <td>374.012500</td>\n",
       "      <td>7.000000</td>\n",
       "      <td>369.950000</td>\n",
       "      <td>0.000000</td>\n",
       "      <td>0.000000</td>\n",
       "    </tr>\n",
       "    <tr>\n",
       "      <th>50%</th>\n",
       "      <td>16.000000</td>\n",
       "      <td>11.000000</td>\n",
       "      <td>17.000000</td>\n",
       "      <td>504.430000</td>\n",
       "      <td>18.000000</td>\n",
       "      <td>473.830000</td>\n",
       "      <td>0.000000</td>\n",
       "      <td>0.000000</td>\n",
       "    </tr>\n",
       "    <tr>\n",
       "      <th>75%</th>\n",
       "      <td>23.000000</td>\n",
       "      <td>23.000000</td>\n",
       "      <td>37.000000</td>\n",
       "      <td>631.380000</td>\n",
       "      <td>41.000000</td>\n",
       "      <td>625.970000</td>\n",
       "      <td>0.000000</td>\n",
       "      <td>0.000000</td>\n",
       "    </tr>\n",
       "    <tr>\n",
       "      <th>max</th>\n",
       "      <td>32.000000</td>\n",
       "      <td>32.000000</td>\n",
       "      <td>100.000000</td>\n",
       "      <td>1090.540000</td>\n",
       "      <td>102.000000</td>\n",
       "      <td>1090.540000</td>\n",
       "      <td>3.000000</td>\n",
       "      <td>4.000000</td>\n",
       "    </tr>\n",
       "  </tbody>\n",
       "</table>\n",
       "</div>"
      ],
      "text/plain": [
       "       Away Team Name  Home Team Name   home_rank  home_cur_year_avg  \\\n",
       "count      306.000000      306.000000  306.000000         306.000000   \n",
       "mean        14.980392       13.859477   23.506536         503.409379   \n",
       "std          9.928578        9.794438   20.652669         188.348007   \n",
       "min          0.000000        0.000000    1.000000          47.490000   \n",
       "25%          5.000000        5.000000    7.000000         374.012500   \n",
       "50%         16.000000       11.000000   17.000000         504.430000   \n",
       "75%         23.000000       23.000000   37.000000         631.380000   \n",
       "max         32.000000       32.000000  100.000000        1090.540000   \n",
       "\n",
       "        away_rank  away_cur_year_avg  Home Avg Goals  Away Avg Goals  \n",
       "count  306.000000         306.000000      306.000000      306.000000  \n",
       "mean    25.362745         501.238758        0.180065        0.134804  \n",
       "std     21.444915         180.352170        0.530661        0.469572  \n",
       "min      1.000000          47.490000        0.000000        0.000000  \n",
       "25%      7.000000         369.950000        0.000000        0.000000  \n",
       "50%     18.000000         473.830000        0.000000        0.000000  \n",
       "75%     41.000000         625.970000        0.000000        0.000000  \n",
       "max    102.000000        1090.540000        3.000000        4.000000  "
      ]
     },
     "execution_count": 13,
     "metadata": {},
     "output_type": "execute_result"
    }
   ],
   "source": [
    "X.describe()"
   ]
  },
  {
   "cell_type": "code",
   "execution_count": 14,
   "metadata": {},
   "outputs": [],
   "source": [
    "model = SVC(C=1.0, kernel=\"rbf\", gamma=\"auto\", probability=True)"
   ]
  },
  {
   "cell_type": "code",
   "execution_count": 15,
   "metadata": {},
   "outputs": [
    {
     "data": {
      "text/plain": [
       "SVC(C=1.0, cache_size=200, class_weight=None, coef0=0.0,\n",
       "  decision_function_shape='ovr', degree=3, gamma='auto', kernel='rbf',\n",
       "  max_iter=-1, probability=True, random_state=None, shrinking=True,\n",
       "  tol=0.001, verbose=False)"
      ]
     },
     "execution_count": 15,
     "metadata": {},
     "output_type": "execute_result"
    }
   ],
   "source": [
    "model.fit(X, y)"
   ]
  },
  {
   "cell_type": "code",
   "execution_count": null,
   "metadata": {},
   "outputs": [],
   "source": []
  },
  {
   "cell_type": "markdown",
   "metadata": {},
   "source": [
    "# Save model and encoders"
   ]
  },
  {
   "cell_type": "code",
   "execution_count": 16,
   "metadata": {},
   "outputs": [],
   "source": [
    "with open(\"svm_model.b\", \"wb\") as f:\n",
    "    pickle.dump(model, f)\n",
    "    \n",
    "with open(\"team_name_encoder.b\", \"wb\") as f:\n",
    "    pickle.dump(team_name_encoder, f)"
   ]
  },
  {
   "cell_type": "code",
   "execution_count": null,
   "metadata": {},
   "outputs": [],
   "source": []
  }
 ],
 "metadata": {
  "kernelspec": {
   "display_name": "Python 3",
   "language": "python",
   "name": "python3"
  },
  "language_info": {
   "codemirror_mode": {
    "name": "ipython",
    "version": 3
   },
   "file_extension": ".py",
   "mimetype": "text/x-python",
   "name": "python",
   "nbconvert_exporter": "python",
   "pygments_lexer": "ipython3",
   "version": "3.6.5"
  }
 },
 "nbformat": 4,
 "nbformat_minor": 2
}
