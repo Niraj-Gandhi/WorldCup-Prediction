{
 "cells": [
  {
   "cell_type": "code",
   "execution_count": 9,
   "metadata": {},
   "outputs": [],
   "source": [
    "import numpy as np\n",
    "import pandas as pd\n",
    "\n",
    "import xgboost\n",
    "from sklearn.preprocessing import LabelEncoder"
   ]
  },
  {
   "cell_type": "markdown",
   "metadata": {},
   "source": [
    "# Import dataset"
   ]
  },
  {
   "cell_type": "code",
   "execution_count": 10,
   "metadata": {},
   "outputs": [],
   "source": [
    "data = pd.read_csv(\"../DataFormating/compressed_final.csv\")"
   ]
  },
  {
   "cell_type": "markdown",
   "metadata": {},
   "source": [
    "# Set `X` and `y`"
   ]
  },
  {
   "cell_type": "code",
   "execution_count": 11,
   "metadata": {},
   "outputs": [
    {
     "data": {
      "text/plain": [
       "Index(['Stage', 'Home Team Name', 'Home Team Goals', 'Away Team Goals',\n",
       "       'Away Team Name', 'Attendance', 'Half-time Home Goals',\n",
       "       'Half-time Away Goals', 'Home Team Initials', 'Away Team Initials'],\n",
       "      dtype='object')"
      ]
     },
     "execution_count": 11,
     "metadata": {},
     "output_type": "execute_result"
    }
   ],
   "source": [
    "data.columns[:10]"
   ]
  },
  {
   "cell_type": "code",
   "execution_count": 12,
   "metadata": {},
   "outputs": [],
   "source": [
    "X = data.drop([\"Home Team Goals\", \"Away Team Goals\",\n",
    "               \"Half-time Home Goals\", \"Half-time Away Goals\", \n",
    "               \"Home Team Initials\", \"Away Team Initials\"], axis=1)\n",
    "\n",
    "y = []\n",
    "for i in range(len(data)):\n",
    "    home_team_goals = data.iloc[i][\"Home Team Goals\"]\n",
    "    away_team_goals = data.iloc[i][\"Away Team Goals\"]\n",
    "    \n",
    "    if home_team_goals > away_team_goals:\n",
    "        y.append(1)\n",
    "    elif home_team_goals < away_team_goals:\n",
    "        y.append(2)\n",
    "    else:\n",
    "        y.append(0)"
   ]
  },
  {
   "cell_type": "code",
   "execution_count": 13,
   "metadata": {},
   "outputs": [],
   "source": [
    "# Test\n",
    "assert len(X) == len(y)"
   ]
  },
  {
   "cell_type": "markdown",
   "metadata": {},
   "source": [
    "### Encode textual features from the `X` dataset"
   ]
  },
  {
   "cell_type": "code",
   "execution_count": 14,
   "metadata": {},
   "outputs": [],
   "source": [
    "stage_encoder = LabelEncoder().fit(X[\"Stage\"])\n",
    "home_team_name_encoder = LabelEncoder().fit(X[\"Home Team Name\"])\n",
    "away_team_name_encoder = LabelEncoder().fit(X[\"Away Team Name\"])"
   ]
  },
  {
   "cell_type": "code",
   "execution_count": 15,
   "metadata": {},
   "outputs": [],
   "source": [
    "X[\"Stage\"] = stage_encoder.transform(X[\"Stage\"])\n",
    "X[\"Home Team Name\"] = home_team_name_encoder.transform(X[\"Home Team Name\"])\n",
    "X[\"Away Team Name\"] = away_team_name_encoder.transform(X[\"Away Team Name\"])"
   ]
  },
  {
   "cell_type": "code",
   "execution_count": null,
   "metadata": {},
   "outputs": [],
   "source": []
  },
  {
   "cell_type": "markdown",
   "metadata": {},
   "source": [
    "### Feature Selection"
   ]
  },
  {
   "cell_type": "code",
   "execution_count": 16,
   "metadata": {},
   "outputs": [],
   "source": [
    "feature_names = [\n",
    "    \"Stage\", \"Home Team Name\", \"Away Team Name\",\n",
    "    \"Attendance\", \"Overall\",\n",
    "    \"Mean Home Team Goals\", \"Mean Away Team Goals\"\n",
    "]\n",
    "\n",
    "COLUMNS = []\n",
    "\n",
    "for column_name in X.columns:\n",
    "    for feature_name in feature_names:\n",
    "        if feature_name in column_name:\n",
    "            COLUMNS.append(column_name)\n",
    "            break\n",
    "\n",
    "X = X[COLUMNS]"
   ]
  },
  {
   "cell_type": "code",
   "execution_count": null,
   "metadata": {},
   "outputs": [],
   "source": []
  },
  {
   "cell_type": "code",
   "execution_count": null,
   "metadata": {},
   "outputs": [],
   "source": []
  },
  {
   "cell_type": "code",
   "execution_count": null,
   "metadata": {},
   "outputs": [],
   "source": []
  }
 ],
 "metadata": {
  "kernelspec": {
   "display_name": "Python 3",
   "language": "python",
   "name": "python3"
  },
  "language_info": {
   "codemirror_mode": {
    "name": "ipython",
    "version": 3
   },
   "file_extension": ".py",
   "mimetype": "text/x-python",
   "name": "python",
   "nbconvert_exporter": "python",
   "pygments_lexer": "ipython3",
   "version": "3.6.5"
  }
 },
 "nbformat": 4,
 "nbformat_minor": 2
}
