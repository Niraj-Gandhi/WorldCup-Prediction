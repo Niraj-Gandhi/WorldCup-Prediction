{
 "cells": [
  {
   "cell_type": "code",
   "execution_count": 1,
   "metadata": {},
   "outputs": [],
   "source": [
    "import numpy as np\n",
    "import pandas as pd\n",
    "\n",
    "from sklearn.ensemble import RandomForestClassifier\n",
    "from sklearn.preprocessing import LabelEncoder\n",
    "\n",
    "import pickle"
   ]
  },
  {
   "cell_type": "markdown",
   "metadata": {},
   "source": [
    "# Import dataset"
   ]
  },
  {
   "cell_type": "code",
   "execution_count": 2,
   "metadata": {},
   "outputs": [],
   "source": [
    "data = pd.read_csv(\"../DataFormating/compressed_final.csv\")"
   ]
  },
  {
   "cell_type": "code",
   "execution_count": 3,
   "metadata": {},
   "outputs": [
    {
     "data": {
      "text/html": [
       "<div>\n",
       "<style scoped>\n",
       "    .dataframe tbody tr th:only-of-type {\n",
       "        vertical-align: middle;\n",
       "    }\n",
       "\n",
       "    .dataframe tbody tr th {\n",
       "        vertical-align: top;\n",
       "    }\n",
       "\n",
       "    .dataframe thead th {\n",
       "        text-align: right;\n",
       "    }\n",
       "</style>\n",
       "<table border=\"1\" class=\"dataframe\">\n",
       "  <thead>\n",
       "    <tr style=\"text-align: right;\">\n",
       "      <th></th>\n",
       "      <th>Away Team Goals</th>\n",
       "      <th>Away Team Name</th>\n",
       "      <th>Home Team Goals</th>\n",
       "      <th>Home Team Name</th>\n",
       "      <th>Player 1 Overall Diff</th>\n",
       "      <th>Player 2 Overall Diff</th>\n",
       "      <th>Player 3 Overall Diff</th>\n",
       "      <th>Player 4 Overall Diff</th>\n",
       "      <th>Player 5 Overall Diff</th>\n",
       "      <th>Player 6 Overall Diff</th>\n",
       "      <th>Player 7 Overall Diff</th>\n",
       "      <th>Player 8 Overall Diff</th>\n",
       "      <th>Player 9 Overall Diff</th>\n",
       "      <th>Player 10 Overall Diff</th>\n",
       "      <th>Player 11 Overall Diff</th>\n",
       "      <th>Avg Goals Diff</th>\n",
       "      <th>FIFA Rank Diff</th>\n",
       "    </tr>\n",
       "  </thead>\n",
       "  <tbody>\n",
       "    <tr>\n",
       "      <th>0</th>\n",
       "      <td>1.0</td>\n",
       "      <td>Croatia</td>\n",
       "      <td>3.0</td>\n",
       "      <td>Brazil</td>\n",
       "      <td>5</td>\n",
       "      <td>4</td>\n",
       "      <td>7</td>\n",
       "      <td>5</td>\n",
       "      <td>8</td>\n",
       "      <td>9</td>\n",
       "      <td>10</td>\n",
       "      <td>9</td>\n",
       "      <td>11</td>\n",
       "      <td>12</td>\n",
       "      <td>13</td>\n",
       "      <td>2.000000</td>\n",
       "      <td>-16.0</td>\n",
       "    </tr>\n",
       "    <tr>\n",
       "      <th>1</th>\n",
       "      <td>3.0</td>\n",
       "      <td>Costa Rica</td>\n",
       "      <td>1.0</td>\n",
       "      <td>Uruguay</td>\n",
       "      <td>8</td>\n",
       "      <td>4</td>\n",
       "      <td>5</td>\n",
       "      <td>7</td>\n",
       "      <td>5</td>\n",
       "      <td>5</td>\n",
       "      <td>6</td>\n",
       "      <td>6</td>\n",
       "      <td>6</td>\n",
       "      <td>7</td>\n",
       "      <td>7</td>\n",
       "      <td>-1.333333</td>\n",
       "      <td>-8.0</td>\n",
       "    </tr>\n",
       "    <tr>\n",
       "      <th>2</th>\n",
       "      <td>0.0</td>\n",
       "      <td>Portugal</td>\n",
       "      <td>4.0</td>\n",
       "      <td>Germany</td>\n",
       "      <td>-5</td>\n",
       "      <td>-4</td>\n",
       "      <td>-3</td>\n",
       "      <td>-7</td>\n",
       "      <td>-8</td>\n",
       "      <td>-9</td>\n",
       "      <td>-10</td>\n",
       "      <td>-13</td>\n",
       "      <td>-10</td>\n",
       "      <td>-11</td>\n",
       "      <td>-11</td>\n",
       "      <td>4.000000</td>\n",
       "      <td>-3.0</td>\n",
       "    </tr>\n",
       "    <tr>\n",
       "      <th>3</th>\n",
       "      <td>0.0</td>\n",
       "      <td>Nigeria</td>\n",
       "      <td>0.0</td>\n",
       "      <td>Iran</td>\n",
       "      <td>0</td>\n",
       "      <td>2</td>\n",
       "      <td>0</td>\n",
       "      <td>2</td>\n",
       "      <td>0</td>\n",
       "      <td>1</td>\n",
       "      <td>0</td>\n",
       "      <td>2</td>\n",
       "      <td>1</td>\n",
       "      <td>0</td>\n",
       "      <td>2</td>\n",
       "      <td>0.000000</td>\n",
       "      <td>-11.0</td>\n",
       "    </tr>\n",
       "    <tr>\n",
       "      <th>4</th>\n",
       "      <td>0.0</td>\n",
       "      <td>Mexico</td>\n",
       "      <td>0.0</td>\n",
       "      <td>Brazil</td>\n",
       "      <td>11</td>\n",
       "      <td>2</td>\n",
       "      <td>5</td>\n",
       "      <td>5</td>\n",
       "      <td>8</td>\n",
       "      <td>8</td>\n",
       "      <td>11</td>\n",
       "      <td>9</td>\n",
       "      <td>11</td>\n",
       "      <td>12</td>\n",
       "      <td>12</td>\n",
       "      <td>0.666667</td>\n",
       "      <td>-13.0</td>\n",
       "    </tr>\n",
       "  </tbody>\n",
       "</table>\n",
       "</div>"
      ],
      "text/plain": [
       "   Away Team Goals Away Team Name  Home Team Goals Home Team Name  \\\n",
       "0              1.0        Croatia              3.0         Brazil   \n",
       "1              3.0     Costa Rica              1.0        Uruguay   \n",
       "2              0.0       Portugal              4.0        Germany   \n",
       "3              0.0        Nigeria              0.0           Iran   \n",
       "4              0.0         Mexico              0.0         Brazil   \n",
       "\n",
       "   Player 1 Overall Diff  Player 2 Overall Diff  Player 3 Overall Diff  \\\n",
       "0                      5                      4                      7   \n",
       "1                      8                      4                      5   \n",
       "2                     -5                     -4                     -3   \n",
       "3                      0                      2                      0   \n",
       "4                     11                      2                      5   \n",
       "\n",
       "   Player 4 Overall Diff  Player 5 Overall Diff  Player 6 Overall Diff  \\\n",
       "0                      5                      8                      9   \n",
       "1                      7                      5                      5   \n",
       "2                     -7                     -8                     -9   \n",
       "3                      2                      0                      1   \n",
       "4                      5                      8                      8   \n",
       "\n",
       "   Player 7 Overall Diff  Player 8 Overall Diff  Player 9 Overall Diff  \\\n",
       "0                     10                      9                     11   \n",
       "1                      6                      6                      6   \n",
       "2                    -10                    -13                    -10   \n",
       "3                      0                      2                      1   \n",
       "4                     11                      9                     11   \n",
       "\n",
       "   Player 10 Overall Diff  Player 11 Overall Diff  Avg Goals Diff  \\\n",
       "0                      12                      13        2.000000   \n",
       "1                       7                       7       -1.333333   \n",
       "2                     -11                     -11        4.000000   \n",
       "3                       0                       2        0.000000   \n",
       "4                      12                      12        0.666667   \n",
       "\n",
       "   FIFA Rank Diff  \n",
       "0           -16.0  \n",
       "1            -8.0  \n",
       "2            -3.0  \n",
       "3           -11.0  \n",
       "4           -13.0  "
      ]
     },
     "execution_count": 3,
     "metadata": {},
     "output_type": "execute_result"
    }
   ],
   "source": [
    "data.head()"
   ]
  },
  {
   "cell_type": "markdown",
   "metadata": {},
   "source": [
    "# Set `X` and `y`"
   ]
  },
  {
   "cell_type": "code",
   "execution_count": 4,
   "metadata": {},
   "outputs": [
    {
     "data": {
      "text/plain": [
       "Index(['Away Team Goals', 'Away Team Name', 'Home Team Goals',\n",
       "       'Home Team Name', 'Player 1 Overall Diff', 'Player 2 Overall Diff',\n",
       "       'Player 3 Overall Diff', 'Player 4 Overall Diff',\n",
       "       'Player 5 Overall Diff', 'Player 6 Overall Diff',\n",
       "       'Player 7 Overall Diff', 'Player 8 Overall Diff',\n",
       "       'Player 9 Overall Diff', 'Player 10 Overall Diff',\n",
       "       'Player 11 Overall Diff', 'Avg Goals Diff', 'FIFA Rank Diff'],\n",
       "      dtype='object')"
      ]
     },
     "execution_count": 4,
     "metadata": {},
     "output_type": "execute_result"
    }
   ],
   "source": [
    "data.columns"
   ]
  },
  {
   "cell_type": "code",
   "execution_count": 5,
   "metadata": {},
   "outputs": [],
   "source": [
    "X = data.drop([\"Away Team Goals\", \"Home Team Goals\"], axis=1)\n",
    "\n",
    "y = []\n",
    "for i in range(len(data)):\n",
    "    home_team_goals = data[\"Home Team Goals\"][i]\n",
    "    away_team_goals = data[\"Away Team Goals\"][i]\n",
    "    \n",
    "    if home_team_goals > away_team_goals:\n",
    "        y.append(1)\n",
    "    elif home_team_goals < away_team_goals:\n",
    "        y.append(2)\n",
    "    else:\n",
    "        y.append(0)"
   ]
  },
  {
   "cell_type": "code",
   "execution_count": 6,
   "metadata": {},
   "outputs": [],
   "source": [
    "# Test\n",
    "assert len(X) == len(y)"
   ]
  },
  {
   "cell_type": "markdown",
   "metadata": {},
   "source": [
    "### Encode textual features from the `X` dataset"
   ]
  },
  {
   "cell_type": "code",
   "execution_count": 7,
   "metadata": {},
   "outputs": [],
   "source": [
    "word_cup_teams = [\n",
    "    \"Egypt\",\n",
    "    \"Morocco\",\n",
    "    \"Nigeria\",\n",
    "    \"Senegal\",\n",
    "    \"Tunisia\",\n",
    "    \"Australia\",\n",
    "    \"IR Iran\",\n",
    "    \"Japan\",\n",
    "    \"Korea DPR\",\n",
    "    \"Saudi Arabia\",\n",
    "    \"Belgium\",\n",
    "    \"Croatia\",\n",
    "    \"Denmark\",\n",
    "    \"England\",\n",
    "    \"France\",\n",
    "    \"Germany\",\n",
    "    \"Iceland\",\n",
    "    \"Poland\",\n",
    "    \"Portugal\",\n",
    "    \"Russia\",\n",
    "    \"Serbia\",\n",
    "    \"Spain\",\n",
    "    \"Sweden\",\n",
    "    \"Switzerland\",\n",
    "    \"Costa Rica\",\n",
    "    \"Mexico\",\n",
    "    \"Panama\",\n",
    "    \"Argentina\",\n",
    "    \"Brazil\",\n",
    "    \"Colombia\",\n",
    "    \"Peru\",\n",
    "    \"Uruguay\"\n",
    "]\n",
    "\n",
    "team_names = list(data[\"Home Team Name\"].unique()) + list(data[\"Away Team Name\"].unique()) + word_cup_teams"
   ]
  },
  {
   "cell_type": "code",
   "execution_count": 8,
   "metadata": {},
   "outputs": [],
   "source": [
    "team_name_encoder = LabelEncoder().fit(team_names)"
   ]
  },
  {
   "cell_type": "code",
   "execution_count": 9,
   "metadata": {},
   "outputs": [],
   "source": [
    "X[\"Home Team Name\"] = team_name_encoder.transform(X[\"Home Team Name\"])\n",
    "X[\"Away Team Name\"] = team_name_encoder.transform(X[\"Away Team Name\"])"
   ]
  },
  {
   "cell_type": "markdown",
   "metadata": {},
   "source": [
    "### Feature Selection"
   ]
  },
  {
   "cell_type": "code",
   "execution_count": 10,
   "metadata": {},
   "outputs": [],
   "source": [
    "feature_names = [\n",
    "    \"Away Team Name\",\n",
    "    \"Home Team Name\",\n",
    "    # \"Overall\",\n",
    "    \"Avg Goals Diff\",\n",
    "    \"FIFA Rank Diff\"\n",
    "]\n",
    "COLUMNS = []\n",
    "\n",
    "for column_name in X.columns:\n",
    "    for feature_name in feature_names:\n",
    "        if feature_name in column_name:\n",
    "            COLUMNS.append(column_name)\n",
    "            break\n",
    "\n",
    "X = X[COLUMNS]"
   ]
  },
  {
   "cell_type": "code",
   "execution_count": 11,
   "metadata": {
    "scrolled": true
   },
   "outputs": [
    {
     "data": {
      "text/plain": [
       "['Away Team Name', 'Home Team Name', 'Avg Goals Diff', 'FIFA Rank Diff']"
      ]
     },
     "execution_count": 11,
     "metadata": {},
     "output_type": "execute_result"
    }
   ],
   "source": [
    "COLUMNS"
   ]
  },
  {
   "cell_type": "markdown",
   "metadata": {},
   "source": [
    "# Traning Session"
   ]
  },
  {
   "cell_type": "code",
   "execution_count": 12,
   "metadata": {
    "scrolled": true
   },
   "outputs": [
    {
     "name": "stdout",
     "output_type": "stream",
     "text": [
      "<class 'pandas.core.frame.DataFrame'>\n",
      "RangeIndex: 306 entries, 0 to 305\n",
      "Data columns (total 4 columns):\n",
      "Away Team Name    306 non-null int64\n",
      "Home Team Name    306 non-null int64\n",
      "Avg Goals Diff    306 non-null float64\n",
      "FIFA Rank Diff    306 non-null float64\n",
      "dtypes: float64(2), int64(2)\n",
      "memory usage: 9.6 KB\n"
     ]
    }
   ],
   "source": [
    "X.info()"
   ]
  },
  {
   "cell_type": "code",
   "execution_count": 13,
   "metadata": {},
   "outputs": [
    {
     "data": {
      "text/html": [
       "<div>\n",
       "<style scoped>\n",
       "    .dataframe tbody tr th:only-of-type {\n",
       "        vertical-align: middle;\n",
       "    }\n",
       "\n",
       "    .dataframe tbody tr th {\n",
       "        vertical-align: top;\n",
       "    }\n",
       "\n",
       "    .dataframe thead th {\n",
       "        text-align: right;\n",
       "    }\n",
       "</style>\n",
       "<table border=\"1\" class=\"dataframe\">\n",
       "  <thead>\n",
       "    <tr style=\"text-align: right;\">\n",
       "      <th></th>\n",
       "      <th>Away Team Name</th>\n",
       "      <th>Home Team Name</th>\n",
       "      <th>Avg Goals Diff</th>\n",
       "      <th>FIFA Rank Diff</th>\n",
       "    </tr>\n",
       "  </thead>\n",
       "  <tbody>\n",
       "    <tr>\n",
       "      <th>count</th>\n",
       "      <td>306.000000</td>\n",
       "      <td>306.000000</td>\n",
       "      <td>306.000000</td>\n",
       "      <td>306.000000</td>\n",
       "    </tr>\n",
       "    <tr>\n",
       "      <th>mean</th>\n",
       "      <td>15.539216</td>\n",
       "      <td>14.366013</td>\n",
       "      <td>0.320261</td>\n",
       "      <td>-1.450980</td>\n",
       "    </tr>\n",
       "    <tr>\n",
       "      <th>std</th>\n",
       "      <td>10.359130</td>\n",
       "      <td>10.229338</td>\n",
       "      <td>1.611076</td>\n",
       "      <td>25.412645</td>\n",
       "    </tr>\n",
       "    <tr>\n",
       "      <th>min</th>\n",
       "      <td>0.000000</td>\n",
       "      <td>0.000000</td>\n",
       "      <td>-6.000000</td>\n",
       "      <td>-67.000000</td>\n",
       "    </tr>\n",
       "    <tr>\n",
       "      <th>25%</th>\n",
       "      <td>5.000000</td>\n",
       "      <td>5.000000</td>\n",
       "      <td>-0.458333</td>\n",
       "      <td>-13.750000</td>\n",
       "    </tr>\n",
       "    <tr>\n",
       "      <th>50%</th>\n",
       "      <td>17.000000</td>\n",
       "      <td>11.000000</td>\n",
       "      <td>0.250000</td>\n",
       "      <td>-3.000000</td>\n",
       "    </tr>\n",
       "    <tr>\n",
       "      <th>75%</th>\n",
       "      <td>24.000000</td>\n",
       "      <td>24.000000</td>\n",
       "      <td>1.000000</td>\n",
       "      <td>9.750000</td>\n",
       "    </tr>\n",
       "    <tr>\n",
       "      <th>max</th>\n",
       "      <td>33.000000</td>\n",
       "      <td>33.000000</td>\n",
       "      <td>6.000000</td>\n",
       "      <td>64.000000</td>\n",
       "    </tr>\n",
       "  </tbody>\n",
       "</table>\n",
       "</div>"
      ],
      "text/plain": [
       "       Away Team Name  Home Team Name  Avg Goals Diff  FIFA Rank Diff\n",
       "count      306.000000      306.000000      306.000000      306.000000\n",
       "mean        15.539216       14.366013        0.320261       -1.450980\n",
       "std         10.359130       10.229338        1.611076       25.412645\n",
       "min          0.000000        0.000000       -6.000000      -67.000000\n",
       "25%          5.000000        5.000000       -0.458333      -13.750000\n",
       "50%         17.000000       11.000000        0.250000       -3.000000\n",
       "75%         24.000000       24.000000        1.000000        9.750000\n",
       "max         33.000000       33.000000        6.000000       64.000000"
      ]
     },
     "execution_count": 13,
     "metadata": {},
     "output_type": "execute_result"
    }
   ],
   "source": [
    "X.describe()"
   ]
  },
  {
   "cell_type": "code",
   "execution_count": 15,
   "metadata": {},
   "outputs": [],
   "source": [
    "rf_model = RandomForestClassifier(n_estimators=1100, max_depth=10, bootstrap=True, n_jobs=-1)"
   ]
  },
  {
   "cell_type": "code",
   "execution_count": 16,
   "metadata": {},
   "outputs": [
    {
     "data": {
      "text/plain": [
       "RandomForestClassifier(bootstrap=True, class_weight=None, criterion='gini',\n",
       "            max_depth=10, max_features='auto', max_leaf_nodes=None,\n",
       "            min_impurity_decrease=0.0, min_impurity_split=None,\n",
       "            min_samples_leaf=1, min_samples_split=2,\n",
       "            min_weight_fraction_leaf=0.0, n_estimators=1100, n_jobs=-1,\n",
       "            oob_score=False, random_state=None, verbose=0,\n",
       "            warm_start=False)"
      ]
     },
     "execution_count": 16,
     "metadata": {},
     "output_type": "execute_result"
    }
   ],
   "source": [
    "rf_model.fit(X, y)"
   ]
  },
  {
   "cell_type": "code",
   "execution_count": null,
   "metadata": {},
   "outputs": [],
   "source": []
  },
  {
   "cell_type": "markdown",
   "metadata": {},
   "source": [
    "# Save model and encoders"
   ]
  },
  {
   "cell_type": "code",
   "execution_count": 17,
   "metadata": {},
   "outputs": [],
   "source": [
    "with open(\"rf_model.b\", \"wb\") as f:\n",
    "    pickle.dump(rf_model, f)\n",
    "\n",
    "with open(\"team_name_encoder.b\", \"wb\") as f:\n",
    "    pickle.dump(team_name_encoder, f)"
   ]
  },
  {
   "cell_type": "code",
   "execution_count": null,
   "metadata": {},
   "outputs": [],
   "source": []
  },
  {
   "cell_type": "code",
   "execution_count": null,
   "metadata": {},
   "outputs": [],
   "source": []
  }
 ],
 "metadata": {
  "kernelspec": {
   "display_name": "Python 3",
   "language": "python",
   "name": "python3"
  },
  "language_info": {
   "codemirror_mode": {
    "name": "ipython",
    "version": 3
   },
   "file_extension": ".py",
   "mimetype": "text/x-python",
   "name": "python",
   "nbconvert_exporter": "python",
   "pygments_lexer": "ipython3",
   "version": "3.6.5"
  }
 },
 "nbformat": 4,
 "nbformat_minor": 2
}
